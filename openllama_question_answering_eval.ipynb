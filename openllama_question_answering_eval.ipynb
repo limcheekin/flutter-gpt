{
 "cells": [
  {
   "attachments": {},
   "cell_type": "markdown",
   "id": "e78b7bb1",
   "metadata": {},
   "source": [
    "# Data Augmented Question Answering\n",
    "https://python.langchain.com/en/latest/use_cases/evaluation/data_augmented_question_answering.html \n",
    "\n",
    "This notebook uses some generic prompts/language models to evaluate an question answering system that uses other sources of data besides what is in the model. For example, this can be used to evaluate a question answering system over your proprietary data.\n",
    "\n",
    "## Setup\n",
    "Let's set up for my own use case."
   ]
  },
  {
   "cell_type": "code",
   "execution_count": 1,
   "id": "eed819d3",
   "metadata": {},
   "outputs": [
    {
     "name": "stdout",
     "output_type": "stream",
     "text": [
      "Note: you may need to restart the kernel to use updated packages.\n"
     ]
    }
   ],
   "source": [
    "%pip install -qU supabase"
   ]
  },
  {
   "cell_type": "code",
   "execution_count": 2,
   "id": "ab4a6931",
   "metadata": {},
   "outputs": [
    {
     "data": {
      "text/plain": [
       "True"
      ]
     },
     "execution_count": 2,
     "metadata": {},
     "output_type": "execute_result"
    }
   ],
   "source": [
    "from langchain.llms import LlamaCpp\n",
    "from langchain.prompts.chat import (\n",
    "    ChatPromptTemplate,\n",
    "    SystemMessagePromptTemplate,\n",
    "    HumanMessagePromptTemplate,\n",
    ")\n",
    "from langchain.chains import RetrievalQA\n",
    "from langchain.embeddings import HuggingFaceEmbeddings\n",
    "from supabase.client import Client, create_client\n",
    "from langchain.vectorstores import SupabaseVectorStore\n",
    "import os\n",
    "from dotenv import load_dotenv\n",
    "load_dotenv(dotenv_path=\".env_supabase\")"
   ]
  },
  {
   "cell_type": "code",
   "execution_count": 3,
   "id": "373dc759",
   "metadata": {},
   "outputs": [
    {
     "name": "stdout",
     "output_type": "stream",
     "text": [
      "loading model...\n"
     ]
    },
    {
     "name": "stderr",
     "output_type": "stream",
     "text": [
      "llama.cpp: loading model from ./open-llama/ggml-model-q4_0.bin\n",
      "llama_model_load_internal: format     = ggjt v1 (latest)\n",
      "llama_model_load_internal: n_vocab    = 32000\n",
      "llama_model_load_internal: n_ctx      = 2048\n",
      "llama_model_load_internal: n_embd     = 4096\n",
      "llama_model_load_internal: n_mult     = 256\n",
      "llama_model_load_internal: n_head     = 32\n",
      "llama_model_load_internal: n_layer    = 32\n",
      "llama_model_load_internal: n_rot      = 128\n",
      "llama_model_load_internal: ftype      = 2 (mostly Q4_0)\n",
      "llama_model_load_internal: n_ff       = 11008\n",
      "llama_model_load_internal: n_parts    = 1\n",
      "llama_model_load_internal: model size = 7B\n",
      "llama_model_load_internal: ggml ctx size =  68.20 KB\n",
      "llama_model_load_internal: mem required  = 5809.33 MB (+ 1026.00 MB per state)\n",
      "llama_init_from_file: kv self size  = 1024.00 MB\n",
      "AVX = 1 | AVX2 = 0 | AVX512 = 0 | AVX512_VBMI = 0 | AVX512_VNNI = 0 | FMA = 0 | NEON = 0 | ARM_FMA = 0 | F16C = 1 | FP16_VA = 0 | WASM_SIMD = 0 | BLAS = 0 | SSE3 = 1 | VSX = 0 | \n"
     ]
    }
   ],
   "source": [
    "supabase_url = os.environ.get(\"SUPABASE_URL\")\n",
    "supabase_key = os.environ.get(\"SUPABASE_KEY\")\n",
    "supabase: Client = create_client(supabase_url, supabase_key)\n",
    "\n",
    "def get_retriever(k: int = 3):\n",
    "    embedding_model_name = os.environ.get(\"EMBEDDING_MODEL_NAME\")\n",
    "    embedding = HuggingFaceEmbeddings(model_name=embedding_model_name)\n",
    "    vector_store = SupabaseVectorStore(\n",
    "        client=supabase, embedding=embedding, table_name=\"documents\")\n",
    "    retriever = vector_store.as_retriever(search_kwargs={\"k\": k})\n",
    "    return retriever\n",
    "\n",
    "print('loading model...')\n",
    "\n",
    "llm = LlamaCpp(\n",
    "        model_path=\"./open-llama/ggml-model-q4_0.bin\",\n",
    "        temperature=0.0,\n",
    "        n_ctx=2048,\n",
    "        verbose=True\n",
    ")"
   ]
  },
  {
   "cell_type": "code",
   "execution_count": 4,
   "id": "4fdc211d",
   "metadata": {},
   "outputs": [
    {
     "name": "stderr",
     "output_type": "stream",
     "text": [
      "/home/limcheekin/ws/py/flutter-gpt/venv/lib/python3.10/site-packages/tqdm/auto.py:21: TqdmWarning: IProgress not found. Please update jupyter and ipywidgets. See https://ipywidgets.readthedocs.io/en/stable/user_install.html\n",
      "  from .autonotebook import tqdm as notebook_tqdm\n",
      "2023-05-10 16:14:17,882:INFO - Load pretrained SentenceTransformer: sentence-transformers/all-mpnet-base-v2\n",
      "2023-05-10 16:14:21,604:INFO - Use pytorch device: cpu\n"
     ]
    }
   ],
   "source": [
    "qa = RetrievalQA.from_llm(llm=llm, retriever=get_retriever())"
   ]
  },
  {
   "attachments": {},
   "cell_type": "markdown",
   "id": "30fd72f2",
   "metadata": {},
   "source": [
    "## Examples\n",
    "Now we need some examples to evaluate. We can do this in two ways:\n",
    "\n",
    "1. Hard code some examples ourselves\n",
    "2. Generate examples automatically, using a language model"
   ]
  },
  {
   "cell_type": "code",
   "execution_count": 5,
   "id": "3459b001",
   "metadata": {},
   "outputs": [],
   "source": [
    "# Hard-coded examples\n",
    "examples = [\n",
    "{\n",
    "\"query\": \"What is Flutter?\",\n",
    "\"answer\": \"Flutter is an open-source mobile application development framework developed by Google. It allows developers to build high-performance, natively compiled mobile apps for iOS and Android, as well as for the web and desktop.\"\n",
    "},\n",
    "{\n",
    "\"query\": \"What programming language is used in Flutter?\",\n",
    "\"answer\": \"Flutter uses Dart programming language, which is also developed by Google. Dart is a modern, object-oriented language with features like garbage collection, type inference, and asynchronous programming.\"\n",
    "},\n",
    "{\n",
    "\"query\": \"How do I install Flutter?\",\n",
    "\"answer\": \"To install Flutter, you need to first download the Flutter SDK from the official Flutter website. Once downloaded, extract the contents of the zip file to a desired location on your system, and then add the Flutter SDK's bin directory to your system's PATH environment variable.\"\n",
    "},\n",
    "{\n",
    "\"query\": \"How do I create a new Flutter project?\",\n",
    "\"answer\": \"To create a new Flutter project, you can use the flutter create command in the terminal, followed by the name of your project. This will create a new Flutter project with the required directory structure and files.\"\n",
    "},\n",
    "{\n",
    "\"query\": \"What is a widget in Flutter?\",\n",
    "\"answer\": \"In Flutter, everything is a widget. A widget is a basic building block of a Flutter app, which can be thought of as a visual element or a part of the user interface. Widgets can be either stateful or stateless.\"\n",
    "},\n",
    "{\n",
    "\"query\": \"What is the difference between stateful and stateless widgets?\",\n",
    "\"answer\": \"A stateful widget is a widget that contains mutable state, i.e., data that can change over time. A stateless widget, on the other hand, is a widget that does not contain any mutable state and is purely based on its input parameters.\"\n",
    "},\n",
    "{\n",
    "\"query\": \"How do I handle user input in Flutter?\",\n",
    "\"answer\": \"To handle user input in Flutter, you can use various event handlers like onPressed for buttons, onChanged for text fields, etc. You can also use Flutter's GestureDetector widget to detect gestures like tapping, swiping, etc.\"\n",
    "},\n",
    "{\n",
    "\"query\": \"How do I navigate between screens in Flutter?\",\n",
    "\"answer\": \"To navigate between screens in Flutter, you can use the Navigator class. You can push a new screen onto the navigation stack using the Navigator.push method, and pop the current screen using the Navigator.pop method.\"\n",
    "},\n",
    "{\n",
    "\"query\": \"How do I handle async operations in Flutter?\",\n",
    "\"answer\": \"In Flutter, you can use the async and await keywords to handle async operations. You can use the Future class to represent a value or error that may be available at some point in the future, and use async functions to wait for these values.\"\n",
    "},\n",
    "{\n",
    "\"query\": \"What is a FutureBuilder in Flutter?\",\n",
    "\"answer\": \"A FutureBuilder is a widget in Flutter that makes it easy to build UIs that depend on asynchronous data. It takes a Future as input and rebuilds itself whenever the future completes with either a value or an error.\"\n",
    "},\n",
    "{\n",
    "\"query\": \"How do I add animations in Flutter?\",\n",
    "\"answer\": \"In Flutter, you can use the Animation class to create animations. You can define an animation by specifying the start and end values, a duration, and a curve. You can then use an AnimationController to control the animation and update the UI accordingly.\"\n",
    "},\n",
    "{\n",
    "\"query\": \"How do I add images in Flutter?\",\n",
    "\"answer\": \"To add images in Flutter, you can use the Image widget. You can specify the source of the image using a URL or a local file path. You can also specify the width and height of the image, as well as various other properties like the fit, alignment, and color.\"\n",
    "},\n",
    "{\n",
    "\"query\": \"How do I add custom fonts in Flutter?\",\n",
    "\"answer\": \"To add custom fonts in Flutter, you need to first add the font files to your project's assets directory. You then need to specify the font family and file name in your pubspec.yaml file. You can then use the TextStyle widget to apply the custom font to your text.\"\n",
    "},\n",
    "{\n",
    "\"query\": \"How do I add a splash screen in Flutter?\",\n",
    "\"answer\": \"To add a splash screen in Flutter, you can create a new widget that displays your app's logo or branding, and then use it as the first screen in your app. You can then use a FutureBuilder to load the data required for your app's home screen, and navigate to it once the data is loaded.\"\n",
    "},\n",
    "{\n",
    "\"query\": \"How do I add internationalization (i18n) support to my Flutter app?\",\n",
    "\"answer\": \"To add internationalization support to your Flutter app, you can use the intl package. You can define a set of messages for each supported language, and use the Localizations widget to load the appropriate message set based on the user's device language.\"\n",
    "},\n",
    "{\n",
    "\"query\": \"How do I use the camera in Flutter?\",\n",
    "\"answer\": \"To use the camera in Flutter, you can use the camera package. You can use the CameraController class to control the camera and capture images or videos. You can also use various other packages for advanced camera features like barcode scanning and face detection.\"\n",
    "},\n",
    "{\n",
    "\"query\": \"How do I use the device's sensors in Flutter?\",\n",
    "\"answer\": \"To use the device's sensors in Flutter, you can use various packages like sensors, flutter_blue, etc. These packages provide APIs to access the device's sensors like accelerometer, gyroscope, magnetometer, etc.\"\n",
    "},\n",
    "{\n",
    "\"query\": \"How do I use Firebase in Flutter?\",\n",
    "\"answer\": \"To use Firebase in Flutter, you need to first add the Firebase SDK to your app by following the setup instructions provided by Firebase. Once done, you can use various Firebase services like authentication, database, storage, etc. using the respective Flutter plugins.\"\n",
    "},\n",
    "{\n",
    "\"query\": \"How do I test my Flutter app?\",\n",
    "\"answer\": \"To test your Flutter app, you can use Flutter's built-in testing framework called flutter_test. You can write unit tests, widget tests, and integration tests using this framework. You can also use various third-party testing tools like mockito, flutter_driver, etc.\"\n",
    "},\n",
    "{\n",
    "\"query\": \"How do I deploy my Flutter app?\",\n",
    "\"answer\": \"To deploy your Flutter app, you can use various methods like publishing to the app stores, creating APKs or IPA files for distribution, deploying to web or desktop platforms, etc. You can also use various third-party tools like Google Play Console, Apple App Store Connect, etc. for app store deployment.\"\n",
    "}\n",
    "]"
   ]
  },
  {
   "cell_type": "code",
   "execution_count": 6,
   "id": "fe473fe4",
   "metadata": {},
   "outputs": [
    {
     "data": {
      "text/plain": [
       "[{'query': 'What is Flutter?',\n",
       "  'answer': 'Flutter is an open-source mobile application development framework developed by Google. It allows developers to build high-performance, natively compiled mobile apps for iOS and Android, as well as for the web and desktop.'},\n",
       " {'query': 'What programming language is used in Flutter?',\n",
       "  'answer': 'Flutter uses Dart programming language, which is also developed by Google. Dart is a modern, object-oriented language with features like garbage collection, type inference, and asynchronous programming.'},\n",
       " {'query': 'How do I install Flutter?',\n",
       "  'answer': \"To install Flutter, you need to first download the Flutter SDK from the official Flutter website. Once downloaded, extract the contents of the zip file to a desired location on your system, and then add the Flutter SDK's bin directory to your system's PATH environment variable.\"},\n",
       " {'query': 'How do I create a new Flutter project?',\n",
       "  'answer': 'To create a new Flutter project, you can use the flutter create command in the terminal, followed by the name of your project. This will create a new Flutter project with the required directory structure and files.'},\n",
       " {'query': 'What is a widget in Flutter?',\n",
       "  'answer': 'In Flutter, everything is a widget. A widget is a basic building block of a Flutter app, which can be thought of as a visual element or a part of the user interface. Widgets can be either stateful or stateless.'},\n",
       " {'query': 'What is the difference between stateful and stateless widgets?',\n",
       "  'answer': 'A stateful widget is a widget that contains mutable state, i.e., data that can change over time. A stateless widget, on the other hand, is a widget that does not contain any mutable state and is purely based on its input parameters.'},\n",
       " {'query': 'How do I handle user input in Flutter?',\n",
       "  'answer': \"To handle user input in Flutter, you can use various event handlers like onPressed for buttons, onChanged for text fields, etc. You can also use Flutter's GestureDetector widget to detect gestures like tapping, swiping, etc.\"},\n",
       " {'query': 'How do I navigate between screens in Flutter?',\n",
       "  'answer': 'To navigate between screens in Flutter, you can use the Navigator class. You can push a new screen onto the navigation stack using the Navigator.push method, and pop the current screen using the Navigator.pop method.'},\n",
       " {'query': 'How do I handle async operations in Flutter?',\n",
       "  'answer': 'In Flutter, you can use the async and await keywords to handle async operations. You can use the Future class to represent a value or error that may be available at some point in the future, and use async functions to wait for these values.'},\n",
       " {'query': 'What is a FutureBuilder in Flutter?',\n",
       "  'answer': 'A FutureBuilder is a widget in Flutter that makes it easy to build UIs that depend on asynchronous data. It takes a Future as input and rebuilds itself whenever the future completes with either a value or an error.'}]"
      ]
     },
     "execution_count": 6,
     "metadata": {},
     "output_type": "execute_result"
    }
   ],
   "source": [
    "examples[:10]"
   ]
  },
  {
   "cell_type": "code",
   "execution_count": null,
   "id": "b9c3fa75",
   "metadata": {},
   "outputs": [],
   "source": [
    "# Generated examples\n",
    "from langchain.evaluation.qa import QAGenerateChain\n",
    "example_gen_chain = QAGenerateChain.from_llm(OpenAI())"
   ]
  },
  {
   "cell_type": "code",
   "execution_count": null,
   "id": "c24543a9",
   "metadata": {},
   "outputs": [],
   "source": [
    "new_examples = example_gen_chain.apply_and_parse([{\"doc\": t} for t in texts[:5]])"
   ]
  },
  {
   "cell_type": "code",
   "execution_count": null,
   "id": "a2d27560",
   "metadata": {},
   "outputs": [],
   "source": [
    "new_examples"
   ]
  },
  {
   "cell_type": "code",
   "execution_count": null,
   "id": "558da6f3",
   "metadata": {},
   "outputs": [],
   "source": [
    "# Combine examples\n",
    "examples += new_examples"
   ]
  },
  {
   "attachments": {},
   "cell_type": "markdown",
   "id": "443dc34e",
   "metadata": {},
   "source": [
    "## Evaluate\n",
    "Now that we have examples, we can use the question answering evaluator to evaluate our question answering chain."
   ]
  },
  {
   "cell_type": "code",
   "execution_count": 7,
   "id": "782169a5",
   "metadata": {},
   "outputs": [],
   "source": [
    "from langchain.evaluation.qa import QAEvalChain"
   ]
  },
  {
   "cell_type": "code",
   "execution_count": 8,
   "id": "1bb77416",
   "metadata": {},
   "outputs": [
    {
     "name": "stderr",
     "output_type": "stream",
     "text": [
      "2023-05-10 16:20:48,115:WARNING - Failed to load default session, using empty session: HTTPConnectionPool(host='localhost', port=8000): Max retries exceeded with url: /sessions?name=default (Caused by NewConnectionError('<urllib3.connection.HTTPConnection object at 0x7fa05cd6d900>: Failed to establish a new connection: [Errno 111] Connection refused'))\n",
      "Batches: 100%|██████████| 1/1 [00:00<00:00,  3.42it/s]\n",
      "2023-05-10 16:41:54,628:WARNING - Failed to persist run: HTTPConnectionPool(host='localhost', port=8000): Max retries exceeded with url: /chain-runs (Caused by NewConnectionError('<urllib3.connection.HTTPConnection object at 0x7fa05cd51db0>: Failed to establish a new connection: [Errno 111] Connection refused'))\n",
      "2023-05-10 16:41:54,632:WARNING - Failed to load default session, using empty session: HTTPConnectionPool(host='localhost', port=8000): Max retries exceeded with url: /sessions?name=default (Caused by NewConnectionError('<urllib3.connection.HTTPConnection object at 0x7fa05cd508e0>: Failed to establish a new connection: [Errno 111] Connection refused'))\n",
      "Batches: 100%|██████████| 1/1 [00:00<00:00,  5.12it/s]\n",
      "Llama.generate: prefix-match hit\n",
      "2023-05-10 17:04:55,058:WARNING - Failed to persist run: {\"detail\":\"Not Found\"}\n",
      "2023-05-10 17:04:55,073:WARNING - Failed to load default session, using empty session: 0\n",
      "Batches: 100%|██████████| 1/1 [00:00<00:00,  1.70it/s]\n",
      "Llama.generate: prefix-match hit\n",
      "2023-05-10 17:22:47,784:WARNING - Failed to persist run: {\"detail\":\"Not Found\"}\n",
      "2023-05-10 17:22:47,790:WARNING - Failed to load default session, using empty session: 0\n",
      "Batches: 100%|██████████| 1/1 [00:00<00:00,  7.45it/s]\n",
      "Llama.generate: prefix-match hit\n",
      "2023-05-10 17:40:11,195:WARNING - Failed to persist run: {\"detail\":\"Not Found\"}\n",
      "2023-05-10 17:40:11,201:WARNING - Failed to load default session, using empty session: 0\n",
      "Batches: 100%|██████████| 1/1 [00:00<00:00,  3.75it/s]\n",
      "Llama.generate: prefix-match hit\n",
      "2023-05-10 18:00:14,440:WARNING - Failed to persist run: {\"detail\":\"Not Found\"}\n",
      "2023-05-10 18:00:14,447:WARNING - Failed to load default session, using empty session: 0\n",
      "Batches: 100%|██████████| 1/1 [00:00<00:00,  6.72it/s]\n",
      "Llama.generate: prefix-match hit\n",
      "2023-05-10 18:19:53,696:WARNING - Failed to persist run: {\"detail\":\"Not Found\"}\n",
      "2023-05-10 18:19:53,703:WARNING - Failed to load default session, using empty session: 0\n",
      "Batches: 100%|██████████| 1/1 [00:00<00:00,  5.10it/s]\n",
      "Llama.generate: prefix-match hit\n",
      "2023-05-10 18:36:46,697:WARNING - Failed to persist run: {\"detail\":\"Not Found\"}\n",
      "2023-05-10 18:36:46,703:WARNING - Failed to load default session, using empty session: 0\n",
      "Batches: 100%|██████████| 1/1 [00:00<00:00,  5.91it/s]\n",
      "Llama.generate: prefix-match hit\n",
      "2023-05-10 18:51:56,077:WARNING - Failed to persist run: {\"detail\":\"Not Found\"}\n",
      "2023-05-10 18:51:56,083:WARNING - Failed to load default session, using empty session: 0\n",
      "Batches: 100%|██████████| 1/1 [00:00<00:00,  5.53it/s]\n",
      "Llama.generate: prefix-match hit\n",
      "2023-05-10 19:10:08,440:WARNING - Failed to persist run: {\"detail\":\"Not Found\"}\n",
      "2023-05-10 19:10:08,446:WARNING - Failed to load default session, using empty session: 0\n",
      "Batches: 100%|██████████| 1/1 [00:00<00:00,  5.83it/s]\n",
      "Llama.generate: prefix-match hit\n",
      "2023-05-10 19:22:53,641:WARNING - Failed to persist run: {\"detail\":\"Not Found\"}\n"
     ]
    }
   ],
   "source": [
    "predictions = qa.apply(examples[:10])"
   ]
  },
  {
   "cell_type": "code",
   "execution_count": 13,
   "id": "1057d978",
   "metadata": {},
   "outputs": [
    {
     "data": {
      "text/plain": [
       "{'query': 'What is Flutter?',\n",
       " 'answer': 'Flutter is an open-source mobile application development framework developed by Google. It allows developers to build high-performance, natively compiled mobile apps for iOS and Android, as well as for the web and desktop.',\n",
       " 'result': ' Flutter is a cross-platform UI toolkit that is designed to allow code reuse across operating systems such as iOS and Android, while also allowing applications to interface directly with underlying platform services. The goal is to enable developers to deliver high-performance apps that feel natural on different platforms, embracing differences where they exist while sharing as much code as possible.\\\\\\\\\\\\\\\\\\\\\\\\\\\\\\\\\\\\\\\\\\\\\\\\\\\\\\\\\\\\\\\\\\\\\\\\\\\\\\\\\\\\\\\\\\\\\\\\\\\\\\\\\\\\\\\\\\\\\\\\\\\\\\\\\\\\\\\\\\\\\\\\\\\\\\\\\\\\\\\\\\\\\\\\\\\\\\\\\\\\\\\\\\\\\\\\\\\\\\\\\\\\\\\\\\\\\\\\\\\\\\\\\\\\\\\\\\\\\\\\\\\\\\\\\\\\\\\\\\\\\\\\\\\\\\\\\\\\\\\\\\\\\\\\\\\\\\\\\\\\\\\\\\\\\\\\\\\\\\\\\\\\\\\\\\\\\\\\\\\\\\\\\\\\\\\\\\\\\\\\\\\\\\\\\\\\\\\\\\\\\\\\\\\\\\\\\\\\\\\\\\\\\\\\\\\\\\\\\\\\\\\\\\\\\\\\\\\\\\\\\\\\\\\\\\\\\\\\\\\\\\\\\\\\\\\\\\\\\\\\\\\\\\\\\\\\\\\\\\\\\\\\\\\\\\\\\\\\\\\\\\\\\\\\\\\\\\\\\\\\\\\\\\\\\\\\\\\\\\\\\\\\\\\\\\\\\\\\\\\\\\\\\\\\\\\\\\\\\\\\\\\\\\\\\\\\\\\\\\\\\\\\\\\\\\\\\\\\\\\\\\\\\\\\\\\\\\\\\\\\\\\\\\\\\\\\\\\\\\\\\\\\\\\\\\\\\\\\\\\\\\\\\\\\\\\\\\\\\\\\\\\\\\\\\\\\\\\\\\\\\\\\\\\\\\\\\\\\\\\\\\\\\\\\\\\\\\\\\\\\\\\\\\\\\\\\\\\\\\\\\\\\\\\\\\\\\\\\\\\\\\\\\\\\\\\\\\\\\\\\\\\\\\\\\\\\\\\\\\\\\\\\\\\\\\\\\\\\\\\\\\\\\\\\\\\\\\\\\\\\\\\\\\\\\\\\\\\\\\\\\\\\\\\\\\\\\\\\\\\\\\\\\\\\\\\\\\\\\\\\\\\\\\\\\\\\\\\\\\\\\\\\\\\\\\\\\\\\\\\\\\\\\\\\\\\\\\\\\\\\\\\\\\\\\\\\\\\\\\\\\\\\\\\\\\\\\\\\\\\\\\\\\\\\\\\\\\\\\\\\\\\\\\\\\\\\\\\\\\\\\\\\\\\\\\\\\\\\\\\\\\\\\\\\\\\\\\\\\\\\\\\\\\\\\\\\\\\\\\\\\\\\\\\\\\\\\\\\\\\\\\\\\\\\\\\\\\\\\\\\\\\\\\\\\\\\\\\\\\\\\\\\\\\\\\\\\\\\\\\\\\\\\\\\\\\\\\\\\\\\\\\\\\\\\\\\\\\\\\\\\\\\\\\\\\\\\\\\\\\\\\\\\\\\\\\\\\\\\\\\\\\\\\\\\\\\\\\\\\\\\\\\\\\\\\\\\\\\\\\\\\\\\\\\\\\\\\\\\\\\\\\\\\\\\\\\\\\\\\\\\\\\\\\\\\\\\\\\\\\\\\\\\\\\\\\\\\\\\\\\\\\\\\\\\\\\\\\\\\\\\\\\\\\\\\\\\\\\\\\\\\\\\\\\'}"
      ]
     },
     "execution_count": 13,
     "metadata": {},
     "output_type": "execute_result"
    }
   ],
   "source": [
    "predictions[0]"
   ]
  },
  {
   "cell_type": "code",
   "execution_count": 14,
   "id": "8bb1d504",
   "metadata": {},
   "outputs": [
    {
     "name": "stdout",
     "output_type": "stream",
     "text": [
      "0) What is Flutter?\n",
      "Flutter is an open-source mobile application development framework developed by Google. It allows developers to build high-performance, natively compiled mobile apps for iOS and Android, as well as for the web and desktop.\n",
      " Flutter is a cross-platform UI toolkit that is designed to allow code reuse across operating systems such as iOS and Android, while also allowing applications to interface directly with underlying platform services. The goal is to enable developers to deliver high-performance apps that feel natural on different platforms, embracing differences where they exist while sharing as much code as possible.\\\\\\\\\\\\\\\\\\\\\\\\\\\\\\\\\\\\\\\\\\\\\\\\\\\\\\\\\\\\\\\\\\\\\\\\\\\\\\\\\\\\\\\\\\\\\\\\\\\\\\\\\\\\\\\\\\\\\\\\\\\\\\\\\\\\\\\\\\\\\\\\\\\\\\\\\\\\\\\\\\\\\\\\\\\\\\\\\\\\\\\\\\\\\\\\\\\\\\\\\\\\\\\\\\\\\\\\\\\\\\\\\\\\\\\\\\\\\\\\\\\\\\\\\\\\\\\\\\\\\\\\\\\\\\\\\\\\\\\\\\\\\\\\\\\\\\\\\\\\\\\\\\\\\\\\\\\\\\\\\\\\\\\\\\\\\\\\\\\\\\\\\\\\\\\\\\\\\\\\\\\\\\\\\\\\\\\\\\\\\\\\\\\\\\\\\\\\\\\\\\\\\\\\\\\\\\\\\\\\\\\\\\\\\\\\\\\\\\\\\\\\\\\\\\\\\\\\\\\\\\\\\\\\\\\\\\\\\\\\\\\\\\\\\\\\\\\\\\\\\\\\\\\\\\\\\\\\\\\\\\\\\\\\\\\\\\\\\\\\\\\\\\\\\\\\\\\\\\\\\\\\\\\\\\\\\\\\\\\\\\\\\\\\\\\\\\\\\\\\\\\\\\\\\\\\\\\\\\\\\\\\\\\\\\\\\\\\\\\\\\\\\\\\\\\\\\\\\\\\\\\\\\\\\\\\\\\\\\\\\\\\\\\\\\\\\\\\\\\\\\\\\\\\\\\\\\\\\\\\\\\\\\\\\\\\\\\\\\\\\\\\\n",
      "\n",
      "1) What programming language is used in Flutter?\n",
      "Flutter uses Dart programming language, which is also developed by Google. Dart is a modern, object-oriented language with features like garbage collection, type inference, and asynchronous programming.\n",
      " Flutter is written in Dart, a modern, open source, object-oriented programming language. Dart is a cross-platform language that can be used to write apps for Android, iOS, macOS, Linux, and Windows. Dart is also available as a standalone language for writing apps that run on the web. Dart is a modern, open source, object-oriented programming language. It is designed to be easy to learn and use, with a simple syntax and a rich set of libraries. Dart is a cross-platform language that can be used to write apps for Android, iOS, macOS, Linux, and Windows. Dart is also available as a standalone language for writing apps that run on the web. Dart is a modern, open source, object-oriented programming language. It is designed to be easy to learn and use, with a simple syntax and a rich set of libraries. Dart is a cross-platform language that can be used to write apps for Android, iOS, macOS, Linux, and Windows. Dart is also available as a standalone language for writing apps that run on the web. Dart is a modern, open source, object-oriented programming language. It is designed to be easy to learn and use, with a simple syntax and a rich set\n",
      "\n",
      "2) How do I install Flutter?\n",
      "To install Flutter, you need to first download the Flutter SDK from the official Flutter website. Once downloaded, extract the contents of the zip file to a desired location on your system, and then add the Flutter SDK's bin directory to your system's PATH environment variable.\n",
      " You can install Flutter by running the following command:\\\\ flutter install\\\\ flutter_linux_vX.X.X-stable.tar.xz\\\\ …………………………………………………………………………………………………………………………………………………………………………………………………\n",
      "\n",
      "3) How do I create a new Flutter project?\n",
      "To create a new Flutter project, you can use the flutter create command in the terminal, followed by the name of your project. This will create a new Flutter project with the required directory structure and files.\n",
      "\\\\\\\\\\\\\\\\\\\\\\\\\\\\\\\\\\\\\\\\\\\\\\\\\\\\\\\\\\\\\\\\\\\\\\\\\\\\\\\\\\\\\\\\\\\\\\\\\\\\\\\\\\\\\\\\\\\\\\\\\\\\\\\\\\\\\\\\\\\\\\\\\\\\\\\\\\\\\\\\\\\\\\\\\\\\\\\\\\\\\\\\\\\\\\\\\\\\\\\\\\\\\\\\\\\\\\\\\\\\\\\\\\\\\\\\\\\\\\\\\\\\\\\\\\\\\\\\\\\\\\\\\\\\\\\\\\\\\\\\\\\\\\\\\\\\\\\\\\\\\\\\\\\\\\\\\\\\\\\\\\\\\\\\\\\\\\\\\\\\\\\\\\\\\\\\\\\\\\\\\\\\\\\\\\\\\\\\\\\\\\\\\\\\\\\\\\\\\\\\\\\\\\\\\\\\\\\\\\\\\\\\\\\\\\\\\\\\\\\\\\\\\\\\\\\\\\\\\\\\\\\\\\\\\\\\\\\\\\\\\\\\\\\\\\\\\\\\\\\\\\\\\\\\\\\\\\\\\\\\\\\\\\\\\\\\\\\\\\\\\\\\\\\\\\\\\\\\\\\\\\\\\\\\\\\\\\\\\\\\\\\\\\\\\\\\\\\\\\\\\\\\\\\\\\\\\\\\\\\\\\\\\\\\\\\\\\\\\\\\\\\\\\\\\\\\\\\\\\\\\\\\\\\\\\\\\\\\\\\\\\\\\\\\\\\\\\\\\\\\\\\\\\\\\\\\\\\\\\\\\\\\\\\\\\\\\\\\\\\\\\\\\\\\\\\\\\\\\\\\\\\\\\\\\\\\\\\\\\\\\\\\\\\\\\\\\\\\\\\\\\\\\\\\\\\\\\\\\\\\\\\\\\\\\\\\\\\\\\\\\\\\\\\\\\\\\\\\\\\\\\\\\\\\\\\\\\\\\\\\\\\\\\\\\\\\\\\\\\\\\\\\\\\\\\\\\\\\\\\\\\\\\\\\\\\\\\\\\\\\\\\\\\\\\\\\\\\\\\\\\\\\\\\\\\\\\\\\\\\\\\\\\\\\\\\\\\\\\\\\\\\\\\\\\\\\\\\\\\\\\\\\\n",
      "\n",
      "4) What is a widget in Flutter?\n",
      "In Flutter, everything is a widget. A widget is a basic building block of a Flutter app, which can be thought of as a visual element or a part of the user interface. Widgets can be either stateful or stateless.\n",
      " A widget is a class that describes a part of a user interface. Widgets are used to describe the appearance and behavior of widgets. Widgets are used to describe the appearance and behavior of widgets. Widgets are used to describe the appearance and behavior of widgets. Widgets are used to describe the appearance and behavior of widgets. Widgets are used to describe the appearance and behavior of widgets. Widgets are used to describe the appearance and behavior of widgets. Widgets are used to describe the appearance and behavior of widgets. Widgets are used to describe the appearance and behavior of widgets. Widgets are used to describe the appearance and behavior of widgets. Widgets are used to describe the appearance and behavior of widgets. Widgets are used to describe the appearance and behavior of widgets. Widgets are used to describe the appearance and behavior of widgets. Widgets are used to describe the appearance and behavior of widgets. Widgets are used to describe the appearance and behavior of widgets. Widgets are used to describe the appearance and behavior of widgets. Widgets are used to describe the appearance and behavior of widgets. Widget\n",
      "\n",
      "5) What is the difference between stateful and stateless widgets?\n",
      "A stateful widget is a widget that contains mutable state, i.e., data that can change over time. A stateless widget, on the other hand, is a widget that does not contain any mutable state and is purely based on its input parameters.\n",
      " Stateless widgets are created by the framework and don’t have a build method. They are used to create simple user interfaces that don’t need to be built or reused. Stateful widgets are created by the framework and can be used to create more complex user interfaces. They are used to create user interfaces that need to be built or reused. Stateless widgets are created by the framework and don’t have a build method. They are used to create simple user interfaces that don’t need to be built or reused. Stateful widgets are created by the framework and can be used to create more complex user interfaces. They are used to create user interfaces that need to be built or reused. Stateless widgets are created by the framework and don’t have a build method. They are used to create simple user interfaces that don’t need to be built or reused. Stateful widgets are created by the framework and can be used to create more complex user interfaces. They are used to create user interfaces that need to be built or reused. Stateless widgets are created by the framework and don’t have a build method. They are used to create simple user interfaces that don’t need to be built\n",
      "\n",
      "6) How do I handle user input in Flutter?\n",
      "To handle user input in Flutter, you can use various event handlers like onPressed for buttons, onChanged for text fields, etc. You can also use Flutter's GestureDetector widget to detect gestures like tapping, swiping, etc.\n",
      "\\\\\\\\\\\\\\\\\\\\\\\\\\\\\\\\\\\\\\\\\\\\\\\\\\\\\\\\\\\\\\\\\\\\\\\\\\\\\\\\\\\\\\\\\\\\\\\\\\\\\\\\\\\\\\\\\\\\\\\\\\\\\\\\\\\\\\\\\\\\\\\\\\\\\\\\\\\\\\\\\\\\\\\\\\\\\\\\\\\\\\\\\\\\\\\\\\\\\\\\\\\\\\\\\\\\\\\\\\\\\\\\\\\\\\\\\\\\\\\\\\\\\\\\\\\\\\\\\\\\\\\\\\\\\\\\\\\\\\\\\\\\\\\\\\\\\\\\\\\\\\\\\\\\\\\\\\\\\\\\\\\\\\\\\\\\\\\\\\\\\\\\\\\\\\\\\\\\\\\\\\\\\\\\\\\\\\\\\\\\\\\\\\\\\\\\\\\\\\\\\\\\\\\\\\\\\\\\\\\\\\\\\\\\\\\\\\\\\\\\\\\\\\\\\\\\\\\\\\\\\\\\\\\\\\\\\\\\\\\\\\\\\\\\\\\\\\\\\\\\\\\\\\\\\\\\\\\\\\\\\\\\\\\\\\\\\\\\\\\\\\\\\\\\\\\\\\\\\\\\\\\\\\\\\\\\\\\\\\\\\\\\\\\\\\\\\\\\\\\\\\\\\\\\\\\\\\\\\\\\\\\\\\\\\\\\\\\\\\\\\\\\\\\\\\\\\\\\\\\\\\\\\\\\\\\\\\\\\\\\\\\\\\\\\\\\\\\\\\\\\\\\\\\\\\\\\\\\\\\\\\\\\\\\\\\\\\\\\\\\\\\\\\\\\\\\\\\\\\\\\\\\\\\\\\\\\\\\\\\\\\\\\\\\\\\\\\\\\\\\\\\\\\\\\\\\\\\\\\\\\\\\\\\\\\\\\\\\\\\\\\\\\\\\\\\\\\\\\\\\\\\\\\\\\\\\\\\\\\\\\\\\\\\\\\\\\\\\\\\\\\\\\\\\\\\\\\\\\\\\\\\\\\\\\\\\\\\\\\\\\\\\\\\\\\\\\\\\\\\\\\\\\\\\\\\\\\\\\\\\\\\\\\\\\\\\\\\\\\\\\\\\\\\\\\\\\\\\\\\\\\\\\n",
      "\n",
      "7) How do I navigate between screens in Flutter?\n",
      "To navigate between screens in Flutter, you can use the Navigator class. You can push a new screen onto the navigation stack using the Navigator.push method, and pop the current screen using the Navigator.pop method.\n",
      "\\\\The Navigator widget is used to navigate between screens.\\\\Navigate to a new screen and back\\\\Pass arguments to a named route\\\\Context: Animate a widget across screens\\\\Navigate with named routes\\\\Navigate to a new screen and back\\\\Cookbook\\\\Navigation\\\\Navigate to a new screen and back\\\\1. Create two routes\\\\2. Navigate to the second route using Navigator.push()\\\\3. Return to the first route using Navigator.pop()\\\\Interactive example\\\\Navigate to a new screen and back\\\\Pass arguments to a named route\\\\Context: Animate a widget across screens\\\\Navigate with named routes\\\\Navigate to a new screen and back\\\\1. Create two routes\\\\2. Navigate to the second route using Navigator.push()\\\\3. Return to the first route using Navigator.pop()\\\\Interactive example\\\\Navigate to a new screen and back\\\\Pass arguments to a named route\\\\Context: Animate a widget across screens\\\\Navigate with named routes\\\\Navigate to a new screen and back\\\\1. Create two routes\\\\2. Navigate to the second route using Navigator.push()\\\\3. Return to the first route using\n",
      "\n",
      "8) How do I handle async operations in Flutter?\n",
      "In Flutter, you can use the async and await keywords to handle async operations. You can use the Future class to represent a value or error that may be available at some point in the future, and use async functions to wait for these values.\n",
      " You can use the asynchronous facilities that the Dart language provides, such as async/await, to perform asynchronous work. You might be familiar with the asynchronous paradigm if you’ve used it in C#, Javascript, or if you have used Kotlin’s coroutines. For example, you can run network code without causing the UI to hang by using async/await and letting Dart do the heavy lifting: Once the awaited network call is done, update the UI by calling setState(), which triggers a rebuild of the widget sub-tree and updates the data. The following example loads data asynchronously and displays it in a ListView: Refer to the next section for more information on doing work in the background, and how Flutter differs from Android. Moving to the background thread Since Flutter is single threaded and runs an event loop (like Node.js), you don’t have to worry about thread management or spawning background threads. If you’re doing I/O-bound work, such as disk access or a network call, then you can safely use async/await and you’re done. If, on the other hand, you need to do computationally intensive work that keeps\n",
      "\n",
      "9) What is a FutureBuilder in Flutter?\n",
      "A FutureBuilder is a widget in Flutter that makes it easy to build UIs that depend on asynchronous data. It takes a Future as input and rebuilds itself whenever the future completes with either a value or an error.\n",
      " A FutureBuilder is a widget that builds itself based on the latest snapshot of interaction with a Future.\\\\\\\\\\\\\\\\\\\\\\\\\\\\\\\\\\\\\\\\\\\\\\\\\\\\\\\\\\\\\\\\\\\\\\\\\\\\\\\\\\\\\\\\\\\\\\\\\\\\\\\\\\\\\\\\\\\\\\\\\\\\\\\\\\\\\\\\\\\\\\\\\\\\\\\\\\\\\\\\\\\\\\\\\\\\\\\\\\\\\\\\\\\\\\\\\\\\\\\\\\\\\\\\\\\\\\\\\\\\\\\\\\\\\\\\\\\\\\\\\\\\\\\\\\\\\\\\\\\\\\\\\\\\\\\\\\\\\\\\\\\\\\\\\\\\\\\\\\\\\\\\\\\\\\\\\\\\\\\\\\\\\\\\\\\\\\\\\\\\\\\\\\\\\\\\\\\\\\\\\\\\\\\\\\\\\\\\\\\\\\\\\\\\\\\\\\\\\\\\\\\\\\\\\\\\\\\\\\\\\\\\\\\\\\\\\\\\\\\\\\\\\\\\\\\\\\\\\\\\\\\\\\\\\\\\\\\\\\\\\\\\\\\\\\\\\\\\\\\\\\\\\\\\\\\\\\\\\\\\\\\\\\\\\\\\\\\\\\\\\\\\\\\\\\\\\\\\\\\\\\\\\\\\\\\\\\\\\\\\\\\\\\\\\\\\\\\\\\\\\\\\\\\\\\\\\\\\\\\\\\\\\\\\\\\\\\\\\\\\\\\\\\\\\\\\\\\\\\\\\\\\\\\\\\\\\\\\\\\\\\\\\\\\\\\\\\\\\\\\\\\\\\\\\\\\\\\\\\\\\\\\\\\\\\\\\\\\\\\\\\\\\\\\\\\\\\\\\\\\\\\\\\\\\\\\\\\\\\\\\\\\\\\\\\\\\\\\\\\\\\\\\\\\\\\\\\\\\\\\\\\\\\\\\\\\\\\\\\\\\\\\\\\\\\\\\\\\\\\\\\\\\\\\\\\\\\\\\\\\\\\\\\\\\\\\\\\\\\\\\\\\\\\\\\\\\\\\\\\\\\\\\\\\\\\\\\\\\\\\\\\\\n",
      "\n"
     ]
    }
   ],
   "source": [
    "for i, p in enumerate(predictions):\n",
    "    print(f\"{i}) {p['query']}\")\n",
    "    print(f\"{p['answer']}\")\n",
    "    print(f\"{p['result']}\\n\")"
   ]
  },
  {
   "cell_type": "code",
   "execution_count": null,
   "id": "bcd0ad7f",
   "metadata": {},
   "outputs": [],
   "source": [
    "llm = OpenAI(temperature=0)\n",
    "eval_chain = QAEvalChain.from_llm(llm)"
   ]
  },
  {
   "cell_type": "code",
   "execution_count": null,
   "id": "2e6af79a",
   "metadata": {},
   "outputs": [],
   "source": [
    "graded_outputs = eval_chain.evaluate(examples, predictions)"
   ]
  },
  {
   "cell_type": "code",
   "execution_count": null,
   "id": "32fac2dc",
   "metadata": {},
   "outputs": [],
   "source": [
    "for i, eg in enumerate(examples):\n",
    "    print(f\"Example {i}:\")\n",
    "    print(\"Question: \" + predictions[i]['query'])\n",
    "    print(\"Real Answer: \" + predictions[i]['answer'])\n",
    "    print(\"Predicted Answer: \" + predictions[i]['result'])\n",
    "    print(\"Predicted Grade: \" + graded_outputs[i]['text'])\n",
    "    print()"
   ]
  },
  {
   "attachments": {},
   "cell_type": "markdown",
   "id": "50a9e845",
   "metadata": {},
   "source": [
    "## Evaluate with Other Metrics\n",
    "\n",
    "In addition to predicting whether the answer is correct or incorrect using a language model, we can also use other metrics to get a more nuanced view on the quality of the answers. To do so, we can use the [Critique](https://docs.inspiredco.ai/critique/) library, which allows for simple calculation of various metrics over generated text.\n",
    "\n",
    "First you can get an API key from the [Inspired Cognition Dashboard](https://dashboard.inspiredco.ai) and do some setup:\n",
    "\n",
    "```bash\n",
    "export INSPIREDCO_API_KEY=\"...\"\n",
    "pip install inspiredco\n",
    "```"
   ]
  },
  {
   "cell_type": "code",
   "execution_count": null,
   "id": "bd0b01dc",
   "metadata": {},
   "outputs": [],
   "source": [
    "import inspiredco.critique\n",
    "import os\n",
    "critique = inspiredco.critique.Critique(api_key=os.environ['INSPIREDCO_API_KEY'])"
   ]
  },
  {
   "attachments": {},
   "cell_type": "markdown",
   "id": "4f52629e",
   "metadata": {},
   "source": [
    "Then run the following code to set up the configuration and calculate the [ROUGE](https://docs.inspiredco.ai/critique/metric_rouge.html), [chrf](https://docs.inspiredco.ai/critique/metric_chrf.html), [BERTScore](https://docs.inspiredco.ai/critique/metric_bert_score.html), and [UniEval](https://docs.inspiredco.ai/critique/metric_uni_eval.html) (you can choose [other metrics](https://docs.inspiredco.ai/critique/metrics.html) too):"
   ]
  },
  {
   "cell_type": "code",
   "execution_count": null,
   "id": "84a0ba21",
   "metadata": {},
   "outputs": [],
   "source": [
    "metrics = {\n",
    "    \"rouge\": {\n",
    "        \"metric\": \"rouge\",\n",
    "        \"config\": {\"variety\": \"rouge_l\"},\n",
    "    },\n",
    "    \"chrf\": {\n",
    "        \"metric\": \"chrf\",\n",
    "        \"config\": {},\n",
    "    },\n",
    "    \"bert_score\": {\n",
    "        \"metric\": \"bert_score\",\n",
    "        \"config\": {\"model\": \"bert-base-uncased\"},\n",
    "    },\n",
    "    \"uni_eval\": {\n",
    "        \"metric\": \"uni_eval\",\n",
    "        \"config\": {\"task\": \"summarization\", \"evaluation_aspect\": \"relevance\"},\n",
    "    },\n",
    "}"
   ]
  },
  {
   "cell_type": "code",
   "execution_count": null,
   "id": "3b9a4056",
   "metadata": {},
   "outputs": [],
   "source": [
    "critique_data = [\n",
    "    {\"target\": pred['result'], \"references\": [pred['answer']]} for pred in predictions\n",
    "]\n",
    "eval_results = {\n",
    "    k: critique.evaluate(dataset=critique_data, metric=v[\"metric\"], config=v[\"config\"])\n",
    "    for k, v in metrics.items()\n",
    "}"
   ]
  },
  {
   "attachments": {},
   "cell_type": "markdown",
   "id": "6f0ae799",
   "metadata": {},
   "source": [
    "Finally, we can print out the results. We can see that overall the scores are higher when the output is semantically correct, and also when the output closely matches with the gold-standard answer."
   ]
  },
  {
   "cell_type": "code",
   "execution_count": null,
   "id": "b51edcf4",
   "metadata": {},
   "outputs": [],
   "source": [
    "for i, eg in enumerate(examples):\n",
    "    score_string = \", \".join([f\"{k}={v['examples'][i]['value']:.4f}\" for k, v in eval_results.items()])\n",
    "    print(f\"Example {i}:\")\n",
    "    print(\"Question: \" + predictions[i]['query'])\n",
    "    print(\"Real Answer: \" + predictions[i]['answer'])\n",
    "    print(\"Predicted Answer: \" + predictions[i]['result'])\n",
    "    print(\"Predicted Scores: \" + score_string)\n",
    "    print()"
   ]
  }
 ],
 "metadata": {
  "kernelspec": {
   "display_name": "Python 3 (ipykernel)",
   "language": "python",
   "name": "python3"
  },
  "language_info": {
   "codemirror_mode": {
    "name": "ipython",
    "version": 3
   },
   "file_extension": ".py",
   "mimetype": "text/x-python",
   "name": "python",
   "nbconvert_exporter": "python",
   "pygments_lexer": "ipython3",
   "version": "3.10.6"
  }
 },
 "nbformat": 4,
 "nbformat_minor": 5
}
