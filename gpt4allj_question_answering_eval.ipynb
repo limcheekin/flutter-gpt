{
 "cells": [
  {
   "attachments": {},
   "cell_type": "markdown",
   "id": "e78b7bb1",
   "metadata": {},
   "source": [
    "# Data Augmented Question Answering\n",
    "\n",
    "https://python.langchain.com/en/latest/use_cases/evaluation/data_augmented_question_answering.html\n",
    "\n",
    "This notebook uses some generic prompts/language models to evaluate an question answering system that uses other sources of data besides what is in the model. For example, this can be used to evaluate a question answering system over your proprietary data.\n",
    "\n",
    "## Setup\n",
    "\n",
    "Let's set up for my own use case.\n"
   ]
  },
  {
   "cell_type": "code",
   "execution_count": null,
   "id": "eed819d3",
   "metadata": {},
   "outputs": [],
   "source": [
    "%pip install -qU supabase"
   ]
  },
  {
   "cell_type": "code",
   "execution_count": 4,
   "id": "ab4a6931",
   "metadata": {},
   "outputs": [
    {
     "name": "stdout",
     "output_type": "stream",
     "text": [
      "data {\"prompt\": \"What is Flutter?\", \"params\": {\"seed\": -1, \"n_threads\": -1, \"n_predict\": 128, \"top_k\": 40, \"top_p\": 0.9, \"temperature\": 0.9, \"repeat_penalty\": 1, \"repeat_last_n\": 64, \"n_batch\": 8}}\n",
      "\n",
      "Fluctter is a social media app that allows users to create and share text-based messages, called \"tweets,\" with other users. The app was created in 2012 and is available for free on both iOS and Android devices. Users can follow other users or create their own groups and follow them. The app also includes features such as the ability to share photos, links, and GIFs, and the option to share posts to social media platforms such as Twitter, Facebook, and Instagram. Fluiter was a notable app at the time of its creation, as it was the first app that allowed users to send text messages\n",
      "\u001b[1mGPT4AllJ\u001b[0m\n",
      "Params: {'seed': -1, 'n_threads': -1, 'n_predict': 128, 'top_k': 40, 'top_p': 0.9, 'temperature': 0.9, 'repeat_penalty': 1, 'repeat_last_n': 64, 'n_batch': 8}\n"
     ]
    },
    {
     "data": {
      "text/plain": [
       "True"
      ]
     },
     "execution_count": 4,
     "metadata": {},
     "output_type": "execute_result"
    }
   ],
   "source": [
    "from langchain.llms import LlamaCpp\n",
    "from langchain.prompts.chat import (\n",
    "    ChatPromptTemplate,\n",
    "    SystemMessagePromptTemplate,\n",
    "    HumanMessagePromptTemplate,\n",
    ")\n",
    "from langchain.chains import RetrievalQA\n",
    "from langchain.embeddings import HuggingFaceEmbeddings\n",
    "from supabase.client import Client, create_client\n",
    "from langchain.vectorstores import SupabaseVectorStore\n",
    "import os\n",
    "import GPT4AllJ\n",
    "from dotenv import load_dotenv\n",
    "load_dotenv(dotenv_path=\".env_supabase\")"
   ]
  },
  {
   "cell_type": "code",
   "execution_count": 6,
   "id": "373dc759",
   "metadata": {},
   "outputs": [
    {
     "name": "stdout",
     "output_type": "stream",
     "text": [
      "loading model...\n"
     ]
    }
   ],
   "source": [
    "supabase_url = os.environ.get(\"SUPABASE_URL\")\n",
    "supabase_key = os.environ.get(\"SUPABASE_KEY\")\n",
    "supabase: Client = create_client(supabase_url, supabase_key)\n",
    "\n",
    "\n",
    "def get_retriever(k: int = 3):\n",
    "    embedding_model_name = os.environ.get(\"EMBEDDING_MODEL_NAME\")\n",
    "    embedding = HuggingFaceEmbeddings(model_name=embedding_model_name)\n",
    "    vector_store = SupabaseVectorStore(\n",
    "        client=supabase, embedding=embedding, table_name=\"documents\")\n",
    "    retriever = vector_store.as_retriever(search_kwargs={\"k\": k})\n",
    "    return retriever\n",
    "\n",
    "\n",
    "print('loading model...')\n",
    "\n",
    "llm = GPT4AllJ.GPT4AllJ()"
   ]
  },
  {
   "cell_type": "code",
   "execution_count": 11,
   "id": "4fdc211d",
   "metadata": {},
   "outputs": [
    {
     "name": "stderr",
     "output_type": "stream",
     "text": [
      "/home/limcheekin/ws/py/flutter-gpt/venv/lib/python3.10/site-packages/tqdm/auto.py:21: TqdmWarning: IProgress not found. Please update jupyter and ipywidgets. See https://ipywidgets.readthedocs.io/en/stable/user_install.html\n",
      "  from .autonotebook import tqdm as notebook_tqdm\n",
      "2023-05-12 15:56:14,443:INFO - Load pretrained SentenceTransformer: sentence-transformers/all-mpnet-base-v2\n",
      "2023-05-12 15:56:18,007:INFO - Use pytorch device: cpu\n"
     ]
    }
   ],
   "source": [
    "qa = RetrievalQA.from_llm(llm=llm, retriever=get_retriever())"
   ]
  },
  {
   "attachments": {},
   "cell_type": "markdown",
   "id": "30fd72f2",
   "metadata": {},
   "source": [
    "## Examples\n",
    "\n",
    "Now we need some examples to evaluate. We can do this in two ways:\n",
    "\n",
    "1. Hard code some examples ourselves\n",
    "2. Generate examples automatically, using a language model\n"
   ]
  },
  {
   "cell_type": "code",
   "execution_count": 7,
   "id": "3459b001",
   "metadata": {},
   "outputs": [],
   "source": [
    "# Hard-coded examples\n",
    "examples = [\n",
    "    {\n",
    "        \"query\": \"What is Flutter?\",\n",
    "        \"answer\": \"Flutter is an open-source mobile application development framework developed by Google. It allows developers to build high-performance, natively compiled mobile apps for iOS and Android, as well as for the web and desktop.\"\n",
    "    },\n",
    "    {\n",
    "        \"query\": \"What programming language is used in Flutter?\",\n",
    "        \"answer\": \"Flutter uses Dart programming language, which is also developed by Google. Dart is a modern, object-oriented language with features like garbage collection, type inference, and asynchronous programming.\"\n",
    "    },\n",
    "    {\n",
    "        \"query\": \"How do I install Flutter?\",\n",
    "        \"answer\": \"To install Flutter, you need to first download the Flutter SDK from the official Flutter website. Once downloaded, extract the contents of the zip file to a desired location on your system, and then add the Flutter SDK's bin directory to your system's PATH environment variable.\"\n",
    "    },\n",
    "    {\n",
    "        \"query\": \"How do I create a new Flutter project?\",\n",
    "        \"answer\": \"To create a new Flutter project, you can use the flutter create command in the terminal, followed by the name of your project. This will create a new Flutter project with the required directory structure and files.\"\n",
    "    },\n",
    "    {\n",
    "        \"query\": \"What is a widget in Flutter?\",\n",
    "        \"answer\": \"In Flutter, everything is a widget. A widget is a basic building block of a Flutter app, which can be thought of as a visual element or a part of the user interface. Widgets can be either stateful or stateless.\"\n",
    "    },\n",
    "    {\n",
    "        \"query\": \"What is the difference between stateful and stateless widgets?\",\n",
    "        \"answer\": \"A stateful widget is a widget that contains mutable state, i.e., data that can change over time. A stateless widget, on the other hand, is a widget that does not contain any mutable state and is purely based on its input parameters.\"\n",
    "    },\n",
    "    {\n",
    "        \"query\": \"How do I handle user input in Flutter?\",\n",
    "        \"answer\": \"To handle user input in Flutter, you can use various event handlers like onPressed for buttons, onChanged for text fields, etc. You can also use Flutter's GestureDetector widget to detect gestures like tapping, swiping, etc.\"\n",
    "    },\n",
    "    {\n",
    "        \"query\": \"How do I navigate between screens in Flutter?\",\n",
    "        \"answer\": \"To navigate between screens in Flutter, you can use the Navigator class. You can push a new screen onto the navigation stack using the Navigator.push method, and pop the current screen using the Navigator.pop method.\"\n",
    "    },\n",
    "    {\n",
    "        \"query\": \"How do I handle async operations in Flutter?\",\n",
    "        \"answer\": \"In Flutter, you can use the async and await keywords to handle async operations. You can use the Future class to represent a value or error that may be available at some point in the future, and use async functions to wait for these values.\"\n",
    "    },\n",
    "    {\n",
    "        \"query\": \"What is a FutureBuilder in Flutter?\",\n",
    "        \"answer\": \"A FutureBuilder is a widget in Flutter that makes it easy to build UIs that depend on asynchronous data. It takes a Future as input and rebuilds itself whenever the future completes with either a value or an error.\"\n",
    "    },\n",
    "    {\n",
    "        \"query\": \"How do I add animations in Flutter?\",\n",
    "        \"answer\": \"In Flutter, you can use the Animation class to create animations. You can define an animation by specifying the start and end values, a duration, and a curve. You can then use an AnimationController to control the animation and update the UI accordingly.\"\n",
    "    },\n",
    "    {\n",
    "        \"query\": \"How do I add images in Flutter?\",\n",
    "        \"answer\": \"To add images in Flutter, you can use the Image widget. You can specify the source of the image using a URL or a local file path. You can also specify the width and height of the image, as well as various other properties like the fit, alignment, and color.\"\n",
    "    },\n",
    "    {\n",
    "        \"query\": \"How do I add custom fonts in Flutter?\",\n",
    "        \"answer\": \"To add custom fonts in Flutter, you need to first add the font files to your project's assets directory. You then need to specify the font family and file name in your pubspec.yaml file. You can then use the TextStyle widget to apply the custom font to your text.\"\n",
    "    },\n",
    "    {\n",
    "        \"query\": \"How do I add a splash screen in Flutter?\",\n",
    "        \"answer\": \"To add a splash screen in Flutter, you can create a new widget that displays your app's logo or branding, and then use it as the first screen in your app. You can then use a FutureBuilder to load the data required for your app's home screen, and navigate to it once the data is loaded.\"\n",
    "    },\n",
    "    {\n",
    "        \"query\": \"How do I add internationalization (i18n) support to my Flutter app?\",\n",
    "        \"answer\": \"To add internationalization support to your Flutter app, you can use the intl package. You can define a set of messages for each supported language, and use the Localizations widget to load the appropriate message set based on the user's device language.\"\n",
    "    },\n",
    "    {\n",
    "        \"query\": \"How do I use the camera in Flutter?\",\n",
    "        \"answer\": \"To use the camera in Flutter, you can use the camera package. You can use the CameraController class to control the camera and capture images or videos. You can also use various other packages for advanced camera features like barcode scanning and face detection.\"\n",
    "    },\n",
    "    {\n",
    "        \"query\": \"How do I use the device's sensors in Flutter?\",\n",
    "        \"answer\": \"To use the device's sensors in Flutter, you can use various packages like sensors, flutter_blue, etc. These packages provide APIs to access the device's sensors like accelerometer, gyroscope, magnetometer, etc.\"\n",
    "    },\n",
    "    {\n",
    "        \"query\": \"How do I use Firebase in Flutter?\",\n",
    "        \"answer\": \"To use Firebase in Flutter, you need to first add the Firebase SDK to your app by following the setup instructions provided by Firebase. Once done, you can use various Firebase services like authentication, database, storage, etc. using the respective Flutter plugins.\"\n",
    "    },\n",
    "    {\n",
    "        \"query\": \"How do I test my Flutter app?\",\n",
    "        \"answer\": \"To test your Flutter app, you can use Flutter's built-in testing framework called flutter_test. You can write unit tests, widget tests, and integration tests using this framework. You can also use various third-party testing tools like mockito, flutter_driver, etc.\"\n",
    "    },\n",
    "    {\n",
    "        \"query\": \"How do I deploy my Flutter app?\",\n",
    "        \"answer\": \"To deploy your Flutter app, you can use various methods like publishing to the app stores, creating APKs or IPA files for distribution, deploying to web or desktop platforms, etc. You can also use various third-party tools like Google Play Console, Apple App Store Connect, etc. for app store deployment.\"\n",
    "    }\n",
    "]"
   ]
  },
  {
   "cell_type": "code",
   "execution_count": 6,
   "id": "fe473fe4",
   "metadata": {},
   "outputs": [
    {
     "data": {
      "text/plain": [
       "[{'query': 'What is Flutter?',\n",
       "  'answer': 'Flutter is an open-source mobile application development framework developed by Google. It allows developers to build high-performance, natively compiled mobile apps for iOS and Android, as well as for the web and desktop.'},\n",
       " {'query': 'What programming language is used in Flutter?',\n",
       "  'answer': 'Flutter uses Dart programming language, which is also developed by Google. Dart is a modern, object-oriented language with features like garbage collection, type inference, and asynchronous programming.'},\n",
       " {'query': 'How do I install Flutter?',\n",
       "  'answer': \"To install Flutter, you need to first download the Flutter SDK from the official Flutter website. Once downloaded, extract the contents of the zip file to a desired location on your system, and then add the Flutter SDK's bin directory to your system's PATH environment variable.\"},\n",
       " {'query': 'How do I create a new Flutter project?',\n",
       "  'answer': 'To create a new Flutter project, you can use the flutter create command in the terminal, followed by the name of your project. This will create a new Flutter project with the required directory structure and files.'},\n",
       " {'query': 'What is a widget in Flutter?',\n",
       "  'answer': 'In Flutter, everything is a widget. A widget is a basic building block of a Flutter app, which can be thought of as a visual element or a part of the user interface. Widgets can be either stateful or stateless.'},\n",
       " {'query': 'What is the difference between stateful and stateless widgets?',\n",
       "  'answer': 'A stateful widget is a widget that contains mutable state, i.e., data that can change over time. A stateless widget, on the other hand, is a widget that does not contain any mutable state and is purely based on its input parameters.'},\n",
       " {'query': 'How do I handle user input in Flutter?',\n",
       "  'answer': \"To handle user input in Flutter, you can use various event handlers like onPressed for buttons, onChanged for text fields, etc. You can also use Flutter's GestureDetector widget to detect gestures like tapping, swiping, etc.\"},\n",
       " {'query': 'How do I navigate between screens in Flutter?',\n",
       "  'answer': 'To navigate between screens in Flutter, you can use the Navigator class. You can push a new screen onto the navigation stack using the Navigator.push method, and pop the current screen using the Navigator.pop method.'},\n",
       " {'query': 'How do I handle async operations in Flutter?',\n",
       "  'answer': 'In Flutter, you can use the async and await keywords to handle async operations. You can use the Future class to represent a value or error that may be available at some point in the future, and use async functions to wait for these values.'},\n",
       " {'query': 'What is a FutureBuilder in Flutter?',\n",
       "  'answer': 'A FutureBuilder is a widget in Flutter that makes it easy to build UIs that depend on asynchronous data. It takes a Future as input and rebuilds itself whenever the future completes with either a value or an error.'}]"
      ]
     },
     "execution_count": 6,
     "metadata": {},
     "output_type": "execute_result"
    }
   ],
   "source": [
    "examples[:10]"
   ]
  },
  {
   "cell_type": "code",
   "execution_count": null,
   "id": "b9c3fa75",
   "metadata": {},
   "outputs": [],
   "source": [
    "# Generated examples\n",
    "from langchain.evaluation.qa import QAGenerateChain\n",
    "example_gen_chain = QAGenerateChain.from_llm(OpenAI())"
   ]
  },
  {
   "cell_type": "code",
   "execution_count": null,
   "id": "c24543a9",
   "metadata": {},
   "outputs": [],
   "source": [
    "new_examples = example_gen_chain.apply_and_parse(\n",
    "    [{\"doc\": t} for t in texts[:5]])"
   ]
  },
  {
   "cell_type": "code",
   "execution_count": null,
   "id": "a2d27560",
   "metadata": {},
   "outputs": [],
   "source": [
    "new_examples"
   ]
  },
  {
   "cell_type": "code",
   "execution_count": null,
   "id": "558da6f3",
   "metadata": {},
   "outputs": [],
   "source": [
    "# Combine examples\n",
    "examples += new_examples"
   ]
  },
  {
   "attachments": {},
   "cell_type": "markdown",
   "id": "443dc34e",
   "metadata": {},
   "source": [
    "## Evaluate\n",
    "\n",
    "Now that we have examples, we can use the question answering evaluator to evaluate our question answering chain.\n"
   ]
  },
  {
   "cell_type": "code",
   "execution_count": 9,
   "id": "782169a5",
   "metadata": {},
   "outputs": [],
   "source": [
    "from langchain.evaluation.qa import QAEvalChain"
   ]
  },
  {
   "cell_type": "code",
   "execution_count": 12,
   "id": "1bb77416",
   "metadata": {},
   "outputs": [
    {
     "name": "stderr",
     "output_type": "stream",
     "text": [
      "Batches: 100%|██████████| 1/1 [00:00<00:00,  3.15it/s]\n"
     ]
    },
    {
     "name": "stdout",
     "output_type": "stream",
     "text": [
      "data {\"prompt\": \"Use the following pieces of context to answer the question at the end. If you don't know the answer, just say that you don't know, don't try to make up an answer.\\n\\nContext:\\nIntroduction\\n\\nThis page collects some common questions asked about\\nFlutter. You might also check out the following\\nspecialized FAQs:\\n\\nWeb FAQ\\n\\nPerformance FAQ\\n\\nWhat is Flutter?\\n\\nFlutter is Google\\u2019s portable UI toolkit for crafting beautiful,\\nnatively compiled applications for mobile, web,\\nand desktop from a single codebase.\\nFlutter works with existing code,\\nis used by developers and organizations around\\nthe world, and is free and open source.\\n\\nWho is Flutter for?\\n\\nFor users, Flutter makes beautiful apps come to life.\\n\\nFor developers, Flutter lowers the bar to entry for building apps.\\nIt speeds app development and reduces the cost and complexity\\nof app production across platforms.\\n\\nFor designers, Flutter provides a canvas for\\nhigh-end user experiences. Fast Company described\\nFlutter as one of the top design ideas of the decade for\\nits ability to turn concepts into production code\\nwithout the compromises imposed by typical frameworks.\\nIt also acts as a productive prototyping tool,\\nwith CodePen support for sharing your ideas with others.\\n\\nFor engineering managers and businesses,\\nFlutter allows the unification of app\\ndevelopers into a single mobile, web,\\nand desktop app team, building branded\\napps for multiple platforms out of a single codebase.\\nFlutter speeds feature development and synchronizes\\nrelease schedules across the entire customer base.\\n\\nHow much development experience do I need to use Flutter?\\n\\nFlutter is approachable to programmers familiar with\\nobject-oriented concepts (classes, methods, variables,\\netc) and imperative programming concepts (loops,\\nconditionals, etc).\\n\\nWe have seen people with very little programming\\nexperience learn and use Flutter for prototyping\\nand app development.\\n\\nWhat kinds of apps can I build with Flutter?\\n\\nFlutter is designed to support mobile apps that run\\non both Android and iOS, as well as interactive apps\\nthat you want to run on your web pages or on the desktop.\\n\\nContext:\\nThe rendering process: How Flutter turns UI code into pixels.\\n\\nAn overview of the platform embedders: The code that lets mobile and\\ndesktop OSes execute Flutter apps.\\n\\nIntegrating Flutter with other code: Information about different techniques\\navailable to Flutter apps.\\n\\nSupport for the web: Concluding remarks about the characteristics of\\nFlutter in a browser environment.\\n\\nArchitectural layers\\n\\nFlutter is designed as an extensible, layered system. It exists as a series of\\nindependent libraries that each depend on the underlying layer. No layer has\\nprivileged access to the layer below, and every part of the framework level is\\ndesigned to be optional and replaceable.\\n\\nTo the underlying operating system, Flutter applications are packaged in the\\nsame way as any other native application. A platform-specific embedder provides\\nan entrypoint; coordinates with the underlying operating system for access to\\nservices like rendering surfaces, accessibility, and input; and manages the\\nmessage event loop. The embedder is written in a language that is appropriate\\nfor the platform: currently Java and C++ for Android, Objective-C/Objective-C++\\nfor iOS and macOS, and C++ for Windows and Linux. Using the embedder, Flutter\\ncode can be integrated into an existing application as a module, or the code may\\nbe the entire content of the application. Flutter includes a number of embedders\\nfor common target platforms, but other embedders also\\nexist.\\n\\nAt the core of Flutter is the Flutter engine, which is mostly written in C++\\nand supports the primitives necessary to support all Flutter applications. The\\nengine is responsible for rasterizing composited scenes whenever a new frame\\nneeds to be painted. It provides the low-level implementation of Flutter\\u2019s core\\nAPI, including graphics (through Skia), text layout, file\\nand network I/O, accessibility support, plugin architecture, and a Dart runtime\\nand compile toolchain.\\n\\nContext:\\nFlutter architectural overview\\n\\nArchitectural layers\\n\\nAnatomy of an app\\n\\nReactive user interfaces\\n\\nWidgets\\n\\nComposition\\nBuilding widgets\\nWidget state\\nState management\\n\\nRendering and layout\\n\\nFlutter\\u2019s rendering model\\nFrom user input to the GPU\\nBuild: from Widget to Element\\nLayout and rendering\\n\\nPlatform embedding\\n\\nIntegrating with other code\\n\\nPlatform channels\\nForeign Function Interface\\nRendering native controls in a Flutter app\\nHosting Flutter content in a parent app\\n\\nFlutter web support\\n\\nFurther information\\n\\nThis article is intended to provide a high-level overview of the architecture of\\nFlutter, including the core principles and concepts that form its design.\\n\\nFlutter is a cross-platform UI toolkit that is designed to allow code reuse\\nacross operating systems such as iOS and Android, while also allowing\\napplications to interface directly with underlying platform services. The goal\\nis to enable developers to deliver high-performance apps that feel natural on\\ndifferent platforms, embracing differences where they exist while sharing as\\nmuch code as possible.\\n\\nDuring development, Flutter apps run in a VM that offers stateful hot reload of\\nchanges without needing a full recompile. For release, Flutter apps are compiled\\ndirectly to machine code, whether Intel x64 or ARM instructions, or to\\nJavaScript if targeting the web. The framework is open source, with a permissive\\nBSD license, and has a thriving ecosystem of third-party packages that\\nsupplement the core library functionality.\\n\\nThis overview is divided into a number of sections:\\n\\nThe layer model: The pieces from which Flutter is constructed.\\n\\nReactive user interfaces: A core concept for Flutter user interface\\ndevelopment.\\n\\nAn introduction to widgets: The fundamental building blocks of Flutter user\\ninterfaces.\\n\\nThe rendering process: How Flutter turns UI code into pixels.\\n\\nQuestion: What is Flutter?\\nHelpful Answer:\", \"params\": {\"seed\": -1, \"n_threads\": -1, \"n_predict\": 200, \"top_k\": 40, \"top_p\": 0.9, \"temperature\": 0.9, \"repeat_penalty\": 1, \"repeat_last_n\": 64, \"n_batch\": 8}}\n"
     ]
    },
    {
     "name": "stderr",
     "output_type": "stream",
     "text": [
      "Batches: 100%|██████████| 1/1 [00:00<00:00,  9.68it/s]\n"
     ]
    },
    {
     "name": "stdout",
     "output_type": "stream",
     "text": [
      "data {\"prompt\": \"Use the following pieces of context to answer the question at the end. If you don't know the answer, just say that you don't know, don't try to make up an answer.\\n\\nContext:\\nThe rendering process: How Flutter turns UI code into pixels.\\n\\nAn overview of the platform embedders: The code that lets mobile and\\ndesktop OSes execute Flutter apps.\\n\\nIntegrating Flutter with other code: Information about different techniques\\navailable to Flutter apps.\\n\\nSupport for the web: Concluding remarks about the characteristics of\\nFlutter in a browser environment.\\n\\nArchitectural layers\\n\\nFlutter is designed as an extensible, layered system. It exists as a series of\\nindependent libraries that each depend on the underlying layer. No layer has\\nprivileged access to the layer below, and every part of the framework level is\\ndesigned to be optional and replaceable.\\n\\nTo the underlying operating system, Flutter applications are packaged in the\\nsame way as any other native application. A platform-specific embedder provides\\nan entrypoint; coordinates with the underlying operating system for access to\\nservices like rendering surfaces, accessibility, and input; and manages the\\nmessage event loop. The embedder is written in a language that is appropriate\\nfor the platform: currently Java and C++ for Android, Objective-C/Objective-C++\\nfor iOS and macOS, and C++ for Windows and Linux. Using the embedder, Flutter\\ncode can be integrated into an existing application as a module, or the code may\\nbe the entire content of the application. Flutter includes a number of embedders\\nfor common target platforms, but other embedders also\\nexist.\\n\\nAt the core of Flutter is the Flutter engine, which is mostly written in C++\\nand supports the primitives necessary to support all Flutter applications. The\\nengine is responsible for rasterizing composited scenes whenever a new frame\\nneeds to be painted. It provides the low-level implementation of Flutter\\u2019s core\\nAPI, including graphics (through Skia), text layout, file\\nand network I/O, accessibility support, plugin architecture, and a Dart runtime\\nand compile toolchain.\\n\\nContext:\\nFlutter SDK overview\\n\\nTools\\n\\nSDK\\n\\nFlutter SDK\\n\\nWhat\\u2019s in the Flutter SDK\\n\\nflutter command-line tool\\n\\ndart command-line tool\\n\\nThe Flutter SDK has the packages and command-line tools that you need to develop\\nFlutter apps across platforms. To get the Flutter SDK, see Install.\\n\\nWhat\\u2019s in the Flutter SDK\\n\\nThe following is available through the Flutter SDK:\\n\\nDart SDK\\n\\nHeavily optimized, mobile-first 2D rendering engine with\\nexcellent support for text\\n\\nModern react-style framework\\n\\nRich set of widgets implementing Material Design and iOS styles\\n\\nAPIs for unit and integration tests\\n\\nInterop and plugin APIs to connect to the system and 3rd-party SDKs\\n\\nHeadless test runner for running tests on Windows, Linux, and Mac\\n\\nDart DevTools for testing, debugging, and profiling your app\\n\\nflutter and dart command-line tools for creating, building, testing,\\nand compiling your apps\\n\\nNote: For more information about the Flutter SDK, see its\\nREADME file.\\n\\nflutter command-line tool\\n\\nThe flutter CLI tool (flutter/bin/flutter) is how developers\\n(or IDEs on behalf of developers) interact with Flutter.\\n\\ndart command-line tool\\n\\nThe dart CLI tool is available with the Flutter SDK at flutter/bin/dart.\\n\\nContext:\\nThe engine is exposed to the Flutter framework through\\ndart:ui,\\nwhich wraps the underlying C++ code in Dart classes. This library\\nexposes the lowest-level primitives, such as classes for driving input,\\ngraphics, and text rendering subsystems.\\n\\nTypically, developers interact with Flutter through the Flutter framework,\\nwhich provides a modern, reactive framework written in the Dart language. It\\nincludes a rich set of platform, layout, and foundational libraries, composed of\\na series of layers. Working from the bottom to the top, we have:\\n\\nBasic foundational\\nclasses, and building block services such as\\nanimation,\\npainting, and\\ngestures that offer\\ncommonly used abstractions over the underlying foundation.\\n\\nThe rendering\\nlayer provides an\\nabstraction for dealing with layout. With this layer, you can build a tree of\\nrenderable objects. You can manipulate these objects dynamically, with the\\ntree automatically updating the layout to reflect your changes.\\n\\nThe widgets layer is\\na composition abstraction. Each render object in the rendering layer has a\\ncorresponding class in the widgets layer. In addition, the widgets layer\\nallows you to define combinations of classes that you can reuse. This is the\\nlayer at which the reactive programming model is introduced.\\n\\nThe\\nMaterial\\nand\\nCupertino\\nlibraries offer comprehensive sets of controls that use the widget layer\\u2019s\\ncomposition primitives to implement the Material or iOS design languages.\\n\\ncamera and\\n\\nwebview, as well as platform-agnostic\\nfeatures like\\n\\ncharacters,\\n\\nhttp, and\\n\\nanimations that build upon the core Dart and\\nFlutter libraries. Some of these packages come from the broader ecosystem,\\ncovering services like\\n\\nin-app\\npayments,\\n\\nApple\\nauthentication, and\\n\\nanimations.\\n\\nQuestion: What programming language is used in Flutter?\\nHelpful Answer:\", \"params\": {\"seed\": -1, \"n_threads\": -1, \"n_predict\": 200, \"top_k\": 40, \"top_p\": 0.9, \"temperature\": 0.9, \"repeat_penalty\": 1, \"repeat_last_n\": 64, \"n_batch\": 8}}\n"
     ]
    },
    {
     "name": "stderr",
     "output_type": "stream",
     "text": [
      "Batches: 100%|██████████| 1/1 [00:00<00:00,  7.22it/s]\n"
     ]
    },
    {
     "name": "stdout",
     "output_type": "stream",
     "text": [
      "data {\"prompt\": \"Use the following pieces of context to answer the question at the end. If you don't know the answer, just say that you don't know, don't try to make up an answer.\\n\\nContext:\\nDownload the following installation bundle to get the latest\\nstable release of the Flutter SDK:\\n\\n    (loading\\u2026)\\n\\n    For other release channels, and older builds,\\nsee the SDK releases page.\\n\\nExtract the file in the desired location, for example:\\n\\n    \\n$ cd ~/development\\n$ tar xf ~/Downloads/flutter_linux_vX.X.X-stable.tar.xz\\n    \\n\\n    If you don\\u2019t want to install a fixed version of the installation bundle, \\nyou can skip steps 1 and 2. \\nInstead, get the source code from the Flutter repo\\non GitHub with the following command:\\n\\n    \\n$ git clone https://github.com/flutter/flutter.git\\n    \\n\\n    You can also change branches or tags as needed.\\nFor example, to get just the stable version:\\n\\n    \\n$ git clone https://github.com/flutter/flutter.git -b stable\\n\\nAdd the flutter tool to your path:\\n\\n    \\n$ export PATH=\\\"$PATH:`pwd`/flutter/bin\\\"\\n    \\n\\n    This command sets your PATH variable for the\\ncurrent terminal window only.\\nTo permanently add Flutter to your path, see\\nUpdate your path.\\n\\nOptionally, pre-download development binaries:\\n\\n    The flutter tool downloads platform-specific development binaries as\\nneeded. For scenarios where pre-downloading these artifacts is preferable\\n(for example, in hermetic build environments,\\nor with intermittent network availability), iOS\\nand Android binaries can be downloaded ahead of time by running:\\n\\n    \\n$ flutter precache\\n    \\n\\n    For additional download options, see flutter help precache.\\n\\nYou are now ready to run Flutter commands!\\n\\nNote:\\n  To update an existing version of Flutter, see\\n  Upgrading Flutter.\\n\\nRun flutter doctor\\n\\nContext:\\nSet up an editor\\n\\nInstall\\n\\nGet started\\n\\nInstall\\n\\nSelect the operating system on which you are installing Flutter:\\n\\nWindows\\n\\nmacOS\\n\\nLinux\\n\\nChromeOS\\n\\nImportant:\\n  If you\\u2019re in China, first read Using Flutter in China.\\n\\nSet up an editor\\n\\nContext:\\nSet up an editor\\n\\nLinux install\\n\\nGet started\\n\\nInstall\\n\\nLinux\\n\\nSystem requirements\\n\\nGet the Flutter SDK\\n\\nInstall Flutter using snapd\\nInstall Flutter manually\\nRun flutter doctor\\nUpdate your path\\nUpdate path directly\\n\\nAndroid setup\\n\\nInstall Android Studio\\nSet up your Android device\\nSet up the Android emulator\\nAgree to Android Licenses\\n\\nLinux setup\\n\\nAdditional Linux requirements\\n\\nNext step\\n\\nSystem requirements\\n\\nTo install and run Flutter,\\nyour development environment must meet these minimum requirements:\\n\\nOperating Systems: Linux (64-bit)\\n\\nDisk Space: 600 MB (does not include disk space for IDE/tools).\\n\\nTools: Flutter depends on these command-line tools being available\\nin your environment.\\n    \\n      bash\\n      curl\\n      file\\n      \\ngit 2.x\\n      mkdir\\n      rm\\n      unzip\\n      which\\n      xz-utils\\n      zip\\n\\nShared libraries: Flutter test command depends on this library\\nbeing available in your environment.\\n    \\n      \\nlibGLU.so.1 - provided by mesa packages such as libglu1-mesa on\\n Ubuntu/Debian and mesa-libGLU on Fedora.\\n\\nGet the Flutter SDK\\n\\nOn Linux, you have two ways you can install Flutter.\\n\\nInstall Flutter using snapd\\n\\nThe easiest way to install Flutter on Linux is by\\nusing snapd. For more information,\\nsee Installing snapd.\\n\\nOnce you have snapd, you can\\ninstall Flutter using the Snap Store,\\nor at the command line:\\n\\nsudo snap\\n\\ninstall flutter\\n\\n-classic\\n\\nNote:\\n  Once you install the snap,\\n  use the following command to display your Flutter SDK path:\\n\\nflutter sdk-path\\n\\nInstall Flutter manually\\n\\nIf you don\\u2019t have snapd, or can\\u2019t use it, you can\\ninstall Flutter using the following steps.\\n\\nQuestion: How do I install Flutter?\\nHelpful Answer:\", \"params\": {\"seed\": -1, \"n_threads\": -1, \"n_predict\": 200, \"top_k\": 40, \"top_p\": 0.9, \"temperature\": 0.9, \"repeat_penalty\": 1, \"repeat_last_n\": 64, \"n_batch\": 8}}\n"
     ]
    },
    {
     "name": "stderr",
     "output_type": "stream",
     "text": [
      "Batches: 100%|██████████| 1/1 [00:00<00:00,  5.95it/s]\n"
     ]
    },
    {
     "name": "stdout",
     "output_type": "stream",
     "text": [
      "data {\"prompt\": \"Use the following pieces of context to answer the question at the end. If you don't know the answer, just say that you don't know, don't try to make up an answer.\\n\\nContext:\\nSpecify the Flutter SDK path and click Next.\\n\\nEnter your desired Project name, Description and Project location.\\n\\nIf you might publish this app, set the company domain.\\n\\nClick Finish.\\n\\nSetting the company domain\\n\\nWhen creating a new app, some Flutter IDE plugins ask for an\\n  organization name in reverse domain order,\\n  something like com.example. Along with the name of the app,\\n  this is used as the package name for Android, and the Bundle ID for iOS\\n  when the app is released. If you think you might ever release this app,\\n  it is better to specify these now. They cannot be changed once the app\\n  is released. Your organization name should be unique.\\n\\nCreating a new project from existing source code\\n\\nTo create a new Flutter project containing existing Flutter source code\\nfiles:\\n\\nIn the IDE, click Create New Project from the\\nWelcome window or File > New > Project\\nfrom the main IDE window.\\n\\n    \\n       Important:\\n  Do not use the New > Project from existing sources\\n  option for Flutter projects.\\n\\nSelect Flutter in the menu, and click Next.\\n\\nUnder Project location enter, or browse to,\\nthe directory holding your\\nexisting Flutter source code files.\\n\\nClick Finish.\\n\\nEditing code and viewing issues\\n\\nThe Flutter plugin performs code analysis that enables the following:\\n\\nSyntax highlighting.\\n\\nCode completions based on rich type analysis.\\n\\nNavigating to type declarations (Navigate > Declaration),\\nand finding type usages (Edit > Find > Find Usages).\\n\\nViewing all current source code problems\\n(View > Tool Windows > Dart Analysis).\\nAny analysis issues are shown in the Dart Analysis pane:\\n\\nRunning and debugging\\n\\nNote:\\n  You can debug your app in a few ways.\\n\\nUsing DevTools, a suite of debugging and profiling\\ntools that run in a browser\\nand include the Flutter inspector.\\n\\nContext:\\nSet up an editor\\n\\nWrite your first Flutter app\\n\\nTest drive\\n\\nGet started\\n\\nTest drive\\n\\nThis page describes how to create a new Flutter app from templates, run it,\\nand experience \\u201chot reload\\u201d after you make changes to the app.\\n\\nSelect your development tool of choice for writing, building, and running\\nFlutter apps.\\n\\nVisual Studio Code\\n\\nAndroid Studio and IntelliJ\\n\\nTerminal & editor\\n\\nCreate the app\\n\\nInvoke View > Command Palette.\\n\\nType \\u201cflutter\\u201d, and select the Flutter: New Project.\\n\\nSelect Application.\\n\\nCreate or select the parent directory for the new project folder.\\n\\nEnter a project name, such as my_app, and press Enter.\\n\\nWait for project creation to complete and the main.dart\\nfile to appear.\\n\\nThe above commands create a Flutter project directory called my_app that\\ncontains a simple demo app that uses Material Components.\\n\\nNote:\\n  When creating a new Flutter app, some Flutter IDE plugins ask for a\\n  company domain name in reverse order, something like com.example.\\n  The company domain name and project name are used together as the\\n  package name for Android (the Bundle ID for iOS) when the app is released.\\n  If you think that the app might be released,\\n  it\\u2019s better to specify the package name now.\\n  The package name can\\u2019t be changed once the app is released,\\n  so make the name unique.\\n\\nWarning:\\n  If VS Code was running during your initial Flutter setup, \\n  you might need to restart it for VS Code\\u2019s Flutter plugin to detect the Flutter SDK.\\n\\nTip:\\n  The code for your app is in lib/main.dart.\\n  For a high-level description of what each code block does,\\n  see the comments at the top of that file.\\n\\nRun the app\\n\\nContext:\\nSearch flutter.dev\\n\\nSearch more sites.\\n\\nQuestion: How do I create a new Flutter project?\\nHelpful Answer:\", \"params\": {\"seed\": -1, \"n_threads\": -1, \"n_predict\": 200, \"top_k\": 40, \"top_p\": 0.9, \"temperature\": 0.9, \"repeat_penalty\": 1, \"repeat_last_n\": 64, \"n_batch\": 8}}\n"
     ]
    },
    {
     "name": "stderr",
     "output_type": "stream",
     "text": [
      "Batches: 100%|██████████| 1/1 [00:00<00:00,  3.65it/s]\n"
     ]
    },
    {
     "name": "stdout",
     "output_type": "stream",
     "text": [
      "data {\"prompt\": \"Use the following pieces of context to answer the question at the end. If you don't know the answer, just say that you don't know, don't try to make up an answer.\\n\\nContext:\\nIn Flutter, widgets (akin to components in React) are represented by immutable\\nclasses that are used to configure a tree of objects. These widgets are used to\\nmanage a separate tree of objects for layout, which is then used to manage a\\nseparate tree of objects for compositing. Flutter is, at its core, a series of\\nmechanisms for efficiently walking the modified parts of trees, converting trees\\nof objects into lower-level trees of objects, and propagating changes across\\nthese trees.\\n\\nA widget declares its user interface by overriding the build() method, which\\nis a function that converts state to UI:\\n\\nThe build() method is by design fast to execute and should be free of side\\neffects, allowing it to be called by the framework whenever needed (potentially\\nas often as once per rendered frame).\\n\\nThis approach relies on certain characteristics of a language runtime (in\\nparticular, fast object instantiation and deletion). Fortunately, Dart is\\nparticularly well suited for this\\ntask.\\n\\nWidgets\\n\\nAs mentioned, Flutter emphasizes widgets as a unit of composition. Widgets are\\nthe building blocks of a Flutter app\\u2019s user interface, and each widget is an\\nimmutable declaration of part of the user interface.\\n\\nWidgets form a hierarchy based on composition. Each widget nests inside its\\nparent and can receive context from the parent. This structure carries all the\\nway up to the root widget (the container that hosts the Flutter app, typically\\nMaterialApp or CupertinoApp), as this trivial example shows:\\n\\nIn the preceding code, all instantiated classes are widgets.\\n\\nApps update their user interface in response to events (such as a user\\ninteraction) by telling the framework to replace a widget in the hierarchy with\\nanother widget. The framework then compares the new and old widgets, and\\nefficiently updates the user interface.\\n\\nContext:\\nIntroduction to widgets\\n\\nUI\\n\\nIntroduction to widgets\\n\\nFlutter widgets are built using a modern framework that takes\\ninspiration from React. The central idea is that you build\\nyour UI out of widgets. Widgets describe what their view\\nshould look like given their current configuration and state.\\nWhen a widget\\u2019s state changes, the widget rebuilds its description,\\nwhich the framework diffs against the previous description in order\\nto determine the minimal changes needed in the underlying render\\ntree to transition from one state to the next.\\n\\nNote:\\n  If you would like to become better acquainted with Flutter by diving\\n  into some code, check out basic layout codelab,\\n  building layouts,\\n  and adding interactivity to your Flutter app.\\n\\nHello world\\n\\nThe minimal Flutter app simply calls the runApp()\\nfunction with a widget:\\n\\nThe runApp() function takes the given\\nWidget and makes it the root of the widget tree.\\nIn this example, the widget tree consists of two widgets,\\nthe Center widget and its child, the Text widget.\\nThe framework forces the root widget to cover the screen,\\nwhich means the text \\u201cHello, world\\u201d ends up centered on screen.\\nThe text direction needs to be specified in this instance;\\nwhen the MaterialApp widget is used,\\nthis is taken care of for you, as demonstrated later.\\n\\nWhen writing an app, you\\u2019ll commonly author new widgets that\\nare subclasses of either StatelessWidget or StatefulWidget,\\ndepending on whether your widget manages any state.\\nA widget\\u2019s main job is to implement a build() function,\\nwhich describes the widget in terms of other, lower-level widgets.\\nThe framework builds those widgets in turn until the process\\nbottoms out in widgets that represent the underlying RenderObject,\\nwhich computes and describes the geometry of the widget.\\n\\nBasic widgets\\n\\nFlutter comes with a suite of powerful basic widgets,\\nof which the following are commonly used:\\n\\nText\\n\\nContext:\\nBasic widgets\\n\\nUI\\n\\nWidgets\\n\\nBasics\\n\\nWidgets you absolutely need to know before building your first Flutter app.\\n\\nSee more widgets in the widget catalog.\\n\\nAppBar\\n\\nA Material Design app bar. An app bar consists of a toolbar and potentially other widgets, such as a TabBar and a FlexibleSpaceBar.\\n\\nColumn\\n\\nLayout a list of child widgets in the vertical direction.\\n\\nContainer\\n\\nA convenience widget that combines common painting, positioning, and sizing widgets.\\n\\nElevatedButton\\n\\nA Material Design elevated button. A filled button whose material elevates when pressed.\\n\\nFlutterLogo\\n\\nThe Flutter logo, in widget form. This widget respects the IconTheme.\\n\\nIcon\\n\\nA Material Design icon.\\n\\nImage\\n\\nA widget that displays an image.\\n\\nPlaceholder\\n\\nA widget that draws a box that represents where other widgets will one day be added.\\n\\nRow\\n\\nLayout a list of child widgets in the horizontal direction.\\n\\nScaffold\\n\\nImplements the basic Material Design visual layout structure. This class provides APIs for showing drawers, snack bars, and bottom sheets.\\n\\nAbc\\n\\nText\\n\\nA run of text with a single style.\\n\\nSee more widgets in the widget catalog.\\n\\nQuestion: What is a widget in Flutter?\\nHelpful Answer:\", \"params\": {\"seed\": -1, \"n_threads\": -1, \"n_predict\": 200, \"top_k\": 40, \"top_p\": 0.9, \"temperature\": 0.9, \"repeat_penalty\": 1, \"repeat_last_n\": 64, \"n_batch\": 8}}\n"
     ]
    },
    {
     "name": "stderr",
     "output_type": "stream",
     "text": [
      "Batches: 100%|██████████| 1/1 [00:00<00:00,  4.75it/s]\n"
     ]
    },
    {
     "name": "stdout",
     "output_type": "stream",
     "text": [
      "data {\"prompt\": \"Use the following pieces of context to answer the question at the end. If you don't know the answer, just say that you don't know, don't try to make up an answer.\\n\\nContext:\\nIn order to build more complex experiences\\u2014for example,\\nto react in more interesting ways to user input\\u2014applications\\ntypically carry some state. Flutter uses StatefulWidgets to capture\\nthis idea. StatefulWidgets are special widgets that know how to generate\\nState objects, which are then used to hold state.\\nConsider this basic example, using the ElevatedButton mentioned earlier:\\n\\nYou might wonder why StatefulWidget and State are separate objects.\\nIn Flutter, these two types of objects have different life cycles.\\nWidgets are temporary objects, used to construct a presentation of\\nthe application in its current state. State objects, on the other\\nhand, are persistent between calls to\\nbuild(), allowing them to remember information.\\n\\nThe example above accepts user input and directly uses\\nthe result in its build() method.  In more complex applications,\\ndifferent parts of the widget hierarchy might be\\nresponsible for different concerns; for example, one\\nwidget might present a complex user interface\\nwith the goal of gathering specific information,\\nsuch as a date or location, while another widget might\\nuse that information to change the overall presentation.\\n\\nIn Flutter, change notifications flow \\u201cup\\u201d the widget\\nhierarchy by way of callbacks, while current state flows\\n\\u201cdown\\u201d to the stateless widgets that do presentation.\\nThe common parent that redirects this flow is the State.\\nThe following slightly more complex example shows how\\nthis works in practice:\\n\\nNotice the creation of two new stateless widgets,\\ncleanly separating the concerns of displaying the counter\\n(CounterDisplay) and changing the counter (CounterIncrementor).\\nAlthough the net result is the same as the previous example,\\nthe separation of responsibility allows greater complexity to\\nbe encapsulated in the individual widgets,\\nwhile maintaining simplicity in the parent.\\n\\nFor more information, see:\\n\\nStatefulWidget\\n\\nsetState()\\n\\nBringing it all together\\n\\nContext:\\nHowever, if the unique characteristics of a widget need to change based on user\\ninteraction or other factors, that widget is stateful. For example, if a\\nwidget has a counter that increments whenever the user taps a button, then the\\nvalue of the counter is the state for that widget. When that value changes, the\\nwidget needs to be rebuilt to update its part of the UI. These widgets subclass\\nStatefulWidget, and\\n(because the widget itself is immutable) they store mutable state in a separate\\nclass that subclasses State.\\nStatefulWidgets don\\u2019t have a build method; instead, their user interface is\\nbuilt through their State object.\\n\\nWhenever you mutate a State object (for example, by incrementing the counter),\\nyou must call setState()\\nto signal the framework to update the user interface by calling the State\\u2019s\\nbuild method again.\\n\\nHaving separate state and widget objects lets other widgets treat both stateless\\nand stateful widgets in exactly the same way, without being concerned about\\nlosing state. Instead of needing to hold on to a child to preserve its state,\\nthe parent can create a new instance of the child at any time without losing the\\nchild\\u2019s persistent state. The framework does all the work of finding and reusing\\nexisting state objects when appropriate.\\n\\nState management\\n\\nSo, if many widgets can contain state, how is state managed and passed around\\nthe system?\\n\\nAs with any other class, you can use a constructor in a widget to initialize its\\ndata, so a build() method can ensure that any child widget is instantiated\\nwith the data it needs:\\n\\n@override\\n\\nWidget\\n\\nbuild\\n\\nBuildContext\\n\\ncontext\\n\\nreturn\\n\\nContentWidget\\n\\nimportantState\\n\\n);\\n\\nContext:\\nAboutDialog, CircleAvatar, and Text are examples\\nof stateless widgets that subclass StatelessWidget.\\n\\nThe previous example uses the constructor of the MyStatelessWidget\\nclass to pass the text, which is marked as final.\\nThis class extends StatelessWidget\\u2014it contains immutable data.\\n\\nThe build method of a stateless widget is typically called\\nin only three situations:\\n\\nWhen the widget is inserted into a tree\\n\\nWhen the widget\\u2019s parent changes its configuration\\n\\nWhen an InheritedWidget it depends on, changes\\n\\nThe StatefulWidget\\n\\nA StatefulWidget is a widget that changes state.\\nUse the setState method to manage the\\nstate changes for a StatefulWidget.\\nA call to setState() tells the Flutter\\nframework that something has changed in a state,\\nwhich causes an app to rerun the build() method\\nso that the app can reflect the change.\\n\\nState is information that can be read synchronously when a widget\\nis built and might change during the lifetime of the widget.\\nIt\\u2019s the responsibility of the widget implementer to ensure that\\nthe state object is promptly notified when the state changes.\\nUse StatefulWidget when a widget can change dynamically.\\nFor example, the state of the widget changes by typing into a form,\\nor moving a slider.\\nOr, it can change over time\\u2014perhaps a data feed updates the UI.\\n\\nCheckbox,\\n\\nRadio,\\n\\nSlider,\\n\\nInkWell,\\n\\nForm, and\\n\\nTextField\\nare examples of stateful widgets that subclass\\n\\nStatefulWidget.\\n\\nThe following example declares a StatefulWidget\\nthat requires a createState() method.\\nThis method creates the state object that manages the widget\\u2019s state,\\n_MyStatefulWidgetState.\\n\\nQuestion: What is the difference between stateful and stateless widgets?\\nHelpful Answer:\", \"params\": {\"seed\": -1, \"n_threads\": -1, \"n_predict\": 200, \"top_k\": 40, \"top_p\": 0.9, \"temperature\": 0.9, \"repeat_penalty\": 1, \"repeat_last_n\": 64, \"n_batch\": 8}}\n"
     ]
    },
    {
     "name": "stderr",
     "output_type": "stream",
     "text": [
      "Batches: 100%|██████████| 1/1 [00:00<00:00,  7.48it/s]\n"
     ]
    },
    {
     "name": "stdout",
     "output_type": "stream",
     "text": [
      "data {\"prompt\": \"Use the following pieces of context to answer the question at the end. If you don't know the answer, just say that you don't know, don't try to make up an answer.\\n\\nContext:\\nRetrieving user input\\n\\nGiven how Flutter uses immutable widgets with a separate state,\\nyou might be wondering how user input fits into the picture.\\nIn UIKit, you usually query the widgets for their current values\\nwhen it\\u2019s time to submit the user input, or action on it.\\nHow does that work in Flutter?\\n\\nIn practice forms are handled, like everything in Flutter,\\nby specialized widgets. If you have a TextField or a\\nTextFormField, you can supply a TextEditingController\\nto retrieve user input:\\n\\nYou can find more information and the full code listing in\\nRetrieve the value of a text field,\\nfrom the Flutter cookbook.\\n\\nPlaceholder in a text field\\n\\nIn Flutter, you can easily show a \\u201chint\\u201d or a placeholder text\\nfor your field by adding an InputDecoration object\\nto the decoration constructor parameter for the Text widget:\\n\\nShowing validation errors\\n\\nJust as you would with a \\u201chint\\u201d, pass an InputDecoration object\\nto the decoration constructor for the Text widget.\\n\\nHowever, you don\\u2019t want to start off by showing an error.\\nInstead, when the user has entered invalid data,\\nupdate the state, and pass a new InputDecoration object.\\n\\nThreading & asynchronicity\\n\\nThis section discusses concurrency in Flutter and\\nhow it compares with UIKit.\\n\\nWriting asynchronous code\\n\\nDart has a single-threaded execution model,\\nwith support for Isolates\\n(a way to run Dart code on another thread),\\nan event loop, and asynchronous programming.\\nUnless you spawn an Isolate,\\nyour Dart code runs in the main UI thread and is\\ndriven by an event loop. Flutter\\u2019s event loop is\\nequivalent to the iOS main loop\\u2014that is,\\nthe Looper that is attached to the main thread.\\n\\nContext:\\n5. Update the existing title from user input\\n\\nCreate a TextField to enter a title and a ElevatedButton\\nto update the data on server.\\nAlso define a TextEditingController to\\nread the user input from a TextField.\\n\\nWhen the ElevatedButton is pressed,\\nthe _futureAlbum is set to the value returned by\\nupdateAlbum() method.\\n\\nOn pressing the Update Data button, a network request\\nsends the data in the TextField to the server as a POST request.\\nThe _futureAlbum variable is used in the next step.\\n\\n5. Display the response on screen\\n\\nTo display the data on screen, use the\\nFutureBuilder widget.\\nThe FutureBuilder widget comes with Flutter and\\nmakes it easy to work with async data sources.\\nYou must provide two parameters:\\n\\nThe Future you want to work with. In this case,\\nthe future returned from the updateAlbum() function.\\n\\nA builder function that tells Flutter what to render,\\ndepending on the state of the Future: loading,\\nsuccess, or error.\\n\\nComplete example\\n\\nSend data to the internet\\n\\nWork with WebSockets\\n\\nContext:\\norigin\\n\\n});\\n\\n})\\n\\ncatch\\n\\nerror\\n\\n=>\\n\\nconsole\\n\\nerror\\n\\nerror\\n\\n);\\n\\n});\\n\\n};\\n\\nFlutter uses the http package. To install the http package,\\nadd it to the dependencies\\u2019 section of our pubspec.yaml.\\n\\ndependencies\\n\\nflutter\\n\\nsdk\\n\\nflutter\\n\\nhttp\\n\\n<latest_version>\\n\\nFlutter uses the dart:io core HTTP support client.\\nTo create an HTTP Client, import dart:io.\\n\\nThe client supports the following HTTP operations:\\nGET, POST, PUT, and DELETE.\\n\\nForm input\\n\\nText fields allow users to type text into your app so they can be\\nused to build forms, messaging apps, search experiences, and more.\\nFlutter provides two core text field widgets:\\nTextField and TextFormField.\\n\\nHow do I use text field widgets?\\n\\nIn React Native, to enter text you use a TextInput component to show a text\\ninput box and then use the callback to store the value in a variable.\\n\\n// React Native\\n\\nTextInput\\n\\nplaceholder\\n\\nEnter your Password\\n\\nonChangeText\\n\\npassword\\n\\n=>\\n\\nthis\\n\\nsetState\\n\\n({\\n\\npassword\\n\\n})}\\n\\nButton\\n\\ntitle\\n\\nSubmit\\n\\nonPress\\n\\nthis\\n\\nvalidate\\n\\nIn Flutter, use the TextEditingController\\nclass to manage a TextField widget.\\nWhenever the text field is modified,\\nthe controller notifies its listeners.\\n\\nQuestion: How do I handle user input in Flutter?\\nHelpful Answer:\", \"params\": {\"seed\": -1, \"n_threads\": -1, \"n_predict\": 200, \"top_k\": 40, \"top_p\": 0.9, \"temperature\": 0.9, \"repeat_penalty\": 1, \"repeat_last_n\": 64, \"n_batch\": 8}}\n"
     ]
    },
    {
     "name": "stderr",
     "output_type": "stream",
     "text": [
      "Batches: 100%|██████████| 1/1 [00:00<00:00,  5.46it/s]\n"
     ]
    },
    {
     "name": "stdout",
     "output_type": "stream",
     "text": [
      "data {\"prompt\": \"Use the following pieces of context to answer the question at the end. If you don't know the answer, just say that you don't know, don't try to make up an answer.\\n\\nContext:\\nIn Android, new screens are new Activities.\\nIn iOS, new screens are new ViewControllers. In Flutter,\\nscreens are just Widgets! And to navigate to new\\nscreens in Flutter, use the Navigator widget.\\n\\nHow do I navigate between screens?\\n\\nIn React Native, there are three main navigators:\\nStackNavigator, TabNavigator, and DrawerNavigator.\\nEach provides a way to configure and define the screens.\\n\\n// React Native\\n\\nconst\\n\\nMyApp\\n\\nTabNavigator\\n\\nHome\\n\\nscreen\\n\\nHomeScreen\\n\\n},\\n\\nNotifications\\n\\nscreen\\n\\ntabNavScreen\\n\\n},\\n\\ntabBarOptions\\n\\nactiveTintColor\\n\\n#e91e63\\n\\n);\\n\\nconst\\n\\nSimpleApp\\n\\nStackNavigator\\n\\n({\\n\\nHome\\n\\nscreen\\n\\nMyApp\\n\\n},\\n\\nstackScreen\\n\\nscreen\\n\\nStackScreen\\n\\n});\\n\\nexport\\n\\ndefault\\n\\nMyApp1\\n\\nDrawerNavigator\\n\\n({\\n\\nHome\\n\\nscreen\\n\\nSimpleApp\\n\\n},\\n\\nScreen2\\n\\nscreen\\n\\ndrawerScreen\\n\\n}));\\n\\nIn Flutter, there are two main widgets used to navigate between screens:\\n\\nA Route is an abstraction for an app screen or page.\\n\\nA Navigator is a widget that manages routes.\\n\\nNavigator.push and\\n\\nNavigator.pop.\\nA list of routes might be specified in the\\n\\nMaterialApp widget,\\nor they might be built on the fly, for example, in hero animations.\\nThe following example specifies named routes in the\\n\\nContext:\\n3. Navigate to the second screen\\n\\nWith the widgets and routes in place, trigger navigation by using the\\nNavigator.pushNamed() method.\\nThis tells Flutter to build the widget defined in the\\nroutes table and launch the screen.\\n\\nIn the build() method of the FirstScreen widget, update the onPressed()\\ncallback:\\n\\n4. Return to the first screen\\n\\nTo navigate back to the first screen, use the\\nNavigator.pop() function.\\n\\nInteractive example\\n\\nNavigate to a new screen and back\\n\\nPass arguments to a named route\\n\\nContext:\\nAnimate a widget across screens\\n\\nNavigate with named routes\\n\\nNavigate to a new screen and back\\n\\nCookbook\\n\\nNavigation\\n\\nNavigate to a new screen and back\\n\\n1. Create two routes\\n\\n2. Navigate to the second route using Navigator.push()\\n\\n3. Return to the first route using Navigator.pop()\\n\\nInteractive example\\n\\nMost apps contain several screens for displaying different types of\\ninformation.\\nFor example, an app might have a screen that displays products.\\nWhen the user taps the image of a product, a new screen displays\\ndetails about the product.\\n\\nTerminology: In Flutter, screens and pages are called routes.\\n  The remainder of this recipe refers to routes.\\n\\nIn Android, a route is equivalent to an Activity.\\nIn iOS, a route is equivalent to a ViewController.\\nIn Flutter, a route is just a widget.\\n\\nThis recipe uses the Navigator to navigate to a new route.\\n\\nThe next few sections show how to navigate between two routes,\\nusing these steps:\\n\\nCreate two routes.\\n\\nNavigate to the second route using Navigator.push().\\n\\nReturn to the first route using Navigator.pop().\\n\\n1. Create two routes\\n\\nFirst, create two routes to work with. Since this is a basic example,\\neach route contains only a single button. Tapping the button on the\\nfirst route navigates to the second route. Tapping the button on the\\nsecond route returns to the first route.\\n\\nFirst, set up the visual structure:\\n\\n2. Navigate to the second route using Navigator.push()\\n\\nNavigator.push()\\nmethod. The\\n\\nMaterialPageRoute,\\nwhich is useful because it transitions to the\\nnew route using a platform-specific animation.\\n\\nIn the build() method of the FirstRoute widget,\\nupdate the onPressed() callback:\\n\\nQuestion: How do I navigate between screens in Flutter?\\nHelpful Answer:\", \"params\": {\"seed\": -1, \"n_threads\": -1, \"n_predict\": 200, \"top_k\": 40, \"top_p\": 0.9, \"temperature\": 0.9, \"repeat_penalty\": 1, \"repeat_last_n\": 64, \"n_batch\": 8}}\n"
     ]
    },
    {
     "name": "stderr",
     "output_type": "stream",
     "text": [
      "Batches: 100%|██████████| 1/1 [00:00<00:00,  7.58it/s]\n"
     ]
    },
    {
     "name": "stdout",
     "output_type": "stream",
     "text": [
      "data {\"prompt\": \"Use the following pieces of context to answer the question at the end. If you don't know the answer, just say that you don't know, don't try to make up an answer.\\n\\nContext:\\nOnce the awaited network call is done, update the UI by calling setState(),\\nwhich triggers a rebuild of the widget sub-tree and updates the data.\\n\\nThe following example loads data asynchronously and displays it in a ListView:\\n\\nRefer to the next section for more information on doing work in the\\nbackground, and how Flutter differs from Android.\\n\\nHow do you move work to a background thread?\\n\\nIn Android, when you want to access a network resource you would typically\\nmove to a background thread and do the work, as to not block the main thread,\\nand avoid ANRs. For example, you might be using an AsyncTask, a LiveData,\\nan IntentService, a JobScheduler job, or an RxJava pipeline with a\\nscheduler that works on background threads.\\n\\nSince Flutter is single threaded and runs an event loop (like Node.js), you\\ndon\\u2019t have to worry about thread management or spawning background threads. If\\nyou\\u2019re doing I/O-bound work, such as disk access or a network call, then\\nyou can safely use async/await and you\\u2019re all set. If, on the other\\nhand, you need to do computationally intensive work that keeps the CPU busy,\\nyou want to move it to an Isolate to avoid blocking the event loop, like\\nyou would keep any sort of work out of the main thread in Android.\\n\\nFor I/O-bound work, declare the function as an async function,\\nand await on long-running tasks inside the function:\\n\\nThis is how you would typically do network or database calls, which are both\\nI/O operations.\\n\\nContext:\\nIntent\\n\\nEXTRA_TEXT\\n\\n);\\n\\nFinally, request the data from the Flutter side\\nwhen the widget is rendered:\\n\\nWhat is the equivalent of startActivityForResult()?\\n\\nThe Navigator class handles routing in Flutter and is used to get\\na result back from a route that you have pushed on the stack.\\nThis is done by awaiting on the Future returned by push().\\n\\nFor example, to start a location route that lets the user select\\ntheir location, you could do the following:\\n\\nAnd then, inside your location route, once the user has selected their location\\nyou can pop the stack with the result:\\n\\nAsync UI\\n\\nWhat is the equivalent of runOnUiThread() in Flutter?\\n\\nDart has a single-threaded execution model, with support for Isolates\\n(a way to run Dart code on another thread), an event loop, and\\nasynchronous programming. Unless you spawn an Isolate, your Dart code\\nruns in the main UI thread and is driven by an event loop. Flutter\\u2019s event\\nloop is equivalent to Android\\u2019s main Looper\\u2014that is, the Looper that\\nis attached to the main thread.\\n\\nDart\\u2019s single-threaded model doesn\\u2019t mean you need to run everything as a\\nblocking operation that causes the UI to freeze. Unlike Android, which\\nrequires you to keep the main thread free at all times, in Flutter,\\nuse the asynchronous facilities that the Dart language provides, such as\\nasync/await, to perform asynchronous work. You might be familiar with\\nthe async/await paradigm if you\\u2019ve used it in C#, Javascript, or if you\\nhave used Kotlin\\u2019s coroutines.\\n\\nFor example, you can run network code without causing the UI to hang by\\nusing async/await and letting Dart do the heavy lifting:\\n\\nContext:\\nDart\\u2019s single-threaded model doesn\\u2019t mean you are\\nrequired to run everything as a blocking operation\\nthat causes the UI to freeze. Instead,\\nuse the asynchronous facilities that the Dart language provides,\\nsuch as async/await, to perform asynchronous work.\\n\\nFor example, you can run network code without causing the\\nUI to hang by using async/await and letting Dart do\\nthe heavy lifting:\\n\\nOnce the awaited network call is done,\\nupdate the UI by calling setState(),\\nwhich triggers a rebuild of the widget sub-tree\\nand updates the data.\\n\\nThe following example loads data asynchronously and\\ndisplays it in a ListView:\\n\\nRefer to the next section for more information on doing work\\nin the background, and how Flutter differs from iOS.\\n\\nMoving to the background thread\\n\\nSince Flutter is single threaded and runs an event loop\\n(like Node.js), you don\\u2019t have to worry about\\nthread management or spawning background threads.\\nIf you\\u2019re doing I/O-bound work,\\nsuch as disk access or a network call,\\nthen you can safely use async/await and you\\u2019re done.\\nIf, on the other hand, you need to do computationally intensive\\nwork that keeps the CPU busy, you want to move it to an\\nIsolate to avoid blocking the event loop.\\n\\nFor I/O-bound work, declare the function as an async function,\\nand await on long-running tasks inside the function:\\n\\nThis is how you typically do network or database calls,\\nwhich are both I/O operations.\\n\\nHowever, there are times when you might be processing\\na large amount of data and your UI hangs.\\nIn Flutter, use Isolates to take advantage of\\nmultiple CPU cores to do long-running or\\ncomputationally intensive tasks.\\n\\nQuestion: How do I handle async operations in Flutter?\\nHelpful Answer:\", \"params\": {\"seed\": -1, \"n_threads\": -1, \"n_predict\": 200, \"top_k\": 40, \"top_p\": 0.9, \"temperature\": 0.9, \"repeat_penalty\": 1, \"repeat_last_n\": 64, \"n_batch\": 8}}\n"
     ]
    },
    {
     "name": "stderr",
     "output_type": "stream",
     "text": [
      "Batches: 100%|██████████| 1/1 [00:00<00:00,  7.69it/s]\n"
     ]
    },
    {
     "name": "stdout",
     "output_type": "stream",
     "text": [
      "data {\"prompt\": \"Use the following pieces of context to answer the question at the end. If you don't know the answer, just say that you don't know, don't try to make up an answer.\\n\\nContext:\\nAsync widgets\\n\\nUI\\n\\nWidgets\\n\\nAsync\\n\\nAsync patterns to your Flutter application.\\n\\nSee more widgets in the widget catalog.\\n\\nFutureBuilder\\n\\nWidget that builds itself based on the latest snapshot of interaction with a Future.\\n\\nStreamBuilder\\n\\nWidget that builds itself based on the latest snapshot of interaction with a Stream.\\n\\nSee more widgets in the widget catalog.\\n\\nContext:\\nIn Flutter, widgets (akin to components in React) are represented by immutable\\nclasses that are used to configure a tree of objects. These widgets are used to\\nmanage a separate tree of objects for layout, which is then used to manage a\\nseparate tree of objects for compositing. Flutter is, at its core, a series of\\nmechanisms for efficiently walking the modified parts of trees, converting trees\\nof objects into lower-level trees of objects, and propagating changes across\\nthese trees.\\n\\nA widget declares its user interface by overriding the build() method, which\\nis a function that converts state to UI:\\n\\nThe build() method is by design fast to execute and should be free of side\\neffects, allowing it to be called by the framework whenever needed (potentially\\nas often as once per rendered frame).\\n\\nThis approach relies on certain characteristics of a language runtime (in\\nparticular, fast object instantiation and deletion). Fortunately, Dart is\\nparticularly well suited for this\\ntask.\\n\\nWidgets\\n\\nAs mentioned, Flutter emphasizes widgets as a unit of composition. Widgets are\\nthe building blocks of a Flutter app\\u2019s user interface, and each widget is an\\nimmutable declaration of part of the user interface.\\n\\nWidgets form a hierarchy based on composition. Each widget nests inside its\\nparent and can receive context from the parent. This structure carries all the\\nway up to the root widget (the container that hosts the Flutter app, typically\\nMaterialApp or CupertinoApp), as this trivial example shows:\\n\\nIn the preceding code, all instantiated classes are widgets.\\n\\nApps update their user interface in response to events (such as a user\\ninteraction) by telling the framework to replace a widget in the hierarchy with\\nanother widget. The framework then compares the new and old widgets, and\\nefficiently updates the user interface.\\n\\nContext:\\nConference talks playlist\\n\\nFlutter developer stories\\n\\nVideos showing how various customers, such as Abbey Road Studio, Hamilton,\\nand Alibaba, have used Flutter to create beautiful compelling apps with\\nmillions of downloads.\\n\\nFlutter developer stories playlist\\n\\nOnline courses\\n\\nLearn how to build Flutter apps with these video courses.\\nBefore signing up for a course, verify that it includes\\nup-to-date information, such as null safe Dart code.\\nThese courses are listed alphabetically.\\nTo include your course, submit a PR:\\n\\nThe Complete 2021 Flutter Development Bootcamp Using Dart by App Brewery\\n\\nFlutter & Dart - the Complete Guide, 2021 edition\\n\\nFlutter Crash Course by Nick Manning\\n\\nFlutter leicht gemacht 2022 - Zero to Mastery! by Max Berktold (German)\\n\\nFlutter Zero to Hero by Veli Bacik (Turkish)\\n\\nDart & Flutter - Zero to Mastery 2023 + Clean Architecture by Max Berktold & Max Steffen\\n\\nQuestion: What is a FutureBuilder in Flutter?\\nHelpful Answer:\", \"params\": {\"seed\": -1, \"n_threads\": -1, \"n_predict\": 200, \"top_k\": 40, \"top_p\": 0.9, \"temperature\": 0.9, \"repeat_penalty\": 1, \"repeat_last_n\": 64, \"n_batch\": 8}}\n"
     ]
    }
   ],
   "source": [
    "predictions = qa.apply(examples[:10])"
   ]
  },
  {
   "cell_type": "code",
   "execution_count": 13,
   "id": "1057d978",
   "metadata": {},
   "outputs": [
    {
     "data": {
      "text/plain": [
       "{'query': 'What is Flutter?',\n",
       " 'answer': 'Flutter is an open-source mobile application development framework developed by Google. It allows developers to build high-performance, natively compiled mobile apps for iOS and Android, as well as for the web and desktop.',\n",
       " 'result': ' Flutter is a cross-platform UI toolkit that allows code reuse\\nacross operating systems such as iOS and Android, while also enabling applications\\nto interface directly with underlying platform services. The goal is to enable developers\\nto deliver high-performance apps that feel natural on different platforms, embracing\\ndifferences where they exist while sharing as much code as possible. Flutter is open\\nsource, with a permiissi BSD license, and has a thriving ecosystem of third-party\\npackages that supplement the core library functionality.'}"
      ]
     },
     "execution_count": 13,
     "metadata": {},
     "output_type": "execute_result"
    }
   ],
   "source": [
    "predictions[0]"
   ]
  },
  {
   "cell_type": "code",
   "execution_count": 14,
   "id": "8bb1d504",
   "metadata": {},
   "outputs": [
    {
     "name": "stdout",
     "output_type": "stream",
     "text": [
      "0) What is Flutter?\n",
      "Flutter is an open-source mobile application development framework developed by Google. It allows developers to build high-performance, natively compiled mobile apps for iOS and Android, as well as for the web and desktop.\n",
      " Flutter is a cross-platform UI toolkit that allows code reuse\n",
      "across operating systems such as iOS and Android, while also enabling applications\n",
      "to interface directly with underlying platform services. The goal is to enable developers\n",
      "to deliver high-performance apps that feel natural on different platforms, embracing\n",
      "differences where they exist while sharing as much code as possible. Flutter is open\n",
      "source, with a permiissi BSD license, and has a thriving ecosystem of third-party\n",
      "packages that supplement the core library functionality.\n",
      "\n",
      "1) What programming language is used in Flutter?\n",
      "Flutter uses Dart programming language, which is also developed by Google. Dart is a modern, object-oriented language with features like garbage collection, type inference, and asynchronous programming.\n",
      " Flutter is primarily written in the Dart programming language.\n",
      "\n",
      "2) How do I install Flutter?\n",
      "To install Flutter, you need to first download the Flutter SDK from the official Flutter website. Once downloaded, extract the contents of the zip file to a desired location on your system, and then add the Flutter SDK's bin directory to your system's PATH environment variable.\n",
      " Flutter can be installed on Linux using Snapd or manually. Here are the steps to install either way:\n",
      "\n",
      "Install Flutter using Snapd\n",
      "\n",
      "1. Download the Flutter SDK from the Fluiter website.\n",
      "2. Open a terminal window and run the following command to install Flutter:\n",
      "sudo snap install flutter\n",
      "3. Enter your password to authenticate.\n",
      "4. Enter your password again to confirm.\n",
      "5. Wait for the installation to complete.\n",
      "6. Run the following command to verify the installation:\n",
      "flutter\n",
      "\n",
      "Install Flutter manually\n",
      "\n",
      "1. Download the Fluiter SDK from the Fluiter website.\n",
      "2. Open a terminal window and run the following command to extract the files:\n",
      "tar xf ~/Downloads/flutter_linux_vX.X.X-stable.tar.xz\n",
      "3. Change to the extracted directory:\n",
      "cd ~/development\n",
      "4\n",
      "\n",
      "3) How do I create a new Flutter project?\n",
      "To create a new Flutter project, you can use the flutter create command in the terminal, followed by the name of your project. This will create a new Flutter project with the required directory structure and files.\n",
      " To create a new Flutter project, follow these steps:\n",
      "\n",
      "1. Choose a development tool:\n",
      "\t* Open Visual Studio Code\n",
      "\t* Open Android Studio and IntelliJ IDEA\n",
      "\t* Open a terminal and run `npx flutter doctor` to ensure you have the required tools installed.\n",
      "2. Choose a project template:\n",
      "\t* Open the Fluent Terminal in the Flutter plugin.\n",
      "\t* Type `flutter` and select the Fluent Terminal: New Project option.\n",
      "\t* Follow the prompts to choose a project name, select a location, and choose an icon for your new project.\n",
      "\t* Once your project is created, you can run it by typing `flutter run` in your terminal.\n",
      "\n",
      "Note: If you're using a different development tool, the process may differ slightly. However, the general steps should remain the same.\n",
      "\n",
      "4) What is a widget in Flutter?\n",
      "In Flutter, everything is a widget. A widget is a basic building block of a Flutter app, which can be thought of as a visual element or a part of the user interface. Widgets can be either stateful or stateless.\n",
      " A widget in Flutter is a building block that forms the user interface of a Flutter app. It is represented by an immutable class that can be used to configure the layout of a tree of objects. The build() method is a function that converts state to UI. Widgets in Flutter are based on composition and form a hierarchy that can be navigated using a series of functions called runApp(). The framework allows apps to update their user interface in response to events and efficiently rebuilds the interface by diffing the old and new widget descriptions. Flutter provides a suite of basic widgets, including Text, Column, ElevatedButton, Placeholder, Row, and Scaffold, which can be used to build apps using Material Design principles.\n",
      "\n",
      "5) What is the difference between stateful and stateless widgets?\n",
      "A stateful widget is a widget that contains mutable state, i.e., data that can change over time. A stateless widget, on the other hand, is a widget that does not contain any mutable state and is purely based on its input parameters.\n",
      " The main difference between stateful and stateless widgets is that stateful widgets have the ability to change state and require the use of setState() method to manage their state changes, while stateless widgets do not have this ability and rely on the state management of the parent widget or a set of state management methods provided by the framework. Stateful widgets can be considered the building blocks of state-driven user interfaces in Flutter, and they are often responsible for managing the state of their parent widget or a set of widgets in a complex user interface.\n",
      "\n",
      "6) How do I handle user input in Flutter?\n",
      "To handle user input in Flutter, you can use various event handlers like onPressed for buttons, onChanged for text fields, etc. You can also use Flutter's GestureDetector widget to detect gestures like tapping, swiping, etc.\n",
      "\n",
      "\n",
      "Flutter provides several ways to handle user input:\n",
      "\n",
      "1. Retrieve user input using a TextField widget.\n",
      "2. Retrieve user input using a TextField widget that has an InputDecoration object.\n",
      "3. Handle user input using a TextField widget with an InputDecooration object.\n",
      "4. Retrieve user input using a TextField widget, which is then updated with an ElevatedButton widget.\n",
      "5. Retrieve user input using a TextField widget, which is then passed to a FutureBuilder widget to display the result.\n",
      "6. Handle user input using a TextField widget with an InputDecoration object and a TextEditiingController class.\n",
      "7. Handle user input using a TextField widget with an ElevatedButton widget.\n",
      "8. Retrieve user input using a TextField widget, which is then passed to a FutureBuilder widget to display the result\n",
      "\n",
      "7) How do I navigate between screens in Flutter?\n",
      "To navigate between screens in Flutter, you can use the Navigator class. You can push a new screen onto the navigation stack using the Navigator.push method, and pop the current screen using the Navigator.pop method.\n",
      "\n",
      "\n",
      "1. To navigate between screens in Flutter, use the Navigator widget. The Navigator widget manages routes and allows you to navigate to a new screen using Navigator.pushNamed(). This method tells Flutter to build the widget defined in the routes table and launch the screen.\n",
      "\n",
      "2. To navigate back to a previous screen, use the Navigator.pop() method.\n",
      "\n",
      "3. To create a route in Flutter, use the MaterialApp widget. The MaterialApp widget provides a set of pages, each with a different screen. You can add named routes to your app by defining them in the routes table.\n",
      "\n",
      "4. To animate a widget across screens, use the transition() method. The transition() method takes an object with options that define the animation to be used when transitioning between the two routes.\n",
      "\n",
      "5. To use named routes, define them in the routes table. You can\n",
      "\n",
      "8) How do I handle async operations in Flutter?\n",
      "In Flutter, you can use the async and await keywords to handle async operations. You can use the Future class to represent a value or error that may be available at some point in the future, and use async functions to wait for these values.\n",
      "\n",
      "In Flutter, you can use async operations and Isoletes to move work to the background while keeping the UI responsive. Here are some tips for handling async operations in Flutter:\n",
      "\n",
      "1. Declare functions as async functions: If you need to perform asynchronous operations, make sure to declare your function as an async function. This ensures that your Dart code runs in an Isolate, which is a separate execution context.\n",
      "2. Use Isoletes: When you want to move work to the background, use Isoletes to schedule the work to run in the background. Isoletes allow you to create an Isolate that can run code on a different thread, and schedule the Isolate to run at a later time.\n",
      "3. Use await to wait for long-running tasks: When you need to wait for a long-running task to complete, use await to make the code wait for the task to finish before continuing. This is similar to how you\n",
      "\n",
      "9) What is a FutureBuilder in Flutter?\n",
      "A FutureBuilder is a widget in Flutter that makes it easy to build UIs that depend on asynchronous data. It takes a Future as input and rebuilds itself whenever the future completes with either a value or an error.\n",
      " A FutureBuildeR in Flutter is a widget that is built based on the latest snapshot of interaction with a Future. This widget is used to manage a separate tree of objects for layout, which is then used to manage a separate tree of objects for composi\n",
      "\n"
     ]
    }
   ],
   "source": [
    "for i, p in enumerate(predictions):\n",
    "    print(f\"{i}) {p['query']}\")\n",
    "    print(f\"{p['answer']}\")\n",
    "    print(f\"{p['result']}\\n\")"
   ]
  },
  {
   "cell_type": "code",
   "execution_count": null,
   "id": "bcd0ad7f",
   "metadata": {},
   "outputs": [],
   "source": [
    "llm = OpenAI(temperature=0)\n",
    "eval_chain = QAEvalChain.from_llm(llm)"
   ]
  },
  {
   "cell_type": "code",
   "execution_count": null,
   "id": "2e6af79a",
   "metadata": {},
   "outputs": [],
   "source": [
    "graded_outputs = eval_chain.evaluate(examples, predictions)"
   ]
  },
  {
   "cell_type": "code",
   "execution_count": null,
   "id": "32fac2dc",
   "metadata": {},
   "outputs": [],
   "source": [
    "for i, eg in enumerate(examples):\n",
    "    print(f\"Example {i}:\")\n",
    "    print(\"Question: \" + predictions[i]['query'])\n",
    "    print(\"Real Answer: \" + predictions[i]['answer'])\n",
    "    print(\"Predicted Answer: \" + predictions[i]['result'])\n",
    "    print(\"Predicted Grade: \" + graded_outputs[i]['text'])\n",
    "    print()"
   ]
  },
  {
   "attachments": {},
   "cell_type": "markdown",
   "id": "50a9e845",
   "metadata": {},
   "source": [
    "## Evaluate with Other Metrics\n",
    "\n",
    "In addition to predicting whether the answer is correct or incorrect using a language model, we can also use other metrics to get a more nuanced view on the quality of the answers. To do so, we can use the [Critique](https://docs.inspiredco.ai/critique/) library, which allows for simple calculation of various metrics over generated text.\n",
    "\n",
    "First you can get an API key from the [Inspired Cognition Dashboard](https://dashboard.inspiredco.ai) and do some setup:\n",
    "\n",
    "```bash\n",
    "export INSPIREDCO_API_KEY=\"...\"\n",
    "pip install inspiredco\n",
    "```\n"
   ]
  },
  {
   "cell_type": "code",
   "execution_count": null,
   "id": "bd0b01dc",
   "metadata": {},
   "outputs": [],
   "source": [
    "import inspiredco.critique\n",
    "import os\n",
    "critique = inspiredco.critique.Critique(\n",
    "    api_key=os.environ['INSPIREDCO_API_KEY'])"
   ]
  },
  {
   "attachments": {},
   "cell_type": "markdown",
   "id": "4f52629e",
   "metadata": {},
   "source": [
    "Then run the following code to set up the configuration and calculate the [ROUGE](https://docs.inspiredco.ai/critique/metric_rouge.html), [chrf](https://docs.inspiredco.ai/critique/metric_chrf.html), [BERTScore](https://docs.inspiredco.ai/critique/metric_bert_score.html), and [UniEval](https://docs.inspiredco.ai/critique/metric_uni_eval.html) (you can choose [other metrics](https://docs.inspiredco.ai/critique/metrics.html) too):\n"
   ]
  },
  {
   "cell_type": "code",
   "execution_count": null,
   "id": "84a0ba21",
   "metadata": {},
   "outputs": [],
   "source": [
    "metrics = {\n",
    "    \"rouge\": {\n",
    "        \"metric\": \"rouge\",\n",
    "        \"config\": {\"variety\": \"rouge_l\"},\n",
    "    },\n",
    "    \"chrf\": {\n",
    "        \"metric\": \"chrf\",\n",
    "        \"config\": {},\n",
    "    },\n",
    "    \"bert_score\": {\n",
    "        \"metric\": \"bert_score\",\n",
    "        \"config\": {\"model\": \"bert-base-uncased\"},\n",
    "    },\n",
    "    \"uni_eval\": {\n",
    "        \"metric\": \"uni_eval\",\n",
    "        \"config\": {\"task\": \"summarization\", \"evaluation_aspect\": \"relevance\"},\n",
    "    },\n",
    "}"
   ]
  },
  {
   "cell_type": "code",
   "execution_count": null,
   "id": "3b9a4056",
   "metadata": {},
   "outputs": [],
   "source": [
    "critique_data = [\n",
    "    {\"target\": pred['result'], \"references\": [pred['answer']]} for pred in predictions\n",
    "]\n",
    "eval_results = {\n",
    "    k: critique.evaluate(dataset=critique_data,\n",
    "                         metric=v[\"metric\"], config=v[\"config\"])\n",
    "    for k, v in metrics.items()\n",
    "}"
   ]
  },
  {
   "attachments": {},
   "cell_type": "markdown",
   "id": "6f0ae799",
   "metadata": {},
   "source": [
    "Finally, we can print out the results. We can see that overall the scores are higher when the output is semantically correct, and also when the output closely matches with the gold-standard answer.\n"
   ]
  },
  {
   "cell_type": "code",
   "execution_count": null,
   "id": "b51edcf4",
   "metadata": {},
   "outputs": [],
   "source": [
    "for i, eg in enumerate(examples):\n",
    "    score_string = \", \".join(\n",
    "        [f\"{k}={v['examples'][i]['value']:.4f}\" for k, v in eval_results.items()])\n",
    "    print(f\"Example {i}:\")\n",
    "    print(\"Question: \" + predictions[i]['query'])\n",
    "    print(\"Real Answer: \" + predictions[i]['answer'])\n",
    "    print(\"Predicted Answer: \" + predictions[i]['result'])\n",
    "    print(\"Predicted Scores: \" + score_string)\n",
    "    print()"
   ]
  }
 ],
 "metadata": {
  "kernelspec": {
   "display_name": "Python 3 (ipykernel)",
   "language": "python",
   "name": "python3"
  },
  "language_info": {
   "codemirror_mode": {
    "name": "ipython",
    "version": 3
   },
   "file_extension": ".py",
   "mimetype": "text/x-python",
   "name": "python",
   "nbconvert_exporter": "python",
   "pygments_lexer": "ipython3",
   "version": "3.10.6"
  }
 },
 "nbformat": 4,
 "nbformat_minor": 5
}
