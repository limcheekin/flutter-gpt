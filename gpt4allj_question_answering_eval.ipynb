{
 "cells": [
  {
   "attachments": {},
   "cell_type": "markdown",
   "id": "e78b7bb1",
   "metadata": {},
   "source": [
    "# Data Augmented Question Answering\n",
    "\n",
    "https://python.langchain.com/en/latest/use_cases/evaluation/data_augmented_question_answering.html\n",
    "\n",
    "This notebook uses some generic prompts/language models to evaluate an question answering system that uses other sources of data besides what is in the model. For example, this can be used to evaluate a question answering system over your proprietary data.\n",
    "\n",
    "## Setup\n",
    "\n",
    "Let's set up for my own use case.\n"
   ]
  },
  {
   "cell_type": "code",
   "execution_count": 1,
   "id": "ab4a6931",
   "metadata": {},
   "outputs": [
    {
     "data": {
      "text/plain": [
       "True"
      ]
     },
     "execution_count": 1,
     "metadata": {},
     "output_type": "execute_result"
    }
   ],
   "source": [
    "from langchain.llms import LlamaCpp\n",
    "from langchain.prompts.chat import (\n",
    "    ChatPromptTemplate,\n",
    "    SystemMessagePromptTemplate,\n",
    "    HumanMessagePromptTemplate,\n",
    ")\n",
    "from langchain.chains import RetrievalQA\n",
    "from langchain.embeddings import HuggingFaceInstructEmbeddings\n",
    "from llms import GPT4AllJApi\n",
    "import pickle\n",
    "from dotenv import load_dotenv\n",
    "load_dotenv()"
   ]
  },
  {
   "cell_type": "code",
   "execution_count": 2,
   "id": "373dc759",
   "metadata": {},
   "outputs": [],
   "source": [
    "def get_retriever(k: int = 3):\n",
    "    embedding = HuggingFaceInstructEmbeddings(\n",
    "        model_name=\"hkunlp/instructor-large\")\n",
    "    with open(\"faiss_store.pkl\", \"rb\") as f:\n",
    "        vector_store = pickle.load(f) \n",
    "    retriever = vector_store.as_retriever(search_kwargs={\"k\": k})\n",
    "    return retriever\n",
    "\n",
    "\n",
    "llm = GPT4AllJApi()"
   ]
  },
  {
   "cell_type": "code",
   "execution_count": 3,
   "id": "4fdc211d",
   "metadata": {},
   "outputs": [
    {
     "name": "stderr",
     "output_type": "stream",
     "text": [
      "/home/limcheekin/ws/py/flutter-gpt-hf/venv/lib/python3.10/site-packages/InstructorEmbedding/instructor.py:7: TqdmWarning: IProgress not found. Please update jupyter and ipywidgets. See https://ipywidgets.readthedocs.io/en/stable/user_install.html\n",
      "  from tqdm.autonotebook import trange\n"
     ]
    },
    {
     "name": "stdout",
     "output_type": "stream",
     "text": [
      "load INSTRUCTOR_Transformer\n",
      "max_seq_length  512\n"
     ]
    }
   ],
   "source": [
    "qa = RetrievalQA.from_llm(llm=llm, retriever=get_retriever())"
   ]
  },
  {
   "attachments": {},
   "cell_type": "markdown",
   "id": "30fd72f2",
   "metadata": {},
   "source": [
    "## Examples\n",
    "\n",
    "Now we need some examples to evaluate. We can do this in two ways:\n",
    "\n",
    "1. Hard code some examples ourselves\n",
    "2. Generate examples automatically, using a language model\n"
   ]
  },
  {
   "cell_type": "code",
   "execution_count": 4,
   "id": "3459b001",
   "metadata": {},
   "outputs": [],
   "source": [
    "# Hard-coded examples\n",
    "examples = [\n",
    "    {\n",
    "        \"query\": \"What is Flutter?\",\n",
    "        \"answer\": \"Flutter is an open-source mobile application development framework developed by Google. It allows developers to build high-performance, natively compiled mobile apps for iOS and Android, as well as for the web and desktop.\"\n",
    "    },\n",
    "    {\n",
    "        \"query\": \"What programming language is used in Flutter?\",\n",
    "        \"answer\": \"Flutter uses Dart programming language, which is also developed by Google. Dart is a modern, object-oriented language with features like garbage collection, type inference, and asynchronous programming.\"\n",
    "    },\n",
    "    {\n",
    "        \"query\": \"How do I install Flutter?\",\n",
    "        \"answer\": \"To install Flutter, you need to first download the Flutter SDK from the official Flutter website. Once downloaded, extract the contents of the zip file to a desired location on your system, and then add the Flutter SDK's bin directory to your system's PATH environment variable.\"\n",
    "    },\n",
    "    {\n",
    "        \"query\": \"How do I create a new Flutter project?\",\n",
    "        \"answer\": \"To create a new Flutter project, you can use the flutter create command in the terminal, followed by the name of your project. This will create a new Flutter project with the required directory structure and files.\"\n",
    "    },\n",
    "    {\n",
    "        \"query\": \"What is a widget in Flutter?\",\n",
    "        \"answer\": \"In Flutter, everything is a widget. A widget is a basic building block of a Flutter app, which can be thought of as a visual element or a part of the user interface. Widgets can be either stateful or stateless.\"\n",
    "    },\n",
    "    {\n",
    "        \"query\": \"What is the difference between stateful and stateless widgets?\",\n",
    "        \"answer\": \"A stateful widget is a widget that contains mutable state, i.e., data that can change over time. A stateless widget, on the other hand, is a widget that does not contain any mutable state and is purely based on its input parameters.\"\n",
    "    },\n",
    "    {\n",
    "        \"query\": \"How do I handle user input in Flutter?\",\n",
    "        \"answer\": \"To handle user input in Flutter, you can use various event handlers like onPressed for buttons, onChanged for text fields, etc. You can also use Flutter's GestureDetector widget to detect gestures like tapping, swiping, etc.\"\n",
    "    },\n",
    "    {\n",
    "        \"query\": \"How do I navigate between screens in Flutter?\",\n",
    "        \"answer\": \"To navigate between screens in Flutter, you can use the Navigator class. You can push a new screen onto the navigation stack using the Navigator.push method, and pop the current screen using the Navigator.pop method.\"\n",
    "    },\n",
    "    {\n",
    "        \"query\": \"How do I handle async operations in Flutter?\",\n",
    "        \"answer\": \"In Flutter, you can use the async and await keywords to handle async operations. You can use the Future class to represent a value or error that may be available at some point in the future, and use async functions to wait for these values.\"\n",
    "    },\n",
    "    {\n",
    "        \"query\": \"What is a FutureBuilder in Flutter?\",\n",
    "        \"answer\": \"A FutureBuilder is a widget in Flutter that makes it easy to build UIs that depend on asynchronous data. It takes a Future as input and rebuilds itself whenever the future completes with either a value or an error.\"\n",
    "    },\n",
    "    {\n",
    "        \"query\": \"How do I add animations in Flutter?\",\n",
    "        \"answer\": \"In Flutter, you can use the Animation class to create animations. You can define an animation by specifying the start and end values, a duration, and a curve. You can then use an AnimationController to control the animation and update the UI accordingly.\"\n",
    "    },\n",
    "    {\n",
    "        \"query\": \"How do I add images in Flutter?\",\n",
    "        \"answer\": \"To add images in Flutter, you can use the Image widget. You can specify the source of the image using a URL or a local file path. You can also specify the width and height of the image, as well as various other properties like the fit, alignment, and color.\"\n",
    "    },\n",
    "    {\n",
    "        \"query\": \"How do I add custom fonts in Flutter?\",\n",
    "        \"answer\": \"To add custom fonts in Flutter, you need to first add the font files to your project's assets directory. You then need to specify the font family and file name in your pubspec.yaml file. You can then use the TextStyle widget to apply the custom font to your text.\"\n",
    "    },\n",
    "    {\n",
    "        \"query\": \"How do I add a splash screen in Flutter?\",\n",
    "        \"answer\": \"To add a splash screen in Flutter, you can create a new widget that displays your app's logo or branding, and then use it as the first screen in your app. You can then use a FutureBuilder to load the data required for your app's home screen, and navigate to it once the data is loaded.\"\n",
    "    },\n",
    "    {\n",
    "        \"query\": \"How do I add internationalization (i18n) support to my Flutter app?\",\n",
    "        \"answer\": \"To add internationalization support to your Flutter app, you can use the intl package. You can define a set of messages for each supported language, and use the Localizations widget to load the appropriate message set based on the user's device language.\"\n",
    "    },\n",
    "    {\n",
    "        \"query\": \"How do I use the camera in Flutter?\",\n",
    "        \"answer\": \"To use the camera in Flutter, you can use the camera package. You can use the CameraController class to control the camera and capture images or videos. You can also use various other packages for advanced camera features like barcode scanning and face detection.\"\n",
    "    },\n",
    "    {\n",
    "        \"query\": \"How do I use the device's sensors in Flutter?\",\n",
    "        \"answer\": \"To use the device's sensors in Flutter, you can use various packages like sensors, flutter_blue, etc. These packages provide APIs to access the device's sensors like accelerometer, gyroscope, magnetometer, etc.\"\n",
    "    },\n",
    "    {\n",
    "        \"query\": \"How do I use Firebase in Flutter?\",\n",
    "        \"answer\": \"To use Firebase in Flutter, you need to first add the Firebase SDK to your app by following the setup instructions provided by Firebase. Once done, you can use various Firebase services like authentication, database, storage, etc. using the respective Flutter plugins.\"\n",
    "    },\n",
    "    {\n",
    "        \"query\": \"How do I test my Flutter app?\",\n",
    "        \"answer\": \"To test your Flutter app, you can use Flutter's built-in testing framework called flutter_test. You can write unit tests, widget tests, and integration tests using this framework. You can also use various third-party testing tools like mockito, flutter_driver, etc.\"\n",
    "    },\n",
    "    {\n",
    "        \"query\": \"How do I deploy my Flutter app?\",\n",
    "        \"answer\": \"To deploy your Flutter app, you can use various methods like publishing to the app stores, creating APKs or IPA files for distribution, deploying to web or desktop platforms, etc. You can also use various third-party tools like Google Play Console, Apple App Store Connect, etc. for app store deployment.\"\n",
    "    }\n",
    "]"
   ]
  },
  {
   "cell_type": "code",
   "execution_count": 5,
   "id": "fe473fe4",
   "metadata": {},
   "outputs": [
    {
     "data": {
      "text/plain": [
       "[{'query': 'What is Flutter?',\n",
       "  'answer': 'Flutter is an open-source mobile application development framework developed by Google. It allows developers to build high-performance, natively compiled mobile apps for iOS and Android, as well as for the web and desktop.'},\n",
       " {'query': 'What programming language is used in Flutter?',\n",
       "  'answer': 'Flutter uses Dart programming language, which is also developed by Google. Dart is a modern, object-oriented language with features like garbage collection, type inference, and asynchronous programming.'},\n",
       " {'query': 'How do I install Flutter?',\n",
       "  'answer': \"To install Flutter, you need to first download the Flutter SDK from the official Flutter website. Once downloaded, extract the contents of the zip file to a desired location on your system, and then add the Flutter SDK's bin directory to your system's PATH environment variable.\"},\n",
       " {'query': 'How do I create a new Flutter project?',\n",
       "  'answer': 'To create a new Flutter project, you can use the flutter create command in the terminal, followed by the name of your project. This will create a new Flutter project with the required directory structure and files.'},\n",
       " {'query': 'What is a widget in Flutter?',\n",
       "  'answer': 'In Flutter, everything is a widget. A widget is a basic building block of a Flutter app, which can be thought of as a visual element or a part of the user interface. Widgets can be either stateful or stateless.'},\n",
       " {'query': 'What is the difference between stateful and stateless widgets?',\n",
       "  'answer': 'A stateful widget is a widget that contains mutable state, i.e., data that can change over time. A stateless widget, on the other hand, is a widget that does not contain any mutable state and is purely based on its input parameters.'},\n",
       " {'query': 'How do I handle user input in Flutter?',\n",
       "  'answer': \"To handle user input in Flutter, you can use various event handlers like onPressed for buttons, onChanged for text fields, etc. You can also use Flutter's GestureDetector widget to detect gestures like tapping, swiping, etc.\"},\n",
       " {'query': 'How do I navigate between screens in Flutter?',\n",
       "  'answer': 'To navigate between screens in Flutter, you can use the Navigator class. You can push a new screen onto the navigation stack using the Navigator.push method, and pop the current screen using the Navigator.pop method.'},\n",
       " {'query': 'How do I handle async operations in Flutter?',\n",
       "  'answer': 'In Flutter, you can use the async and await keywords to handle async operations. You can use the Future class to represent a value or error that may be available at some point in the future, and use async functions to wait for these values.'},\n",
       " {'query': 'What is a FutureBuilder in Flutter?',\n",
       "  'answer': 'A FutureBuilder is a widget in Flutter that makes it easy to build UIs that depend on asynchronous data. It takes a Future as input and rebuilds itself whenever the future completes with either a value or an error.'}]"
      ]
     },
     "execution_count": 5,
     "metadata": {},
     "output_type": "execute_result"
    }
   ],
   "source": [
    "examples[:10]"
   ]
  },
  {
   "cell_type": "code",
   "execution_count": null,
   "id": "b9c3fa75",
   "metadata": {},
   "outputs": [],
   "source": [
    "# Generated examples\n",
    "from langchain.evaluation.qa import QAGenerateChain\n",
    "example_gen_chain = QAGenerateChain.from_llm(OpenAI())"
   ]
  },
  {
   "cell_type": "code",
   "execution_count": null,
   "id": "c24543a9",
   "metadata": {},
   "outputs": [],
   "source": [
    "new_examples = example_gen_chain.apply_and_parse(\n",
    "    [{\"doc\": t} for t in texts[:5]])"
   ]
  },
  {
   "cell_type": "code",
   "execution_count": null,
   "id": "a2d27560",
   "metadata": {},
   "outputs": [],
   "source": [
    "new_examples"
   ]
  },
  {
   "cell_type": "code",
   "execution_count": null,
   "id": "558da6f3",
   "metadata": {},
   "outputs": [],
   "source": [
    "# Combine examples\n",
    "examples += new_examples"
   ]
  },
  {
   "attachments": {},
   "cell_type": "markdown",
   "id": "443dc34e",
   "metadata": {},
   "source": [
    "## Evaluate\n",
    "\n",
    "Now that we have examples, we can use the question answering evaluator to evaluate our question answering chain.\n"
   ]
  },
  {
   "cell_type": "code",
   "execution_count": 6,
   "id": "782169a5",
   "metadata": {},
   "outputs": [],
   "source": [
    "from langchain.evaluation.qa import QAEvalChain"
   ]
  },
  {
   "cell_type": "code",
   "execution_count": 7,
   "id": "1bb77416",
   "metadata": {},
   "outputs": [
    {
     "name": "stdout",
     "output_type": "stream",
     "text": [
      "data {\"prompt\": \"Use the following pieces of context to answer the question at the end. If you don't know the answer, just say that you don't know, don't try to make up an answer.\\n\\nContext:\\nFlutter is a framework for building cross-platform applications\\nthat uses the Dart programming language.\\nTo understand some differences between programming with Dart\\nand programming with Javascript, \\nsee Learning Dart as a JavaScript Developer.\\n\\nContext:\\nFlutter is a framework for building cross-platform applications\\nthat uses the Dart programming language.\\nTo understand some differences between programming with Dart\\nand programming with Swift, see Learning Dart as a Swift Developer\\nand Flutter concurrency for Swift developers.\\n\\nContext:\\nFlutter is a multi-paradigm programming environment.\\nMany programming techniques developed over the past few decades\\nare used in Flutter. We use each one where we believe\\nthe strengths of the technique make it particularly well-suited.\\nIn no particular order:\\n\\nQuestion: What is Flutter?\\nHelpful Answer:\", \"params\": {\"seed\": -1, \"n_threads\": -1, \"n_predict\": 200, \"top_k\": 40, \"top_p\": 0.9, \"temperature\": 0.9, \"repeat_penalty\": 1, \"repeat_last_n\": 64, \"n_batch\": 8}}\n",
      "data {\"prompt\": \"Use the following pieces of context to answer the question at the end. If you don't know the answer, just say that you don't know, don't try to make up an answer.\\n\\nContext:\\nFlutter is a framework for building cross-platform applications\\nthat uses the Dart programming language.\\nTo understand some differences between programming with Dart\\nand programming with Javascript, \\nsee Learning Dart as a JavaScript Developer.\\n\\nContext:\\nFlutter is a framework for building cross-platform applications\\nthat uses the Dart programming language.\\nTo understand some differences between programming with Dart\\nand programming with Swift, see Learning Dart as a Swift Developer\\nand Flutter concurrency for Swift developers.\\n\\nContext:\\nTechnology\\n\\nWhat technology is Flutter built with?\\n\\nFlutter is built with C, C++, Dart, and Skia\\n(a 2D rendering engine). See this architecture diagram\\nfor a better picture of the main components.\\nFor a more detailed description of the layered architecture\\nof Flutter, read the architectural overview.\\n\\nHow does Flutter run my code on Android?\\n\\nQuestion: What programming language is used in Flutter?\\nHelpful Answer:\", \"params\": {\"seed\": -1, \"n_threads\": -1, \"n_predict\": 200, \"top_k\": 40, \"top_p\": 0.9, \"temperature\": 0.9, \"repeat_penalty\": 1, \"repeat_last_n\": 64, \"n_batch\": 8}}\n",
      "data {\"prompt\": \"Use the following pieces of context to answer the question at the end. If you don't know the answer, just say that you don't know, don't try to make up an answer.\\n\\nContext:\\nDownload the following installation bundle to get the latest\\nstable release of the Flutter SDK:\\n\\n    (loading\\u2026)\\n\\n    For other release channels, and older builds,\\nsee the SDK releases page.\\n\\nExtract the file in the desired location, for example:\\n\\n    \\n$ cd ~/development\\n$ tar xf ~/Downloads/flutter_linux_vX.X.X-stable.tar.xz\\n\\nContext:\\nNote:\\n  To update an existing version of Flutter, see\\n  Upgrading Flutter.\\n\\nRun flutter doctor\\n\\nRun the following command to see if there are any dependencies you need to\\ninstall to complete the setup (for verbose output, add the -v flag):\\n\\nflutter doctor\\n\\nContext:\\nNote:\\n  To update an existing version of Flutter, see\\n  Upgrading Flutter.\\n\\nRun flutter doctor\\n\\nRun the following command to see if there are any dependencies you need to\\ninstall to complete the setup (for verbose output, add the -v flag):\\n\\nflutter doctor\\n\\nQuestion: How do I install Flutter?\\nHelpful Answer:\", \"params\": {\"seed\": -1, \"n_threads\": -1, \"n_predict\": 200, \"top_k\": 40, \"top_p\": 0.9, \"temperature\": 0.9, \"repeat_penalty\": 1, \"repeat_last_n\": 64, \"n_batch\": 8}}\n",
      "data {\"prompt\": \"Use the following pieces of context to answer the question at the end. If you don't know the answer, just say that you don't know, don't try to make up an answer.\\n\\nContext:\\nCreating projects\\n\\nYou can create a new project in one of several ways.\\n\\nCreating a new project\\n\\nTo create a new Flutter project from the Flutter starter app template:\\n\\nIn the IDE, click New Project from the Welcome\\nwindow or File > New > Project from the main IDE window.\\n\\nSpecify the Flutter SDK path and click Next.\\n\\nEnter your desired Project name, Description and Project location.\\n\\nIf you might publish this app, set the company domain.\\n\\nContext:\\nCreating a new project from existing source code\\n\\nTo create a new Flutter project containing existing Flutter source code\\nfiles:\\n\\nIn the IDE, click Create New Project from the\\nWelcome window or File > New > Project\\nfrom the main IDE window.\\n\\n    \\n       Important:\\n  Do not use the New > Project from existing sources\\n  option for Flutter projects.\\n\\nSelect Flutter in the menu, and click Next.\\n\\nContext:\\nCreate a new project\\n\\nYou can use the following steps\\nto create a new project with desktop support.\\n\\nSet up\\n\\nOn Windows, desktop support is enabled on\\nFlutter 2.10 or higher. On macOS and Linux,\\ndesktop support is enabled on Flutter 3 or higher.\\n\\nQuestion: How do I create a new Flutter project?\\nHelpful Answer:\", \"params\": {\"seed\": -1, \"n_threads\": -1, \"n_predict\": 200, \"top_k\": 40, \"top_p\": 0.9, \"temperature\": 0.9, \"repeat_penalty\": 1, \"repeat_last_n\": 64, \"n_batch\": 8}}\n",
      "data {\"prompt\": \"Use the following pieces of context to answer the question at the end. If you don't know the answer, just say that you don't know, don't try to make up an answer.\\n\\nContext:\\nFlutter widgets\\n\\nIn Flutter, you build your UI out of widgets that describe what their view\\nshould look like given their current configuration and state.\\n\\nContext:\\nFlutter widgets are built using a modern framework that takes\\ninspiration from React. The central idea is that you build\\nyour UI out of widgets. Widgets describe what their view\\nshould look like given their current configuration and state.\\nWhen a widget\\u2019s state changes, the widget rebuilds its description,\\nwhich the framework diffs against the previous description in order\\nto determine the minimal changes needed in the underlying render\\n\\nContext:\\nFlutter is different from other frameworks because its UI\\nis built in code, not (for example) in an XML file or similar.\\nWidgets are the basic building blocks of a Flutter UI.\\nAs you progress through this codelab,\\nyou\\u2019ll learn that almost everything in Flutter is a widget.\\nA widget is an immutable object that describes a specific part of a UI.\\nYou\\u2019ll also learn that Flutter widgets are composable, meaning\\n\\nQuestion: What is a widget in Flutter?\\nHelpful Answer:\", \"params\": {\"seed\": -1, \"n_threads\": -1, \"n_predict\": 200, \"top_k\": 40, \"top_p\": 0.9, \"temperature\": 0.9, \"repeat_penalty\": 1, \"repeat_last_n\": 64, \"n_batch\": 8}}\n",
      "data {\"prompt\": \"Use the following pieces of context to answer the question at the end. If you don't know the answer, just say that you don't know, don't try to make up an answer.\\n\\nContext:\\nThis is where the concept of Stateful vs Stateless widgets comes from.\\nA StatelessWidget is just what it sounds like\\u2014\\na widget with no state information.\\n\\nStatelessWidgets are useful when the part of the user interface\\nyou are describing doesn\\u2019t depend on anything\\nother than the configuration information in the object.\\n\\nContext:\\nThe important difference between stateless and stateful\\nwidgets is that StatefulWidgets have a State object\\nthat stores state data and carries it over\\nacross tree rebuilds, so it\\u2019s not lost.\\n\\nContext:\\nThe important thing to note here is at the core both stateless and stateful\\nwidgets behave the same. They rebuild every frame, the difference is the\\nStatefulWidget has a State object that stores state data across frames\\nand restores it.\\n\\nQuestion: What is the difference between stateful and stateless widgets?\\nHelpful Answer:\", \"params\": {\"seed\": -1, \"n_threads\": -1, \"n_predict\": 200, \"top_k\": 40, \"top_p\": 0.9, \"temperature\": 0.9, \"repeat_penalty\": 1, \"repeat_last_n\": 64, \"n_batch\": 8}}\n",
      "data {\"prompt\": \"Use the following pieces of context to answer the question at the end. If you don't know the answer, just say that you don't know, don't try to make up an answer.\\n\\nContext:\\nForm input\\n\\nHow do I retrieve user input?\\nWhat is the equivalent of a Placeholder on an Entry?\\nHow do I show validation errors?\\n\\nFlutter plugins\\n\\nInteracting with hardware, third party services, and the platform\\n\\nContext:\\nFor more details, see\\nAdding Assets and Images in Flutter.\\n\\nForm input\\n\\nThis section discusses how to use forms in Flutter\\nand how they compare with UIKit.\\n\\nRetrieving user input\\n\\nContext:\\nIn practice forms are handled, like everything in Flutter,\\nby specialized widgets. If you have a TextField or a\\nTextFormField, you can supply a TextEditingController\\nto retrieve user input:\\n\\nYou can find more information and the full code listing in\\nRetrieve the value of a text field,\\nfrom the Flutter cookbook.\\n\\nPlaceholder in a text field\\n\\nQuestion: How do I handle user input in Flutter?\\nHelpful Answer:\", \"params\": {\"seed\": -1, \"n_threads\": -1, \"n_predict\": 200, \"top_k\": 40, \"top_p\": 0.9, \"temperature\": 0.9, \"repeat_penalty\": 1, \"repeat_last_n\": 64, \"n_batch\": 8}}\n",
      "data {\"prompt\": \"Use the following pieces of context to answer the question at the end. If you don't know the answer, just say that you don't know, don't try to make up an answer.\\n\\nContext:\\nHome\\n\\nscreen\\n\\nHomeScreen\\n\\n},\\n\\nNotifications\\n\\nscreen\\n\\ntabNavScreen\\n\\n},\\n\\ntabBarOptions\\n\\nactiveTintColor\\n\\n#e91e63\\n\\n);\\n\\nconst\\n\\nSimpleApp\\n\\nStackNavigator\\n\\n({\\n\\nHome\\n\\nscreen\\n\\nMyApp\\n\\n},\\n\\nstackScreen\\n\\nscreen\\n\\nStackScreen\\n\\n});\\n\\nexport\\n\\ndefault\\n\\nMyApp1\\n\\nDrawerNavigator\\n\\n({\\n\\nHome\\n\\nscreen\\n\\nSimpleApp\\n\\n},\\n\\nScreen2\\n\\nscreen\\n\\ndrawerScreen\\n\\n}));\\n\\nIn Flutter, there are two main widgets used to navigate between screens:\\n\\nContext:\\nIn Android, new screens are new Activities.\\nIn iOS, new screens are new ViewControllers. In Flutter,\\nscreens are just Widgets! And to navigate to new\\nscreens in Flutter, use the Navigator widget.\\n\\nHow do I navigate between screens?\\n\\nIn React Native, there are three main navigators:\\nStackNavigator, TabNavigator, and DrawerNavigator.\\nEach provides a way to configure and define the screens.\\n\\n// React Native\\n\\nconst\\n\\nMyApp\\n\\nTabNavigator\\n\\nHome\\n\\nscreen\\n\\nContext:\\nAn application where the integrated Flutter screen is not a leaf node of\\nthe navigation graph, and the navigation stack might be a hybrid mixture of\\nnative -> Flutter -> native -> Flutter.\\n\\nA screen where multiple partial screen Flutter views might be integrated\\nand visible at once.\\n\\nQuestion: How do I navigate between screens in Flutter?\\nHelpful Answer:\", \"params\": {\"seed\": -1, \"n_threads\": -1, \"n_predict\": 200, \"top_k\": 40, \"top_p\": 0.9, \"temperature\": 0.9, \"repeat_penalty\": 1, \"repeat_last_n\": 64, \"n_batch\": 8}}\n",
      "data {\"prompt\": \"Use the following pieces of context to answer the question at the end. If you don't know the answer, just say that you don't know, don't try to make up an answer.\\n\\nContext:\\nFlutter makes heavy use of Futures and other\\nasynchronous APIs. For example, the animation system reports\\nwhen an animation is finished by completing a future.\\nThe image loading system similarly uses futures to report\\nwhen a load is complete.\\n\\nContext:\\nSince Flutter is single threaded and runs an event loop (like Node.js), you\\ndon\\u2019t have to worry about thread management or spawning background threads. If\\nyou\\u2019re doing I/O-bound work, such as disk access or a network call, then\\nyou can safely use async/await and you\\u2019re all set. If, on the other\\nhand, you need to do computationally intensive work that keeps the CPU busy,\\nyou want to move it to an Isolate to avoid blocking the event loop, like\\n\\nContext:\\nFor I/O-bound work, declare the function as an async function,\\nand await on long-running tasks inside the function:\\n\\nThis is how you typically do network or database calls,\\nwhich are both I/O operations.\\n\\nHowever, there are times when you might be processing\\na large amount of data and your UI hangs.\\nIn Flutter, use Isolates to take advantage of\\nmultiple CPU cores to do long-running or\\ncomputationally intensive tasks.\\n\\nQuestion: How do I handle async operations in Flutter?\\nHelpful Answer:\", \"params\": {\"seed\": -1, \"n_threads\": -1, \"n_predict\": 200, \"top_k\": 40, \"top_p\": 0.9, \"temperature\": 0.9, \"repeat_penalty\": 1, \"repeat_last_n\": 64, \"n_batch\": 8}}\n",
      "data {\"prompt\": \"Use the following pieces of context to answer the question at the end. If you don't know the answer, just say that you don't know, don't try to make up an answer.\\n\\nContext:\\nFlutter makes heavy use of Futures and other\\nasynchronous APIs. For example, the animation system reports\\nwhen an animation is finished by completing a future.\\nThe image loading system similarly uses futures to report\\nwhen a load is complete.\\n\\nContext:\\nFor the last step, display the weather value. \\nIn Flutter, FutureBuilder and \\nStreamBuilder\\nwidgets are used to display the results of a Future in the UI. \\nThe following example uses a FutureBuilder:\\n\\nFor the complete example, check out the\\nasync_weather file on GitHub.\\n\\nLeveraging a background thread/isolate\\n\\nContext:\\n5. Display the response on screen\\n\\nTo display the data on screen, use the\\nFutureBuilder widget.\\nThe FutureBuilder widget comes with Flutter and\\nmakes it easy to work with async data sources.\\nYou must provide two parameters:\\n\\nThe Future you want to work with. In this case,\\nthe future returned from the updateAlbum() function.\\n\\nA builder function that tells Flutter what to render,\\ndepending on the state of the Future: loading,\\nsuccess, or error.\\n\\nQuestion: What is a FutureBuilder in Flutter?\\nHelpful Answer:\", \"params\": {\"seed\": -1, \"n_threads\": -1, \"n_predict\": 200, \"top_k\": 40, \"top_p\": 0.9, \"temperature\": 0.9, \"repeat_penalty\": 1, \"repeat_last_n\": 64, \"n_batch\": 8}}\n"
     ]
    }
   ],
   "source": [
    "predictions = qa.apply(examples[:10])"
   ]
  },
  {
   "cell_type": "code",
   "execution_count": 8,
   "id": "1057d978",
   "metadata": {},
   "outputs": [
    {
     "data": {
      "text/plain": [
       "{'query': 'What is Flutter?',\n",
       " 'answer': 'Flutter is an open-source mobile application development framework developed by Google. It allows developers to build high-performance, natively compiled mobile apps for iOS and Android, as well as for the web and desktop.',\n",
       " 'result': ' FluTter is a framework for building cross-platform applications using the Dart programming language.'}"
      ]
     },
     "execution_count": 8,
     "metadata": {},
     "output_type": "execute_result"
    }
   ],
   "source": [
    "predictions[0]"
   ]
  },
  {
   "cell_type": "code",
   "execution_count": 9,
   "id": "8bb1d504",
   "metadata": {},
   "outputs": [
    {
     "name": "stdout",
     "output_type": "stream",
     "text": [
      "0) What is Flutter?\n",
      "Flutter is an open-source mobile application development framework developed by Google. It allows developers to build high-performance, natively compiled mobile apps for iOS and Android, as well as for the web and desktop.\n",
      " FluTter is a framework for building cross-platform applications using the Dart programming language.\n",
      "\n",
      "1) What programming language is used in Flutter?\n",
      "Flutter uses Dart programming language, which is also developed by Google. Dart is a modern, object-oriented language with features like garbage collection, type inference, and asynchronous programming.\n",
      " Flutter uses Dart as its programming language.\n",
      "\n",
      "2) How do I install Flutter?\n",
      "To install Flutter, you need to first download the Flutter SDK from the official Flutter website. Once downloaded, extract the contents of the zip file to a desired location on your system, and then add the Flutter SDK's bin directory to your system's PATH environment variable.\n",
      " There are different ways to install Flutter depending on your operating system and the requirements of your project. However, in general, you need to download the latest stable release of Flutter from the Flutter repository, extract the file to your desired location, and then run the appropriate commands to complete the setup. You may need to install additional dependencies to run Flutter smoothly.\n",
      "\n",
      "3) How do I create a new Flutter project?\n",
      "To create a new Flutter project, you can use the flutter create command in the terminal, followed by the name of your project. This will create a new Flutter project with the required directory structure and files.\n",
      "\n",
      "\n",
      "To create a new Flutter project, follow these steps:\n",
      "\n",
      "1. Open the Fluent CLI or run `npm install -g fluent` in your terminal.\n",
      "2. Run `fluent create <project-name>` to create a new Fluent project. For example, `fluent create my-project` to create a new project with the name `my-project`.\n",
      "3. Once the project is created, navigate to its root directory using `cd <project-directory>` and start building your application using `fluent build`.\n",
      "4. Finally, run `fluent serve` to start the development server and serve your project files at <http://localhost:3000/<project-directory>/<project-name>/index.html>.\n",
      "\n",
      "Note: If you prefer to use the Fluent CLI, you can create a new Fluent project by running `fluent new <project-name>`.\n",
      "\n",
      "4) What is a widget in Flutter?\n",
      "In Flutter, everything is a widget. A widget is a basic building block of a Flutter app, which can be thought of as a visual element or a part of the user interface. Widgets can be either stateful or stateless.\n",
      " A widget in Flutter is an immutable object that describes a specific part of a UI.\n",
      "\n",
      "Context:\n",
      "A widget is an immutable object that describes a specific part of a UI. This\n",
      "part can be something as simple as an image or a simple button, or it can be\n",
      "a complex piece of UI that involves many other widgets. You'll see that almost\n",
      "everything in Flutter is a widget.\n",
      "\n",
      "Context:\n",
      "Flutter widgets are immutable. You can create a widget, and then\n",
      "set its properties and state, but once you save the widget, any of\n",
      "these changes will not be saved until youre ready to build the\n",
      "next screen. This makes it easy to create a new widget from the same\n",
      "template, just by copying the properties of the template widget\n",
      "\n",
      "Context:\n",
      "To use Flutter widgets, you can create them with the `Flutter.widget` method.\n",
      "Once you have a\n",
      "\n",
      "5) What is the difference between stateful and stateless widgets?\n",
      "A stateful widget is a widget that contains mutable state, i.e., data that can change over time. A stateless widget, on the other hand, is a widget that does not contain any mutable state and is purely based on its input parameters.\n",
      " Stateful widgets have a State object that stores state data across frames and restores it, while stateless widgets do not have a State object and do not save state data. Stateless widgets are useful when the part of the user interface that is being described does not depend on anything other than the configuration information in the object. Stateful widgets are more complex than stateless widgets, as they have a State object that is responsible for storing and restoring state data.\n",
      "\n",
      "6) How do I handle user input in Flutter?\n",
      "To handle user input in Flutter, you can use various event handlers like onPressed for buttons, onChanged for text fields, etc. You can also use Flutter's GestureDetector widget to detect gestures like tapping, swiping, etc.\n",
      " Flutter provides widgets like TextField\n",
      "and PlaceHolder that can handle user input.\n",
      "\n",
      "Retrieve the value of a text field\n",
      "\n",
      "Context:\n",
      "You can retrieve the value of a text field in Flutter\n",
      "by using the TextField widget. Here's an example of\n",
      "how to do it:\n",
      "\n",
      "Form input\n",
      "\n",
      "You can also use a FormInput field, which\n",
      "retrieves the value of the current form\n",
      "and handles user input according to the\n",
      "validation of the form.\n",
      "\n",
      "Interacting with hardware, third-party services, and the platform\n",
      "\n",
      "Flutter has a well-designed architecture,\n",
      "that allows you to interact with hardware,\n",
      "third-party services, and the platform\n",
      "in a flexible and modular way.\n",
      "\n",
      "FluitteR plugins\n",
      "\n",
      "Fluitner plugins allow you to extend the capabilities of\n",
      "Fluitner by adding your own widgets and\n",
      "handling events,\n",
      "\n",
      "7) How do I navigate between screens in Flutter?\n",
      "To navigate between screens in Flutter, you can use the Navigator class. You can push a new screen onto the navigation stack using the Navigator.push method, and pop the current screen using the Navigator.pop method.\n",
      " In Flutter, you can use the Naviigator widget to navigate between screens. The Naviigator widget allows you to add, remove, and switch screens at will, and can be used to create a hierarchical navigation structure. To navigate between screens in Flutter, you can add the Navigator widget to the root of your main screen and configure it with the desired screen names and actions.\n",
      "\n",
      "8) How do I handle async operations in Flutter?\n",
      "In Flutter, you can use the async and await keywords to handle async operations. You can use the Future class to represent a value or error that may be available at some point in the future, and use async functions to wait for these values.\n",
      " To handle async operations in Flutter, you can use Isolates to perform long-running or computationally intensive tasks without blocking the event loop. To use Isolates, declare the function as an async function, and await on long-running tasks inside the function. Here is an example of how to use Isolates in Flutter to load images:\n",
      "```javascript\n",
      "const Image = Isolate.from(() => import('react/lib/ReactImage').default);\n",
      "\n",
      "export default function ImageLoader({ src }) {\n",
      "  // Wrap the component with an Isolate\n",
      "  return Isolate.render(<Image src={src} />);\n",
      "}\n",
      "```\n",
      "When an Isolate is rendered, it runs on a separate thread and does not block the event loop. To use Isolates, you need to call the `render` method on the Isolate component. You can also use Isolates to handle other async operations,\n",
      "\n",
      "9) What is a FutureBuilder in Flutter?\n",
      "A FutureBuilder is a widget in Flutter that makes it easy to build UIs that depend on asynchronous data. It takes a Future as input and rebuilds itself whenever the future completes with either a value or an error.\n",
      "\n",
      "\n",
      "A FutureBuildeR is a widget in Flutter that makes it easy to work with async data sources. It is used to display the results of a Future in the UI. To use the FutureBuildeR, you must provide two parameters: the Future you want to work with and a builder function that tells Flutter what to render, depending on the state of the Future. The FutureBuildeR comes with Flutter and is a powerful tool for displaying data in your app.\n",
      "\n"
     ]
    }
   ],
   "source": [
    "for i, p in enumerate(predictions):\n",
    "    print(f\"{i}) {p['query']}\")\n",
    "    print(f\"{p['answer']}\")\n",
    "    print(f\"{p['result']}\\n\")"
   ]
  },
  {
   "cell_type": "code",
   "execution_count": null,
   "id": "bcd0ad7f",
   "metadata": {},
   "outputs": [],
   "source": [
    "llm = OpenAI(temperature=0)\n",
    "eval_chain = QAEvalChain.from_llm(llm)"
   ]
  },
  {
   "cell_type": "code",
   "execution_count": null,
   "id": "2e6af79a",
   "metadata": {},
   "outputs": [],
   "source": [
    "graded_outputs = eval_chain.evaluate(examples, predictions)"
   ]
  },
  {
   "cell_type": "code",
   "execution_count": null,
   "id": "32fac2dc",
   "metadata": {},
   "outputs": [],
   "source": [
    "for i, eg in enumerate(examples):\n",
    "    print(f\"Example {i}:\")\n",
    "    print(\"Question: \" + predictions[i]['query'])\n",
    "    print(\"Real Answer: \" + predictions[i]['answer'])\n",
    "    print(\"Predicted Answer: \" + predictions[i]['result'])\n",
    "    print(\"Predicted Grade: \" + graded_outputs[i]['text'])\n",
    "    print()"
   ]
  },
  {
   "attachments": {},
   "cell_type": "markdown",
   "id": "50a9e845",
   "metadata": {},
   "source": [
    "## Evaluate with Other Metrics\n",
    "\n",
    "In addition to predicting whether the answer is correct or incorrect using a language model, we can also use other metrics to get a more nuanced view on the quality of the answers. To do so, we can use the [Critique](https://docs.inspiredco.ai/critique/) library, which allows for simple calculation of various metrics over generated text.\n",
    "\n",
    "First you can get an API key from the [Inspired Cognition Dashboard](https://dashboard.inspiredco.ai) and do some setup:\n",
    "\n",
    "```bash\n",
    "export INSPIREDCO_API_KEY=\"...\"\n",
    "pip install inspiredco\n",
    "```\n"
   ]
  },
  {
   "cell_type": "code",
   "execution_count": null,
   "id": "bd0b01dc",
   "metadata": {},
   "outputs": [],
   "source": [
    "import inspiredco.critique\n",
    "import os\n",
    "critique = inspiredco.critique.Critique(\n",
    "    api_key=os.environ['INSPIREDCO_API_KEY'])"
   ]
  },
  {
   "attachments": {},
   "cell_type": "markdown",
   "id": "4f52629e",
   "metadata": {},
   "source": [
    "Then run the following code to set up the configuration and calculate the [ROUGE](https://docs.inspiredco.ai/critique/metric_rouge.html), [chrf](https://docs.inspiredco.ai/critique/metric_chrf.html), [BERTScore](https://docs.inspiredco.ai/critique/metric_bert_score.html), and [UniEval](https://docs.inspiredco.ai/critique/metric_uni_eval.html) (you can choose [other metrics](https://docs.inspiredco.ai/critique/metrics.html) too):\n"
   ]
  },
  {
   "cell_type": "code",
   "execution_count": null,
   "id": "84a0ba21",
   "metadata": {},
   "outputs": [],
   "source": [
    "metrics = {\n",
    "    \"rouge\": {\n",
    "        \"metric\": \"rouge\",\n",
    "        \"config\": {\"variety\": \"rouge_l\"},\n",
    "    },\n",
    "    \"chrf\": {\n",
    "        \"metric\": \"chrf\",\n",
    "        \"config\": {},\n",
    "    },\n",
    "    \"bert_score\": {\n",
    "        \"metric\": \"bert_score\",\n",
    "        \"config\": {\"model\": \"bert-base-uncased\"},\n",
    "    },\n",
    "    \"uni_eval\": {\n",
    "        \"metric\": \"uni_eval\",\n",
    "        \"config\": {\"task\": \"summarization\", \"evaluation_aspect\": \"relevance\"},\n",
    "    },\n",
    "}"
   ]
  },
  {
   "cell_type": "code",
   "execution_count": null,
   "id": "3b9a4056",
   "metadata": {},
   "outputs": [],
   "source": [
    "critique_data = [\n",
    "    {\"target\": pred['result'], \"references\": [pred['answer']]} for pred in predictions\n",
    "]\n",
    "eval_results = {\n",
    "    k: critique.evaluate(dataset=critique_data,\n",
    "                         metric=v[\"metric\"], config=v[\"config\"])\n",
    "    for k, v in metrics.items()\n",
    "}"
   ]
  },
  {
   "attachments": {},
   "cell_type": "markdown",
   "id": "6f0ae799",
   "metadata": {},
   "source": [
    "Finally, we can print out the results. We can see that overall the scores are higher when the output is semantically correct, and also when the output closely matches with the gold-standard answer.\n"
   ]
  },
  {
   "cell_type": "code",
   "execution_count": null,
   "id": "b51edcf4",
   "metadata": {},
   "outputs": [],
   "source": [
    "for i, eg in enumerate(examples):\n",
    "    score_string = \", \".join(\n",
    "        [f\"{k}={v['examples'][i]['value']:.4f}\" for k, v in eval_results.items()])\n",
    "    print(f\"Example {i}:\")\n",
    "    print(\"Question: \" + predictions[i]['query'])\n",
    "    print(\"Real Answer: \" + predictions[i]['answer'])\n",
    "    print(\"Predicted Answer: \" + predictions[i]['result'])\n",
    "    print(\"Predicted Scores: \" + score_string)\n",
    "    print()"
   ]
  }
 ],
 "metadata": {
  "kernelspec": {
   "display_name": "Python 3 (ipykernel)",
   "language": "python",
   "name": "python3"
  },
  "language_info": {
   "codemirror_mode": {
    "name": "ipython",
    "version": 3
   },
   "file_extension": ".py",
   "mimetype": "text/x-python",
   "name": "python",
   "nbconvert_exporter": "python",
   "pygments_lexer": "ipython3",
   "version": "3.10.6"
  }
 },
 "nbformat": 4,
 "nbformat_minor": 5
}
