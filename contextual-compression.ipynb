{
 "cells": [
  {
   "attachments": {},
   "cell_type": "markdown",
   "id": "dd803c9f",
   "metadata": {},
   "source": [
    "The notebook is origined from https://python.langchain.com/en/latest/_sources/modules/indexes/retrievers/examples/contextual-compression.ipynb, I adapted it to my own use case."
   ]
  },
  {
   "attachments": {},
   "cell_type": "markdown",
   "id": "fc0db1bc",
   "metadata": {},
   "source": [
    "# Contextual Compression Retriever\n",
    "\n",
    "This notebook introduces the concept of DocumentCompressors and the ContextualCompressionRetriever. \n",
    "\n",
    "The core idea is simple, given a specific query, we should be able to:\n",
    "1) Return only the documents relevant to that query, and \n",
    "2) only the parts of those documents that are relevant. \n",
    "\n",
    "The ContextualCompressionsRetriever is a wrapper for another retriever that iterates over the initial output of the base retriever and filters and compresses those initial documents, so that only the most relevant information is returned."
   ]
  },
  {
   "cell_type": "code",
   "execution_count": 1,
   "id": "28e8dc12",
   "metadata": {},
   "outputs": [],
   "source": [
    "# Helper function for printing docs\n",
    "\n",
    "def pretty_print_docs(docs):\n",
    "    print(f\"\\n{'-' * 100}\\n\".join([f\"Document {i+1}:\\n\\n\" + d.page_content for i, d in enumerate(docs)]))"
   ]
  },
  {
   "cell_type": "markdown",
   "id": "6fa3d916",
   "metadata": {},
   "source": [
    "## Using a vanilla vector store retriever\n",
    "Let's start by initializing a simple vector store retriever and storing the 2023 State of the Union speech (in chunks). We can see that given an example question our retriever returns one or two relevant docs and a few irrelevant docs. And even the relevant docs have a lot of irrelevant information in them."
   ]
  },
  {
   "cell_type": "code",
   "execution_count": 9,
   "id": "9fbcc58f",
   "metadata": {},
   "outputs": [
    {
     "name": "stdout",
     "output_type": "stream",
     "text": [
      "Document 1:\n",
      "\n",
      "Performance FAQ\n",
      "\n",
      "What is Flutter?\n",
      "\n",
      "Flutter is Google’s portable UI toolkit for crafting beautiful,\n",
      "natively compiled applications for mobile, web,\n",
      "and desktop from a single codebase.\n",
      "Flutter works with existing code,\n",
      "is used by developers and organizations around\n",
      "the world, and is free and open source.\n",
      "\n",
      "Who is Flutter for?\n",
      "\n",
      "For users, Flutter makes beautiful apps come to life.\n",
      "\n",
      "For developers, Flutter lowers the bar to entry for building apps.\n",
      "It speeds app development and reduces the cost and complexity\n",
      "of app production across platforms.\n",
      "\n",
      "For designers, Flutter provides a canvas for\n",
      "high-end user experiences. Fast Company described\n",
      "Flutter as one of the top design ideas of the decade for\n",
      "its ability to turn concepts into production code\n",
      "without the compromises imposed by typical frameworks.\n",
      "It also acts as a productive prototyping tool,\n",
      "with CodePen support for sharing your ideas with others.\n",
      "----------------------------------------------------------------------------------------------------\n",
      "Document 2:\n",
      "\n",
      "Building my first Flutter app | Learning to Fly\n",
      "Learning to Fly playlist\n",
      "\n",
      "Here are some of the series offered on the\n",
      "flutterdev YouTube channel.\n",
      "For more information, check out all\n",
      "of the Flutter channel’s playlists.\n",
      "\n",
      "Decoding Flutter\n",
      "\n",
      "This series focuses on tips, tricks, best practices,\n",
      "and general advice on getting the most out of Flutter.\n",
      "In the comments section for this series,\n",
      "you can submit suggestions future episodes.\n",
      "\n",
      "Introducing Decoding Flutter\n",
      "Decoding Flutter playlist\n",
      "\n",
      "Flutter widget of the week\n",
      "\n",
      "Do you have 60 seconds?\n",
      "Each one-minute video highlights a Flutter widget.\n",
      "\n",
      "Introducing widget of the week\n",
      "Flutter widget of the week playlist\n",
      "\n",
      "Flutter package of the week\n",
      "\n",
      "If you have another minute (or two),\n",
      "each of these videos highlights a Flutter package.\n",
      "\n",
      "flutter_slidable package\n",
      "Flutter package of the week playlist\n",
      "\n",
      "The Boring Flutter show\n",
      "----------------------------------------------------------------------------------------------------\n",
      "Document 3:\n",
      "\n",
      "Flutter documentation\n",
      "\n",
      "New to Flutter?\n",
      "\n",
      "Docs\n",
      "Videos\n",
      "\n",
      "Want to skill up?\n",
      "\n",
      "Get started\n",
      "        Set up your environment and start building.\n",
      "\n",
      "Widgets catalog\n",
      "        Dip into the rich set of Flutter widgets available in the SDK.\n",
      "\n",
      "API docs\n",
      "        Bookmark the API reference docs for the Flutter framework.\n",
      "\n",
      "Cookbook\n",
      "        Browse the cookbook for many easy Flutter recipes.\n",
      "\n",
      "Samples\n",
      "        Check out the Flutter examples.\n",
      "\n",
      "Videos\n",
      "        View the many videos on the Flutter YouTube channel.\n",
      "\n",
      "To see changes to the site since our last release,\n",
      "see What’s new.\n",
      "\n",
      "New to Flutter?\n",
      "----------------------------------------------------------------------------------------------------\n",
      "Document 4:\n",
      "\n",
      "Using Flutter with…\n",
      "\n",
      "Learn how to use Flutter with other technologies.\n",
      "\n",
      "Monetizing Flutter\n",
      "\n",
      "Adding AdMob Ads to a Flutter app\n",
      "Learn how to add an AdMob banner, an interstitial ad,\n",
      "and a rewarded ad to an app called Awesome Drawing Quiz,\n",
      "a game that lets players guess the name of the drawing.\n",
      "\n",
      "Adding an AdMob banner and native inline ads to a Flutter app\n",
      "Learn how to implement inline banner and native ads\n",
      "to a travel booking app that lists possible\n",
      "flight destinations.\n",
      "\n",
      "Adding in-app purchases to your Flutter app\n",
      "Extend a simple gaming app that uses the Dash mascot as\n",
      "currency to offer three types of in-app purchases:\n",
      "consumable, non-consumable, and subscription.\n",
      "\n",
      "Flutter and Firebase\n",
      "\n",
      "Add a user authentication flow to a Flutter app using FirebaseUI\n",
      "Learn how to add Firebase authentication to a Flutter app\n",
      "with only a few lines of code.\n"
     ]
    }
   ],
   "source": [
    "import pickle\n",
    "\n",
    "with open(\"faiss_store.pkl\", \"rb\") as f:\n",
    "    vector_store = pickle.load(f)\n",
    "retriever = vector_store.as_retriever(search_kwargs={\"k\": 4})\n",
    "prompt = \"What is Flutter?\"\n",
    "docs = retriever.get_relevant_documents(prompt)\n",
    "pretty_print_docs(docs)"
   ]
  },
  {
   "cell_type": "markdown",
   "id": "b7648612",
   "metadata": {},
   "source": [
    "## Adding contextual compression with an `LLMChainExtractor`\n",
    "Now let's wrap our base retriever with a `ContextualCompressionRetriever`. We'll add an `LLMChainExtractor`, which will iterate over the initially returned documents and extract from each only the content that is relevant to the query."
   ]
  },
  {
   "cell_type": "code",
   "execution_count": 10,
   "id": "9a658023",
   "metadata": {},
   "outputs": [
    {
     "name": "stderr",
     "output_type": "stream",
     "text": [
      "WARNING:root:Failed to persist run: HTTPConnectionPool(host='localhost', port=8000): Max retries exceeded with url: /chain-runs (Caused by NewConnectionError('<urllib3.connection.HTTPConnection object at 0x7fd28f623160>: Failed to establish a new connection: [Errno 111] Connection refused'))\n",
      "WARNING:root:Failed to persist run: HTTPConnectionPool(host='localhost', port=8000): Max retries exceeded with url: /chain-runs (Caused by NewConnectionError('<urllib3.connection.HTTPConnection object at 0x7fd28f630b20>: Failed to establish a new connection: [Errno 111] Connection refused'))\n",
      "WARNING:root:Failed to persist run: HTTPConnectionPool(host='localhost', port=8000): Max retries exceeded with url: /chain-runs (Caused by NewConnectionError('<urllib3.connection.HTTPConnection object at 0x7fd28f630dc0>: Failed to establish a new connection: [Errno 111] Connection refused'))\n",
      "WARNING:root:Failed to persist run: HTTPConnectionPool(host='localhost', port=8000): Max retries exceeded with url: /chain-runs (Caused by NewConnectionError('<urllib3.connection.HTTPConnection object at 0x7fd28f630c10>: Failed to establish a new connection: [Errno 111] Connection refused'))\n"
     ]
    },
    {
     "name": "stdout",
     "output_type": "stream",
     "text": [
      "Document 1:\n",
      "\n",
      "Flutter is Google’s portable UI toolkit for crafting beautiful, natively compiled applications for mobile, web, and desktop from a single codebase. Flutter works with existing code, is used by developers and organizations around the world, and is free and open source. Flutter works with existing code, is used by developers and organizations around the world, and is free and open source. Flutter works with existing code, is used by developers and organizations around the world, and is free and open source. Flutter works with existing code, is used by developers and organizations around the world, and is free and open source. Flutter works with existing code, is used by developers and organizations around the world, and is free and open source. Flutter works with existing code, is used by developers and organizations around the world, and is free and open source. Flutter works with existing code, is used by developers and organizations around the world, and is free and\n",
      "----------------------------------------------------------------------------------------------------\n",
      "Document 2:\n",
      "\n",
      "Flutter is a YouTube channel that focuses on tips, tricks, best practices, and general advice on getting the most out of Flutter.\n",
      "----------------------------------------------------------------------------------------------------\n",
      "Document 3:\n",
      "\n",
      "Flutter is a free open-source software framework for building environments. It is a free open-source project that aims to make open-source software more efficient and user-friendly.\n",
      "----------------------------------------------------------------------------------------------------\n",
      "Document 4:\n",
      "\n",
      "Flutter is a software framework for mobile devices. It is a framework for mobile devices that allows developers to create mobile apps that can be used to create mobile games.\n"
     ]
    }
   ],
   "source": [
    "from langchain.llms import HuggingFacePipeline\n",
    "from transformers import AutoModelForSeq2SeqLM, AutoTokenizer, pipeline\n",
    "from langchain.retrievers import ContextualCompressionRetriever\n",
    "from langchain.retrievers.document_compressors import LLMChainExtractor\n",
    "\n",
    "model = AutoModelForSeq2SeqLM.from_pretrained(\"google/flan-t5-base\")\n",
    "tokenizer = AutoTokenizer.from_pretrained(\"google/flan-t5-base\")\n",
    "\n",
    "def get_llm(\n",
    "    min_length: int = 20,\n",
    "    max_length: int = 200,\n",
    "    temperature: float = 0.0,\n",
    "    top_p: float = 1.0,\n",
    "    top_k: int = 50\n",
    "):\n",
    "    hf_pipeline = pipeline(\n",
    "        \"text2text-generation\",\n",
    "        model=model,\n",
    "        tokenizer=tokenizer,\n",
    "        min_length=min_length,\n",
    "        max_length=max_length,\n",
    "        temperature=temperature,\n",
    "        top_k=top_k,\n",
    "        top_p=top_p\n",
    "    )\n",
    "    llm = HuggingFacePipeline(pipeline=hf_pipeline)\n",
    "    return llm\n",
    "\n",
    "llm = get_llm()\n",
    "compressor = LLMChainExtractor.from_llm(llm)\n",
    "compression_retriever = ContextualCompressionRetriever(base_compressor=compressor, base_retriever=retriever)\n",
    "\n",
    "compressed_docs = compression_retriever.get_relevant_documents(prompt)\n",
    "pretty_print_docs(compressed_docs)"
   ]
  },
  {
   "cell_type": "markdown",
   "id": "2cd38f3a",
   "metadata": {},
   "source": [
    "## More built-in compressors: filters\n",
    "### `LLMChainFilter`\n",
    "The `LLMChainFilter` is slightly simpler but more robust compressor that uses an LLM chain to decide which of the initially retrieved documents to filter out and which ones to return, without manipulating the document contents."
   ]
  },
  {
   "cell_type": "code",
   "execution_count": 11,
   "id": "b216a767",
   "metadata": {},
   "outputs": [
    {
     "name": "stderr",
     "output_type": "stream",
     "text": [
      "WARNING:root:Failed to persist run: HTTPConnectionPool(host='localhost', port=8000): Max retries exceeded with url: /chain-runs (Caused by NewConnectionError('<urllib3.connection.HTTPConnection object at 0x7fd28f561a20>: Failed to establish a new connection: [Errno 111] Connection refused'))\n"
     ]
    },
    {
     "ename": "ValueError",
     "evalue": "BooleanOutputParser expected output value to either be YES or NO. Received Yes. > Yes. > Flutter is Google’s portable UI toolkit for crafting beautiful, natively compiled applications for mobile, web, and desktop from a single codebase. > Flutter works with existing code, is used by developers and organizations around the world, and is free and open source. > Flutter is Google’s portable UI toolkit for crafting beautiful, natively compiled applications for mobile, web, and desktop from a single codebase. > Flutter works with existing code, is used by developers and organizations around the world, and is free and open source. > Flutter is Google’s portable UI toolkit for crafting beautiful, natively compiled applications for mobile, web, and desktop from a single codebase. > Flutter is Google’s portable UI toolkit for crafting beautiful, natively compiled applications for mobile, web, and desktop from a single codebase..",
     "output_type": "error",
     "traceback": [
      "\u001b[0;31m---------------------------------------------------------------------------\u001b[0m",
      "\u001b[0;31mValueError\u001b[0m                                Traceback (most recent call last)",
      "Cell \u001b[0;32mIn[11], line 6\u001b[0m\n\u001b[1;32m      3\u001b[0m _filter \u001b[39m=\u001b[39m LLMChainFilter\u001b[39m.\u001b[39mfrom_llm(llm)\n\u001b[1;32m      4\u001b[0m compression_retriever \u001b[39m=\u001b[39m ContextualCompressionRetriever(base_compressor\u001b[39m=\u001b[39m_filter, base_retriever\u001b[39m=\u001b[39mretriever)\n\u001b[0;32m----> 6\u001b[0m compressed_docs \u001b[39m=\u001b[39m compression_retriever\u001b[39m.\u001b[39;49mget_relevant_documents(prompt)\n\u001b[1;32m      7\u001b[0m pretty_print_docs(compressed_docs)\n",
      "File \u001b[0;32m~/ws/py/langchain/flutter-gpt/venv/lib/python3.10/site-packages/langchain/retrievers/contextual_compression.py:37\u001b[0m, in \u001b[0;36mContextualCompressionRetriever.get_relevant_documents\u001b[0;34m(self, query)\u001b[0m\n\u001b[1;32m     28\u001b[0m \u001b[39m\u001b[39m\u001b[39m\"\"\"Get documents relevant for a query.\u001b[39;00m\n\u001b[1;32m     29\u001b[0m \n\u001b[1;32m     30\u001b[0m \u001b[39mArgs:\u001b[39;00m\n\u001b[0;32m   (...)\u001b[0m\n\u001b[1;32m     34\u001b[0m \u001b[39m    Sequence of relevant documents\u001b[39;00m\n\u001b[1;32m     35\u001b[0m \u001b[39m\"\"\"\u001b[39;00m\n\u001b[1;32m     36\u001b[0m docs \u001b[39m=\u001b[39m \u001b[39mself\u001b[39m\u001b[39m.\u001b[39mbase_retriever\u001b[39m.\u001b[39mget_relevant_documents(query)\n\u001b[0;32m---> 37\u001b[0m compressed_docs \u001b[39m=\u001b[39m \u001b[39mself\u001b[39;49m\u001b[39m.\u001b[39;49mbase_compressor\u001b[39m.\u001b[39;49mcompress_documents(docs, query)\n\u001b[1;32m     38\u001b[0m \u001b[39mreturn\u001b[39;00m \u001b[39mlist\u001b[39m(compressed_docs)\n",
      "File \u001b[0;32m~/ws/py/langchain/flutter-gpt/venv/lib/python3.10/site-packages/langchain/retrievers/document_compressors/chain_filter.py:45\u001b[0m, in \u001b[0;36mLLMChainFilter.compress_documents\u001b[0;34m(self, documents, query)\u001b[0m\n\u001b[1;32m     43\u001b[0m \u001b[39mfor\u001b[39;00m doc \u001b[39min\u001b[39;00m documents:\n\u001b[1;32m     44\u001b[0m     _input \u001b[39m=\u001b[39m \u001b[39mself\u001b[39m\u001b[39m.\u001b[39mget_input(query, doc)\n\u001b[0;32m---> 45\u001b[0m     include_doc \u001b[39m=\u001b[39m \u001b[39mself\u001b[39;49m\u001b[39m.\u001b[39;49mllm_chain\u001b[39m.\u001b[39;49mpredict_and_parse(\u001b[39m*\u001b[39;49m\u001b[39m*\u001b[39;49m_input)\n\u001b[1;32m     46\u001b[0m     \u001b[39mif\u001b[39;00m include_doc:\n\u001b[1;32m     47\u001b[0m         filtered_docs\u001b[39m.\u001b[39mappend(doc)\n",
      "File \u001b[0;32m~/ws/py/langchain/flutter-gpt/venv/lib/python3.10/site-packages/langchain/chains/llm.py:173\u001b[0m, in \u001b[0;36mLLMChain.predict_and_parse\u001b[0;34m(self, **kwargs)\u001b[0m\n\u001b[1;32m    171\u001b[0m result \u001b[39m=\u001b[39m \u001b[39mself\u001b[39m\u001b[39m.\u001b[39mpredict(\u001b[39m*\u001b[39m\u001b[39m*\u001b[39mkwargs)\n\u001b[1;32m    172\u001b[0m \u001b[39mif\u001b[39;00m \u001b[39mself\u001b[39m\u001b[39m.\u001b[39mprompt\u001b[39m.\u001b[39moutput_parser \u001b[39mis\u001b[39;00m \u001b[39mnot\u001b[39;00m \u001b[39mNone\u001b[39;00m:\n\u001b[0;32m--> 173\u001b[0m     \u001b[39mreturn\u001b[39;00m \u001b[39mself\u001b[39;49m\u001b[39m.\u001b[39;49mprompt\u001b[39m.\u001b[39;49moutput_parser\u001b[39m.\u001b[39;49mparse(result)\n\u001b[1;32m    174\u001b[0m \u001b[39melse\u001b[39;00m:\n\u001b[1;32m    175\u001b[0m     \u001b[39mreturn\u001b[39;00m result\n",
      "File \u001b[0;32m~/ws/py/langchain/flutter-gpt/venv/lib/python3.10/site-packages/langchain/output_parsers/boolean.py:20\u001b[0m, in \u001b[0;36mBooleanOutputParser.parse\u001b[0;34m(self, text)\u001b[0m\n\u001b[1;32m     18\u001b[0m cleaned_text \u001b[39m=\u001b[39m text\u001b[39m.\u001b[39mstrip()\n\u001b[1;32m     19\u001b[0m \u001b[39mif\u001b[39;00m cleaned_text \u001b[39mnot\u001b[39;00m \u001b[39min\u001b[39;00m (\u001b[39mself\u001b[39m\u001b[39m.\u001b[39mtrue_val, \u001b[39mself\u001b[39m\u001b[39m.\u001b[39mfalse_val):\n\u001b[0;32m---> 20\u001b[0m     \u001b[39mraise\u001b[39;00m \u001b[39mValueError\u001b[39;00m(\n\u001b[1;32m     21\u001b[0m         \u001b[39mf\u001b[39m\u001b[39m\"\u001b[39m\u001b[39mBooleanOutputParser expected output value to either be \u001b[39m\u001b[39m\"\u001b[39m\n\u001b[1;32m     22\u001b[0m         \u001b[39mf\u001b[39m\u001b[39m\"\u001b[39m\u001b[39m{\u001b[39;00m\u001b[39mself\u001b[39m\u001b[39m.\u001b[39mtrue_val\u001b[39m}\u001b[39;00m\u001b[39m or \u001b[39m\u001b[39m{\u001b[39;00m\u001b[39mself\u001b[39m\u001b[39m.\u001b[39mfalse_val\u001b[39m}\u001b[39;00m\u001b[39m. Received \u001b[39m\u001b[39m{\u001b[39;00mcleaned_text\u001b[39m}\u001b[39;00m\u001b[39m.\u001b[39m\u001b[39m\"\u001b[39m\n\u001b[1;32m     23\u001b[0m     )\n\u001b[1;32m     24\u001b[0m \u001b[39mreturn\u001b[39;00m cleaned_text \u001b[39m==\u001b[39m \u001b[39mself\u001b[39m\u001b[39m.\u001b[39mtrue_val\n",
      "\u001b[0;31mValueError\u001b[0m: BooleanOutputParser expected output value to either be YES or NO. Received Yes. > Yes. > Flutter is Google’s portable UI toolkit for crafting beautiful, natively compiled applications for mobile, web, and desktop from a single codebase. > Flutter works with existing code, is used by developers and organizations around the world, and is free and open source. > Flutter is Google’s portable UI toolkit for crafting beautiful, natively compiled applications for mobile, web, and desktop from a single codebase. > Flutter works with existing code, is used by developers and organizations around the world, and is free and open source. > Flutter is Google’s portable UI toolkit for crafting beautiful, natively compiled applications for mobile, web, and desktop from a single codebase. > Flutter is Google’s portable UI toolkit for crafting beautiful, natively compiled applications for mobile, web, and desktop from a single codebase.."
     ]
    }
   ],
   "source": [
    "from langchain.retrievers.document_compressors import LLMChainFilter\n",
    "\n",
    "_filter = LLMChainFilter.from_llm(llm)\n",
    "compression_retriever = ContextualCompressionRetriever(base_compressor=_filter, base_retriever=retriever)\n",
    "\n",
    "compressed_docs = compression_retriever.get_relevant_documents(prompt)\n",
    "pretty_print_docs(compressed_docs)"
   ]
  },
  {
   "cell_type": "markdown",
   "id": "8c709598",
   "metadata": {},
   "source": [
    "### `EmbeddingsFilter`\n",
    "\n",
    "Making an extra LLM call over each retrieved document is expensive and slow. The `EmbeddingsFilter` provides a cheaper and faster option by embedding the documents and query and only returning those documents which have sufficiently similar embeddings to the query."
   ]
  },
  {
   "cell_type": "code",
   "execution_count": 13,
   "id": "6fbc801f",
   "metadata": {},
   "outputs": [
    {
     "name": "stdout",
     "output_type": "stream",
     "text": [
      "Document 1:\n",
      "\n",
      "Performance FAQ\n",
      "\n",
      "What is Flutter?\n",
      "\n",
      "Flutter is Google’s portable UI toolkit for crafting beautiful,\n",
      "natively compiled applications for mobile, web,\n",
      "and desktop from a single codebase.\n",
      "Flutter works with existing code,\n",
      "is used by developers and organizations around\n",
      "the world, and is free and open source.\n",
      "\n",
      "Who is Flutter for?\n",
      "\n",
      "For users, Flutter makes beautiful apps come to life.\n",
      "\n",
      "For developers, Flutter lowers the bar to entry for building apps.\n",
      "It speeds app development and reduces the cost and complexity\n",
      "of app production across platforms.\n",
      "\n",
      "For designers, Flutter provides a canvas for\n",
      "high-end user experiences. Fast Company described\n",
      "Flutter as one of the top design ideas of the decade for\n",
      "its ability to turn concepts into production code\n",
      "without the compromises imposed by typical frameworks.\n",
      "It also acts as a productive prototyping tool,\n",
      "with CodePen support for sharing your ideas with others.\n"
     ]
    }
   ],
   "source": [
    "from langchain.embeddings import HuggingFaceEmbeddings\n",
    "from langchain.retrievers.document_compressors import EmbeddingsFilter\n",
    "\n",
    "embeddings = HuggingFaceEmbeddings()\n",
    "embeddings_filter = EmbeddingsFilter(embeddings=embeddings, similarity_threshold=0.76)\n",
    "compression_retriever = ContextualCompressionRetriever(base_compressor=embeddings_filter, base_retriever=retriever)\n",
    "\n",
    "compressed_docs = compression_retriever.get_relevant_documents(prompt)\n",
    "pretty_print_docs(compressed_docs)"
   ]
  },
  {
   "cell_type": "markdown",
   "id": "07365d36",
   "metadata": {},
   "source": [
    "# Stringing compressors and document transformers together\n",
    "Using the `DocumentCompressorPipeline` we can also easily combine multiple compressors in sequence. Along with compressors we can add `BaseDocumentTransformer`s to our pipeline, which don't perform any contextual compression but simply perform some transformation on a set of documents. For example `TextSplitter`s can be used as document transformers to split documents into smaller pieces, and the `EmbeddingsRedundantFilter` can be used to filter out redundant documents based on embedding similarity between documents.\n",
    "\n",
    "Below we create a compressor pipeline by first splitting our docs into smaller chunks, then removing redundant documents, and then filtering based on relevance to the query."
   ]
  },
  {
   "cell_type": "code",
   "execution_count": 20,
   "id": "2a150a63",
   "metadata": {},
   "outputs": [],
   "source": [
    "from langchain.document_transformers import EmbeddingsRedundantFilter\n",
    "from langchain.retrievers.document_compressors import DocumentCompressorPipeline\n",
    "from langchain.text_splitter import CharacterTextSplitter\n",
    "\n",
    "splitter = CharacterTextSplitter(chunk_size=300, chunk_overlap=0, separator=\". \")\n",
    "redundant_filter = EmbeddingsRedundantFilter(embeddings=embeddings)\n",
    "relevant_filter = EmbeddingsFilter(embeddings=embeddings, similarity_threshold=0.76)\n",
    "pipeline_compressor = DocumentCompressorPipeline(\n",
    "    transformers=[splitter, redundant_filter, relevant_filter]\n",
    ")"
   ]
  },
  {
   "cell_type": "code",
   "execution_count": 21,
   "id": "3ceab64a",
   "metadata": {},
   "outputs": [
    {
     "name": "stderr",
     "output_type": "stream",
     "text": [
      "WARNING:langchain.text_splitter:Created a chunk of size 617, which is longer than the specified 300\n"
     ]
    },
    {
     "name": "stdout",
     "output_type": "stream",
     "text": [
      "\n"
     ]
    }
   ],
   "source": [
    "compression_retriever = ContextualCompressionRetriever(base_compressor=pipeline_compressor, base_retriever=retriever)\n",
    "\n",
    "compressed_docs = compression_retriever.get_relevant_documents(prompt)\n",
    "pretty_print_docs(compressed_docs)"
   ]
  },
  {
   "cell_type": "code",
   "execution_count": null,
   "id": "8cfd9fc5",
   "metadata": {},
   "outputs": [],
   "source": []
  }
 ],
 "metadata": {
  "kernelspec": {
   "display_name": "Python 3 (ipykernel)",
   "language": "python",
   "name": "python3"
  },
  "language_info": {
   "codemirror_mode": {
    "name": "ipython",
    "version": 3
   },
   "file_extension": ".py",
   "mimetype": "text/x-python",
   "name": "python",
   "nbconvert_exporter": "python",
   "pygments_lexer": "ipython3",
   "version": "3.10.6"
  }
 },
 "nbformat": 4,
 "nbformat_minor": 5
}
