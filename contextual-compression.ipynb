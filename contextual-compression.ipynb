{
 "cells": [
  {
   "attachments": {},
   "cell_type": "markdown",
   "id": "fc0db1bc",
   "metadata": {},
   "source": [
    "# Contextual Compression Retriever\n",
    "\n",
    "This notebook introduces the concept of DocumentCompressors and the ContextualCompressionRetriever. The core idea is simple: given a specific query, we should be able to return only the documents relevant to that query, and only the parts of those documents that are relevant. The ContextualCompressionsRetriever is a wrapper for another retriever that iterates over the initial output of the base retriever and filters and compresses those initial documents, so that only the most relevant information is returned."
   ]
  },
  {
   "cell_type": "code",
   "execution_count": 2,
   "id": "28e8dc12",
   "metadata": {},
   "outputs": [],
   "source": [
    "# Helper function for printing docs\n",
    "\n",
    "def pretty_print_docs(docs):\n",
    "    print(f\"\\n{'-' * 100}\\n\".join([f\"Document {i+1}:\\n\\n\" +\n",
    "          d.page_content for i, d in enumerate(docs)]))"
   ]
  },
  {
   "attachments": {},
   "cell_type": "markdown",
   "id": "6fa3d916",
   "metadata": {},
   "source": [
    "## Using a vanilla vector store retriever\n",
    "Let's start by initializing a simple vector store retriever and storing the 2023 State of the Union speech (in chunks). We can see that given an example question our retriever returns one or two relevant docs and a few irrelevant docs. And even the relevant docs have a lot of irrelevant information in them."
   ]
  },
  {
   "cell_type": "code",
   "execution_count": 3,
   "id": "9fbcc58f",
   "metadata": {},
   "outputs": [
    {
     "name": "stdout",
     "output_type": "stream",
     "text": [
      "load INSTRUCTOR_Transformer\n",
      "max_seq_length  512\n",
      "Document 1:\n",
      "\n",
      "Flutter is a framework for building cross-platform applications\n",
      "that uses the Dart programming language.\n",
      "To understand some differences between programming with Dart\n",
      "and programming with Javascript, \n",
      "see Learning Dart as a JavaScript Developer.\n",
      "----------------------------------------------------------------------------------------------------\n",
      "Document 2:\n",
      "\n",
      "Flutter is a framework for building cross-platform applications\n",
      "that uses the Dart programming language.\n",
      "To understand some differences between programming with Dart\n",
      "and programming with Swift, see Learning Dart as a Swift Developer\n",
      "and Flutter concurrency for Swift developers.\n",
      "----------------------------------------------------------------------------------------------------\n",
      "Document 3:\n",
      "\n",
      "Flutter is a multi-paradigm programming environment.\n",
      "Many programming techniques developed over the past few decades\n",
      "are used in Flutter. We use each one where we believe\n",
      "the strengths of the technique make it particularly well-suited.\n",
      "In no particular order:\n"
     ]
    }
   ],
   "source": [
    "from langchain.embeddings import HuggingFaceInstructEmbeddings\n",
    "import pickle\n",
    "\n",
    "def get_retriever(k: int = 3):\n",
    "    embedding = HuggingFaceInstructEmbeddings(\n",
    "        model_name=\"hkunlp/instructor-large\")\n",
    "    with open(\"faiss_store.pkl\", \"rb\") as f:\n",
    "        vector_store = pickle.load(f) \n",
    "    retriever = vector_store.as_retriever(search_kwargs={\"k\": k})\n",
    "    return retriever\n",
    "\n",
    "retriever = get_retriever()\n",
    "docs = retriever.get_relevant_documents(\"What is Flutter?\")\n",
    "pretty_print_docs(docs)"
   ]
  },
  {
   "attachments": {},
   "cell_type": "markdown",
   "id": "b7648612",
   "metadata": {},
   "source": [
    "## Adding contextual compression with an `LLMChainExtractor`\n",
    "Now let's wrap our base retriever with a `ContextualCompressionRetriever`. We'll add an `LLMChainExtractor`, which will iterate over the initially returned documents and extract from each only the content that is relevant to the query."
   ]
  },
  {
   "cell_type": "code",
   "execution_count": 11,
   "id": "9a658023",
   "metadata": {},
   "outputs": [
    {
     "name": "stdout",
     "output_type": "stream",
     "text": [
      "data {\"prompt\": \"Given the following question and context, extract any part of the context *AS IS* that is relevant to answer the question. If none of the context is relevant return NO_OUTPUT. \\n\\nRemember, *DO NOT* edit the extracted parts of the context.\\n\\n> Question: What is Flutter?\\n> Context:\\n>>>\\nFlutter is a framework for building cross-platform applications\\nthat uses the Dart programming language.\\nTo understand some differences between programming with Dart\\nand programming with Javascript, \\nsee Learning Dart as a JavaScript Developer.\\n>>>\\nExtracted relevant parts:\", \"params\": {\"seed\": -1, \"n_threads\": -1, \"n_predict\": 200, \"top_k\": 40, \"top_p\": 0.9, \"temperature\": 0.9, \"repeat_penalty\": 1, \"repeat_last_n\": 64, \"n_batch\": 8}}\n"
     ]
    }
   ],
   "source": [
    "from llms import GPT4AllJApi\n",
    "from langchain.retrievers import ContextualCompressionRetriever\n",
    "from langchain.retrievers.document_compressors import LLMChainExtractor\n",
    "from dotenv import load_dotenv\n",
    "load_dotenv()\n",
    "\n",
    "llm = GPT4AllJApi()\n",
    "compressor = LLMChainExtractor.from_llm(llm)\n",
    "compression_retriever = ContextualCompressionRetriever(base_compressor=compressor, base_retriever=retriever)\n",
    "\n",
    "compressed_docs = compression_retriever.get_relevant_documents(\"What is Flutter?\")\n",
    "pretty_print_docs(compressed_docs)"
   ]
  },
  {
   "attachments": {},
   "cell_type": "markdown",
   "id": "2cd38f3a",
   "metadata": {},
   "source": [
    "## More built-in compressors: filters\n",
    "### `LLMChainFilter`\n",
    "The `LLMChainFilter` is slightly simpler but more robust compressor that uses an LLM chain to decide which of the initially retrieved documents to filter out and which ones to return, without manipulating the document contents."
   ]
  },
  {
   "cell_type": "code",
   "execution_count": 10,
   "id": "b216a767",
   "metadata": {},
   "outputs": [
    {
     "name": "stdout",
     "output_type": "stream",
     "text": [
      "data {\"prompt\": \"Given the following question and context, return YES if the context is relevant to the question and NO if it isn't.\\n\\n> Question: What is Flutter?\\n> Context:\\n>>>\\nFlutter is a framework for building cross-platform applications\\nthat uses the Dart programming language.\\nTo understand some differences between programming with Dart\\nand programming with Javascript, \\nsee Learning Dart as a JavaScript Developer.\\n>>>\\n> Relevant (YES / NO):\", \"params\": {\"seed\": -1, \"n_threads\": -1, \"n_predict\": 200, \"top_k\": 40, \"top_p\": 0.9, \"temperature\": 0.9, \"repeat_penalty\": 1, \"repeat_last_n\": 64, \"n_batch\": 8}}\n"
     ]
    },
    {
     "ename": "ValueError",
     "evalue": "BooleanOutputParser expected output value to either be YES or NO. Received YES\nYes, the context provided in the conversation is relevant to the question about Fluter. Fluter is a framework for building cross-platform applications that uses the Dart programming language, which is a higher-level programming language that is often used for building mobile applications. Understanding differences between programming with Dart and JavaScript can provide insight into the advantages of using Dart for building cross-platform applications..",
     "output_type": "error",
     "traceback": [
      "\u001b[0;31m---------------------------------------------------------------------------\u001b[0m",
      "\u001b[0;31mValueError\u001b[0m                                Traceback (most recent call last)",
      "Cell \u001b[0;32mIn[10], line 6\u001b[0m\n\u001b[1;32m      3\u001b[0m _filter \u001b[39m=\u001b[39m LLMChainFilter\u001b[39m.\u001b[39mfrom_llm(llm)\n\u001b[1;32m      4\u001b[0m compression_retriever \u001b[39m=\u001b[39m ContextualCompressionRetriever(base_compressor\u001b[39m=\u001b[39m_filter, base_retriever\u001b[39m=\u001b[39mretriever)\n\u001b[0;32m----> 6\u001b[0m compressed_docs \u001b[39m=\u001b[39m compression_retriever\u001b[39m.\u001b[39;49mget_relevant_documents(\u001b[39m\"\u001b[39;49m\u001b[39mWhat is Flutter?\u001b[39;49m\u001b[39m\"\u001b[39;49m)\n\u001b[1;32m      7\u001b[0m pretty_print_docs(compressed_docs)\n",
      "File \u001b[0;32m~/ws/py/flutter-gpt-hf/venv/lib/python3.10/site-packages/langchain/retrievers/contextual_compression.py:37\u001b[0m, in \u001b[0;36mContextualCompressionRetriever.get_relevant_documents\u001b[0;34m(self, query)\u001b[0m\n\u001b[1;32m     28\u001b[0m \u001b[39m\u001b[39m\u001b[39m\"\"\"Get documents relevant for a query.\u001b[39;00m\n\u001b[1;32m     29\u001b[0m \n\u001b[1;32m     30\u001b[0m \u001b[39mArgs:\u001b[39;00m\n\u001b[0;32m   (...)\u001b[0m\n\u001b[1;32m     34\u001b[0m \u001b[39m    Sequence of relevant documents\u001b[39;00m\n\u001b[1;32m     35\u001b[0m \u001b[39m\"\"\"\u001b[39;00m\n\u001b[1;32m     36\u001b[0m docs \u001b[39m=\u001b[39m \u001b[39mself\u001b[39m\u001b[39m.\u001b[39mbase_retriever\u001b[39m.\u001b[39mget_relevant_documents(query)\n\u001b[0;32m---> 37\u001b[0m compressed_docs \u001b[39m=\u001b[39m \u001b[39mself\u001b[39;49m\u001b[39m.\u001b[39;49mbase_compressor\u001b[39m.\u001b[39;49mcompress_documents(docs, query)\n\u001b[1;32m     38\u001b[0m \u001b[39mreturn\u001b[39;00m \u001b[39mlist\u001b[39m(compressed_docs)\n",
      "File \u001b[0;32m~/ws/py/flutter-gpt-hf/venv/lib/python3.10/site-packages/langchain/retrievers/document_compressors/chain_filter.py:44\u001b[0m, in \u001b[0;36mLLMChainFilter.compress_documents\u001b[0;34m(self, documents, query)\u001b[0m\n\u001b[1;32m     42\u001b[0m \u001b[39mfor\u001b[39;00m doc \u001b[39min\u001b[39;00m documents:\n\u001b[1;32m     43\u001b[0m     _input \u001b[39m=\u001b[39m \u001b[39mself\u001b[39m\u001b[39m.\u001b[39mget_input(query, doc)\n\u001b[0;32m---> 44\u001b[0m     include_doc \u001b[39m=\u001b[39m \u001b[39mself\u001b[39;49m\u001b[39m.\u001b[39;49mllm_chain\u001b[39m.\u001b[39;49mpredict_and_parse(\u001b[39m*\u001b[39;49m\u001b[39m*\u001b[39;49m_input)\n\u001b[1;32m     45\u001b[0m     \u001b[39mif\u001b[39;00m include_doc:\n\u001b[1;32m     46\u001b[0m         filtered_docs\u001b[39m.\u001b[39mappend(doc)\n",
      "File \u001b[0;32m~/ws/py/flutter-gpt-hf/venv/lib/python3.10/site-packages/langchain/chains/llm.py:238\u001b[0m, in \u001b[0;36mLLMChain.predict_and_parse\u001b[0;34m(self, callbacks, **kwargs)\u001b[0m\n\u001b[1;32m    236\u001b[0m result \u001b[39m=\u001b[39m \u001b[39mself\u001b[39m\u001b[39m.\u001b[39mpredict(callbacks\u001b[39m=\u001b[39mcallbacks, \u001b[39m*\u001b[39m\u001b[39m*\u001b[39mkwargs)\n\u001b[1;32m    237\u001b[0m \u001b[39mif\u001b[39;00m \u001b[39mself\u001b[39m\u001b[39m.\u001b[39mprompt\u001b[39m.\u001b[39moutput_parser \u001b[39mis\u001b[39;00m \u001b[39mnot\u001b[39;00m \u001b[39mNone\u001b[39;00m:\n\u001b[0;32m--> 238\u001b[0m     \u001b[39mreturn\u001b[39;00m \u001b[39mself\u001b[39;49m\u001b[39m.\u001b[39;49mprompt\u001b[39m.\u001b[39;49moutput_parser\u001b[39m.\u001b[39;49mparse(result)\n\u001b[1;32m    239\u001b[0m \u001b[39melse\u001b[39;00m:\n\u001b[1;32m    240\u001b[0m     \u001b[39mreturn\u001b[39;00m result\n",
      "File \u001b[0;32m~/ws/py/flutter-gpt-hf/venv/lib/python3.10/site-packages/langchain/output_parsers/boolean.py:20\u001b[0m, in \u001b[0;36mBooleanOutputParser.parse\u001b[0;34m(self, text)\u001b[0m\n\u001b[1;32m     18\u001b[0m cleaned_text \u001b[39m=\u001b[39m text\u001b[39m.\u001b[39mstrip()\n\u001b[1;32m     19\u001b[0m \u001b[39mif\u001b[39;00m cleaned_text \u001b[39mnot\u001b[39;00m \u001b[39min\u001b[39;00m (\u001b[39mself\u001b[39m\u001b[39m.\u001b[39mtrue_val, \u001b[39mself\u001b[39m\u001b[39m.\u001b[39mfalse_val):\n\u001b[0;32m---> 20\u001b[0m     \u001b[39mraise\u001b[39;00m \u001b[39mValueError\u001b[39;00m(\n\u001b[1;32m     21\u001b[0m         \u001b[39mf\u001b[39m\u001b[39m\"\u001b[39m\u001b[39mBooleanOutputParser expected output value to either be \u001b[39m\u001b[39m\"\u001b[39m\n\u001b[1;32m     22\u001b[0m         \u001b[39mf\u001b[39m\u001b[39m\"\u001b[39m\u001b[39m{\u001b[39;00m\u001b[39mself\u001b[39m\u001b[39m.\u001b[39mtrue_val\u001b[39m}\u001b[39;00m\u001b[39m or \u001b[39m\u001b[39m{\u001b[39;00m\u001b[39mself\u001b[39m\u001b[39m.\u001b[39mfalse_val\u001b[39m}\u001b[39;00m\u001b[39m. Received \u001b[39m\u001b[39m{\u001b[39;00mcleaned_text\u001b[39m}\u001b[39;00m\u001b[39m.\u001b[39m\u001b[39m\"\u001b[39m\n\u001b[1;32m     23\u001b[0m     )\n\u001b[1;32m     24\u001b[0m \u001b[39mreturn\u001b[39;00m cleaned_text \u001b[39m==\u001b[39m \u001b[39mself\u001b[39m\u001b[39m.\u001b[39mtrue_val\n",
      "\u001b[0;31mValueError\u001b[0m: BooleanOutputParser expected output value to either be YES or NO. Received YES\nYes, the context provided in the conversation is relevant to the question about Fluter. Fluter is a framework for building cross-platform applications that uses the Dart programming language, which is a higher-level programming language that is often used for building mobile applications. Understanding differences between programming with Dart and JavaScript can provide insight into the advantages of using Dart for building cross-platform applications.."
     ]
    }
   ],
   "source": [
    "from langchain.retrievers.document_compressors import LLMChainFilter\n",
    "\n",
    "_filter = LLMChainFilter.from_llm(llm)\n",
    "compression_retriever = ContextualCompressionRetriever(base_compressor=_filter, base_retriever=retriever)\n",
    "\n",
    "compressed_docs = compression_retriever.get_relevant_documents(\"What is Flutter?\")\n",
    "pretty_print_docs(compressed_docs)"
   ]
  },
  {
   "attachments": {},
   "cell_type": "markdown",
   "id": "8c709598",
   "metadata": {},
   "source": [
    "### `EmbeddingsFilter`\n",
    "\n",
    "Making an extra LLM call over each retrieved document is expensive and slow. The `EmbeddingsFilter` provides a cheaper and faster option by embedding the documents and query and only returning those documents which have sufficiently similar embeddings to the query."
   ]
  },
  {
   "cell_type": "code",
   "execution_count": 6,
   "id": "6fbc801f",
   "metadata": {},
   "outputs": [
    {
     "name": "stdout",
     "output_type": "stream",
     "text": [
      "load INSTRUCTOR_Transformer\n",
      "max_seq_length  512\n",
      "Document 1:\n",
      "\n",
      "Flutter is a framework for building cross-platform applications\n",
      "that uses the Dart programming language.\n",
      "To understand some differences between programming with Dart\n",
      "and programming with Javascript, \n",
      "see Learning Dart as a JavaScript Developer.\n",
      "----------------------------------------------------------------------------------------------------\n",
      "Document 2:\n",
      "\n",
      "Flutter is a framework for building cross-platform applications\n",
      "that uses the Dart programming language.\n",
      "To understand some differences between programming with Dart\n",
      "and programming with Swift, see Learning Dart as a Swift Developer\n",
      "and Flutter concurrency for Swift developers.\n",
      "----------------------------------------------------------------------------------------------------\n",
      "Document 3:\n",
      "\n",
      "Flutter is a multi-paradigm programming environment.\n",
      "Many programming techniques developed over the past few decades\n",
      "are used in Flutter. We use each one where we believe\n",
      "the strengths of the technique make it particularly well-suited.\n",
      "In no particular order:\n"
     ]
    }
   ],
   "source": [
    "from langchain.retrievers.document_compressors import EmbeddingsFilter\n",
    "\n",
    "embeddings = HuggingFaceInstructEmbeddings(\n",
    "        model_name=\"hkunlp/instructor-large\")\n",
    "embeddings_filter = EmbeddingsFilter(embeddings=embeddings, similarity_threshold=0.76)\n",
    "compression_retriever = ContextualCompressionRetriever(base_compressor=embeddings_filter, base_retriever=retriever)\n",
    "\n",
    "compressed_docs = compression_retriever.get_relevant_documents(\"What is Flutter?\")\n",
    "pretty_print_docs(compressed_docs)"
   ]
  },
  {
   "attachments": {},
   "cell_type": "markdown",
   "id": "07365d36",
   "metadata": {},
   "source": [
    "# Stringing compressors and document transformers together\n",
    "Using the `DocumentCompressorPipeline` we can also easily combine multiple compressors in sequence. Along with compressors we can add `BaseDocumentTransformer`s to our pipeline, which don't perform any contextual compression but simply perform some transformation on a set of documents. For example `TextSplitter`s can be used as document transformers to split documents into smaller pieces, and the `EmbeddingsRedundantFilter` can be used to filter out redundant documents based on embedding similarity between documents.\n",
    "\n",
    "Below we create a compressor pipeline by first splitting our docs into smaller chunks, then removing redundant documents, and then filtering based on relevance to the query."
   ]
  },
  {
   "cell_type": "code",
   "execution_count": 7,
   "id": "2a150a63",
   "metadata": {},
   "outputs": [],
   "source": [
    "from langchain.document_transformers import EmbeddingsRedundantFilter\n",
    "from langchain.retrievers.document_compressors import DocumentCompressorPipeline\n",
    "from langchain.text_splitter import CharacterTextSplitter\n",
    "\n",
    "splitter = CharacterTextSplitter(chunk_size=300, chunk_overlap=0, separator=\". \")\n",
    "redundant_filter = EmbeddingsRedundantFilter(embeddings=embeddings)\n",
    "relevant_filter = EmbeddingsFilter(embeddings=embeddings, similarity_threshold=0.76)\n",
    "pipeline_compressor = DocumentCompressorPipeline(\n",
    "    transformers=[splitter, redundant_filter, relevant_filter]\n",
    ")"
   ]
  },
  {
   "cell_type": "code",
   "execution_count": 8,
   "id": "3ceab64a",
   "metadata": {},
   "outputs": [
    {
     "name": "stdout",
     "output_type": "stream",
     "text": [
      "Document 1:\n",
      "\n",
      "Flutter is a multi-paradigm programming environment.\n",
      "Many programming techniques developed over the past few decades\n",
      "are used in Flutter. We use each one where we believe\n",
      "the strengths of the technique make it particularly well-suited.\n",
      "In no particular order:\n"
     ]
    }
   ],
   "source": [
    "compression_retriever = ContextualCompressionRetriever(base_compressor=pipeline_compressor, base_retriever=retriever)\n",
    "\n",
    "compressed_docs = compression_retriever.get_relevant_documents(\"What is Flutter?\")\n",
    "pretty_print_docs(compressed_docs)"
   ]
  },
  {
   "cell_type": "code",
   "execution_count": null,
   "id": "8cfd9fc5",
   "metadata": {},
   "outputs": [],
   "source": []
  }
 ],
 "metadata": {
  "kernelspec": {
   "display_name": "Python 3 (ipykernel)",
   "language": "python",
   "name": "python3"
  },
  "language_info": {
   "codemirror_mode": {
    "name": "ipython",
    "version": 3
   },
   "file_extension": ".py",
   "mimetype": "text/x-python",
   "name": "python",
   "nbconvert_exporter": "python",
   "pygments_lexer": "ipython3",
   "version": "3.10.6"
  }
 },
 "nbformat": 4,
 "nbformat_minor": 5
}
